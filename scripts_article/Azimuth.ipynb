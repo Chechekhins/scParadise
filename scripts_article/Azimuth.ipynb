{
 "cells": [
  {
   "cell_type": "code",
   "execution_count": 1,
   "id": "7c7a6ff9-935b-40c5-b302-720916cbbfbe",
   "metadata": {},
   "outputs": [
    {
     "name": "stderr",
     "output_type": "stream",
     "text": [
      "/home/vadim/anaconda3/envs/scrna_rapids/lib/python3.11/site-packages/optuna/study/_optimize.py:20: TqdmWarning: IProgress not found. Please update jupyter and ipywidgets. See https://ipywidgets.readthedocs.io/en/stable/user_install.html\n",
      "  from optuna import progress_bar as pbar_module\n"
     ]
    }
   ],
   "source": [
    "import scanpy as sc\n",
    "import scparadise\n",
    "import muon as mu\n",
    "import pandas as pd\n",
    "import os\n",
    "import warnings \n",
    "warnings.simplefilter('ignore')"
   ]
  },
  {
   "cell_type": "code",
   "execution_count": 3,
   "id": "c725b7b9-4e92-4490-803c-4bda9a8c43a5",
   "metadata": {},
   "outputs": [],
   "source": [
    "# Load normalized integrated data\n",
    "mdata = mu.read_h5mu('/mnt/c/Users/vadim/Desktop/R/PBMC_ref/CITEseq/3p/mdata_unintegrated.h5mu')"
   ]
  },
  {
   "cell_type": "code",
   "execution_count": 3,
   "id": "64e17440-449c-4d51-a6ba-a5d7659e609b",
   "metadata": {},
   "outputs": [],
   "source": [
    "# Select RNA modality from MuData object (mdata)\n",
    "adata = mdata.mod['rna'].copy()\n",
    "del mdata"
   ]
  },
  {
   "cell_type": "code",
   "execution_count": 4,
   "id": "3e67b35a-ed83-4e5c-90d1-862ec2f03869",
   "metadata": {},
   "outputs": [],
   "source": [
    "# Create lists with paired samples and annotation levels\n",
    "lst_test = ['P1_3_P3_3', 'P1_7_P8_3', 'P2_3_P4_7', 'P2_7_P6_3', 'P3_7_P7_3', 'P4_3_P7_7', 'P5_3_P8_7', 'P5_7_P6_7']"
   ]
  },
  {
   "cell_type": "code",
   "execution_count": 5,
   "id": "659a041e-3985-4cc3-8c8d-cecd044e10bb",
   "metadata": {},
   "outputs": [
    {
     "name": "stdout",
     "output_type": "stream",
     "text": [
      "Successfully saved report\n",
      "\n",
      "Successfully saved report\n",
      "\n",
      "Successfully saved report\n",
      "\n",
      "Successfully saved report\n",
      "\n",
      "Successfully saved report\n",
      "\n",
      "Successfully saved report\n",
      "\n",
      "Successfully saved report\n",
      "\n",
      "Successfully saved report\n",
      "\n",
      "Successfully saved report\n",
      "\n",
      "Successfully saved report\n",
      "\n",
      "Successfully saved report\n",
      "\n",
      "Successfully saved report\n",
      "\n",
      "Successfully saved report\n",
      "\n",
      "Successfully saved report\n",
      "\n",
      "Successfully saved report\n",
      "\n",
      "Successfully saved report\n",
      "\n",
      "Successfully saved report\n",
      "\n",
      "Successfully saved report\n",
      "\n",
      "Successfully saved report\n",
      "\n",
      "Successfully saved report\n",
      "\n",
      "Successfully saved report\n",
      "\n",
      "Successfully saved report\n",
      "\n",
      "Successfully saved report\n",
      "\n",
      "Successfully saved report\n",
      "\n"
     ]
    }
   ],
   "source": [
    "for folder in lst_test:\n",
    "    # Create adata_test - 2 samples of 2 donors from integrated adata object (8 donors, 24 samples)\n",
    "    adata_test = adata[adata.obs['orig.ident'].isin([folder[0:4], folder[5:9]])].copy()\n",
    "    # Load metadata predicted using Azimuth \n",
    "    meta = pd.read_csv(os.path.join('/mnt/c/Users/vadim/scRNA/scParadise/scAdam/PBMC/3p/Azimuth/reports_small/', folder, 'meta.csv'), index_col=0)\n",
    "    # Add metadata to adata_test object\n",
    "    adata_test.obs = meta\n",
    "    # Create and save classification report of annotation levels\n",
    "    scparadise.scnoah.report_classif_full(adata_test, \n",
    "                                          celltype = 'celltype_l1', \n",
    "                                          pred_celltype='predicted.celltype_l1', \n",
    "                                          report_name = 'report_test_Azimuth_3000_celltype_l1.csv',\n",
    "                                          save_path = os.path.join('/mnt/c/Users/vadim/scRNA/scParadise/scAdam/PBMC/3p/Azimuth/reports_small/', folder),\n",
    "                                          save_report=True)\n",
    "    scparadise.scnoah.report_classif_full(adata_test, \n",
    "                                          celltype = 'celltype_l2', \n",
    "                                          pred_celltype='predicted.celltype_l2', \n",
    "                                          report_name = 'report_test_Azimuth_3000_celltype_l2.csv',\n",
    "                                          save_path = os.path.join('/mnt/c/Users/vadim/scRNA/scParadise/scAdam/PBMC/3p/Azimuth/reports_small/', folder),\n",
    "                                          save_report=True)\n",
    "    scparadise.scnoah.report_classif_full(adata_test, \n",
    "                                          celltype = 'celltype_l3', \n",
    "                                          pred_celltype='predicted.celltype_l3', \n",
    "                                          report_name = 'report_test_Azimuth_3000_celltype_l3.csv',\n",
    "                                          save_path = os.path.join('/mnt/c/Users/vadim/scRNA/scParadise/scAdam/PBMC/3p/Azimuth/reports_small/', folder),\n",
    "                                          save_report=True)"
   ]
  },
  {
   "cell_type": "code",
   "execution_count": 6,
   "id": "c165ae79-1424-43d0-8884-4bfb00b0814a",
   "metadata": {},
   "outputs": [
    {
     "name": "stdout",
     "output_type": "stream",
     "text": [
      "Successfully saved report\n",
      "\n",
      "Successfully saved report\n",
      "\n",
      "Successfully saved report\n",
      "\n",
      "Successfully saved report\n",
      "\n",
      "Successfully saved report\n",
      "\n",
      "Successfully saved report\n",
      "\n",
      "Successfully saved report\n",
      "\n",
      "Successfully saved report\n",
      "\n"
     ]
    }
   ],
   "source": [
    "for folder in lst_test:\n",
    "    # Load adata_adt_test - 2 samples of 2 donors from integrated adata object (8 donors, 24 samples)\n",
    "    adata_adt_test = sc.read_10x_h5(os.path.join('/mnt/c/Users/vadim/scRNA/scParadise/scAdam/PBMC/3p/Azimuth/reports_small', folder, 'ADT_matrix.h5'))\n",
    "    # Load adata_adt_pred - adt predicted by Azimuth\n",
    "    adata_adt_pred = sc.read_10x_h5(os.path.join('/mnt/c/Users/vadim/scRNA/scParadise/scAdam/PBMC/3p/Azimuth/reports_small', folder, 'impADT_matrix.h5'))\n",
    "    # Create and save classification report of annotation levels\n",
    "    scparadise.scnoah.report_reg(adata_prot = adata_adt_test, \n",
    "                                 adata_pred_prot = adata_adt_pred,\n",
    "                                 report_name = folder + '_report_Azimuth_3000.csv',\n",
    "                                 save_path = '/mnt/c/Users/vadim/scRNA/scParadise/scEVE/PBMC/3p/Azimuth/reports_small/',\n",
    "                                 save_report=True)"
   ]
  },
  {
   "cell_type": "code",
   "execution_count": null,
   "id": "9351df10-451c-4075-9d23-bf9f0c8290ce",
   "metadata": {},
   "outputs": [],
   "source": []
  }
 ],
 "metadata": {
  "kernelspec": {
   "display_name": "Python 3 (ipykernel)",
   "language": "python",
   "name": "python3"
  },
  "language_info": {
   "codemirror_mode": {
    "name": "ipython",
    "version": 3
   },
   "file_extension": ".py",
   "mimetype": "text/x-python",
   "name": "python",
   "nbconvert_exporter": "python",
   "pygments_lexer": "ipython3",
   "version": "3.11.9"
  }
 },
 "nbformat": 4,
 "nbformat_minor": 5
}
