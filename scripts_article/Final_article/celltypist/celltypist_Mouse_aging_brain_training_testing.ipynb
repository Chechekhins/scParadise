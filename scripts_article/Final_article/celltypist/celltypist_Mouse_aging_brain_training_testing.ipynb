{
 "cells": [
  {
   "cell_type": "code",
   "execution_count": 1,
   "id": "9b6735bb-883b-481b-a169-a142ba469d7f",
   "metadata": {},
   "outputs": [],
   "source": [
    "import warnings \n",
    "warnings.simplefilter('ignore')\n",
    "\n",
    "import celltypist\n",
    "import scparadise\n",
    "import scanpy as sc\n",
    "import pandas as pd\n",
    "import os"
   ]
  },
  {
   "cell_type": "code",
   "execution_count": 2,
   "id": "71cc45b8-6c0c-4da9-bb0c-d47760e8e2f8",
   "metadata": {},
   "outputs": [],
   "source": [
    "# Load normalized integrated data\n",
    "adata = sc.read_h5ad('Mouse_aging_brain/adata_unintegrated.h5ad')"
   ]
  },
  {
   "cell_type": "code",
   "execution_count": 3,
   "id": "dc8936ab-98bc-4515-8d51-186fe752f36e",
   "metadata": {},
   "outputs": [],
   "source": [
    "# Subset anndata object based on a selected marker genes\n",
    "genes = pd.read_csv('Mouse_aging_brain/genes_for_AI.csv')\n",
    "adata = adata[:, genes.genes].copy()"
   ]
  },
  {
   "cell_type": "code",
   "execution_count": 4,
   "id": "aa32b370-d926-48fb-95cd-1ce9dcbec161",
   "metadata": {},
   "outputs": [],
   "source": [
    "# Normalized expression to 10000 counts per cell (operating condition of the celltypist tool)\n",
    "sc.pp.normalize_total(adata, target_sum = 10000)\n",
    "sc.pp.log1p(adata)"
   ]
  },
  {
   "cell_type": "code",
   "execution_count": 5,
   "id": "bcf53910-c548-4d45-be3e-ae96f7ef885b",
   "metadata": {},
   "outputs": [],
   "source": [
    "# Create dataset for model training\n",
    "adata_train = adata[adata.obs['orig.ident'].isin(['old1', 'oldex1', 'oldex2', 'young2'])].copy()"
   ]
  },
  {
   "cell_type": "code",
   "execution_count": 6,
   "id": "c93eefc0-3f1d-49d2-a93a-fec5e72d1e75",
   "metadata": {},
   "outputs": [
    {
     "name": "stderr",
     "output_type": "stream",
     "text": [
      "🍳 Preparing data before training\n",
      "🔬 Input data has 27038 cells and 668 genes\n",
      "⚖️ Scaling input data\n",
      "🏋️ Training data using logistic regression\n",
      "✅ Model training done!\n"
     ]
    }
   ],
   "source": [
    "# Train and save model\n",
    "# Training step\n",
    "model = celltypist.train(adata_train, labels = 'Celltype', feature_selection = False, n_jobs=12)\n",
    "# Save the model\n",
    "model.write('Mouse_aging_brain/celltypist/models/Celltype.pkl')"
   ]
  },
  {
   "cell_type": "code",
   "execution_count": 7,
   "id": "b7dabd76-220c-443d-913d-2849980b866b",
   "metadata": {},
   "outputs": [],
   "source": [
    "# Create list of test datasets\n",
    "lst_test = ['young4', 'old2', 'old4', 'young1', 'oldex4']"
   ]
  },
  {
   "cell_type": "code",
   "execution_count": 9,
   "id": "d4e3259b-0427-4749-8375-917f13f9674d",
   "metadata": {},
   "outputs": [
    {
     "name": "stderr",
     "output_type": "stream",
     "text": [
      "🔬 Input data has 15019 cells and 668 genes\n",
      "🔗 Matching reference genes in the model\n",
      "🧬 668 features used for prediction\n",
      "⚖️ Scaling input data\n",
      "🖋️ Predicting labels\n",
      "✅ Prediction done!\n",
      "👀 Can not detect a neighborhood graph, will construct one before the over-clustering\n",
      "⛓️ Over-clustering input data with resolution set to 10\n",
      "🗳️ Majority voting the predictions\n",
      "✅ Majority voting done!\n",
      "🔬 Input data has 5932 cells and 668 genes\n",
      "🔗 Matching reference genes in the model\n",
      "🧬 668 features used for prediction\n",
      "⚖️ Scaling input data\n"
     ]
    },
    {
     "name": "stdout",
     "output_type": "stream",
     "text": [
      "Successfully saved report\n",
      "\n"
     ]
    },
    {
     "name": "stderr",
     "output_type": "stream",
     "text": [
      "🖋️ Predicting labels\n",
      "✅ Prediction done!\n",
      "👀 Can not detect a neighborhood graph, will construct one before the over-clustering\n",
      "⛓️ Over-clustering input data with resolution set to 10\n",
      "🗳️ Majority voting the predictions\n",
      "✅ Majority voting done!\n",
      "🔬 Input data has 5497 cells and 668 genes\n",
      "🔗 Matching reference genes in the model\n"
     ]
    },
    {
     "name": "stdout",
     "output_type": "stream",
     "text": [
      "Successfully saved report\n",
      "\n"
     ]
    },
    {
     "name": "stderr",
     "output_type": "stream",
     "text": [
      "🧬 668 features used for prediction\n",
      "⚖️ Scaling input data\n",
      "🖋️ Predicting labels\n",
      "✅ Prediction done!\n",
      "👀 Can not detect a neighborhood graph, will construct one before the over-clustering\n",
      "⛓️ Over-clustering input data with resolution set to 10\n",
      "🗳️ Majority voting the predictions\n",
      "✅ Majority voting done!\n"
     ]
    },
    {
     "name": "stdout",
     "output_type": "stream",
     "text": [
      "Successfully saved report\n",
      "\n"
     ]
    },
    {
     "name": "stderr",
     "output_type": "stream",
     "text": [
      "🔬 Input data has 7393 cells and 668 genes\n",
      "🔗 Matching reference genes in the model\n",
      "🧬 668 features used for prediction\n",
      "⚖️ Scaling input data\n",
      "🖋️ Predicting labels\n",
      "✅ Prediction done!\n",
      "👀 Can not detect a neighborhood graph, will construct one before the over-clustering\n",
      "⛓️ Over-clustering input data with resolution set to 10\n",
      "🗳️ Majority voting the predictions\n",
      "✅ Majority voting done!\n"
     ]
    },
    {
     "name": "stdout",
     "output_type": "stream",
     "text": [
      "Successfully saved report\n",
      "\n"
     ]
    },
    {
     "name": "stderr",
     "output_type": "stream",
     "text": [
      "🔬 Input data has 11664 cells and 668 genes\n",
      "🔗 Matching reference genes in the model\n",
      "🧬 668 features used for prediction\n",
      "⚖️ Scaling input data\n",
      "🖋️ Predicting labels\n",
      "✅ Prediction done!\n",
      "👀 Can not detect a neighborhood graph, will construct one before the over-clustering\n",
      "⛓️ Over-clustering input data with resolution set to 10\n",
      "🗳️ Majority voting the predictions\n",
      "✅ Majority voting done!\n"
     ]
    },
    {
     "name": "stdout",
     "output_type": "stream",
     "text": [
      "Successfully saved report\n",
      "\n"
     ]
    }
   ],
   "source": [
    "for folder in lst_test:\n",
    "    os.makedirs(os.path.join('Mouse_aging_brain/celltypist/reports', folder))\n",
    "    adata_test = adata[adata.obs['orig.ident'].isin([folder])].copy()\n",
    "    # Prediction step using pretrained models\n",
    "    predictions = celltypist.annotate(adata_test, model = os.path.join('Mouse_aging_brain/celltypist/models/Celltype.pkl'), majority_voting = True)\n",
    "    adata_test = predictions.to_adata()\n",
    "    scparadise.scnoah.report_classif_full(adata_test, \n",
    "                                          celltype = 'Celltype', \n",
    "                                          pred_celltype = 'majority_voting', \n",
    "                                          report_name = 'report_celltypist_celltype_l1.csv',\n",
    "                                          save_path = os.path.join('Mouse_aging_brain/celltypist/reports', folder),\n",
    "                                          save_report = True)"
   ]
  },
  {
   "cell_type": "code",
   "execution_count": 10,
   "id": "e75c5ddd-5899-4930-84a9-1874b777f327",
   "metadata": {},
   "outputs": [
    {
     "data": {
      "text/html": [
       "<details>\n",
       "<summary>Click to view session information</summary>\n",
       "<pre>\n",
       "-----\n",
       "anndata             0.10.8\n",
       "celltypist          1.6.3\n",
       "pandas              2.2.2\n",
       "scanpy              1.10.2\n",
       "scparadise          0.3.2_beta\n",
       "session_info        1.0.0\n",
       "-----\n",
       "</pre>\n",
       "<details>\n",
       "<summary>Click to view modules imported as dependencies</summary>\n",
       "<pre>\n",
       "PIL                         10.4.0\n",
       "anyio                       NA\n",
       "arrow                       1.3.0\n",
       "asttokens                   NA\n",
       "attr                        23.2.0\n",
       "attrs                       23.2.0\n",
       "babel                       2.15.0\n",
       "certifi                     2024.07.04\n",
       "cffi                        1.16.0\n",
       "charset_normalizer          3.3.2\n",
       "cloudpickle                 3.1.1\n",
       "colorlog                    NA\n",
       "comm                        0.2.2\n",
       "cycler                      0.12.1\n",
       "cython_runtime              NA\n",
       "dateutil                    2.9.0.post0\n",
       "debugpy                     1.8.2\n",
       "decorator                   5.1.1\n",
       "defusedxml                  0.7.1\n",
       "exceptiongroup              1.2.2\n",
       "executing                   2.0.1\n",
       "fastjsonschema              NA\n",
       "fqdn                        NA\n",
       "fsspec                      2024.6.1\n",
       "h5py                        3.11.0\n",
       "idna                        3.7\n",
       "igraph                      0.11.6\n",
       "imblearn                    0.12.3\n",
       "importlib_metadata          NA\n",
       "importlib_resources         NA\n",
       "ipykernel                   6.29.5\n",
       "isoduration                 NA\n",
       "jedi                        0.19.1\n",
       "jinja2                      3.1.4\n",
       "joblib                      1.4.2\n",
       "json5                       0.9.25\n",
       "jsonpointer                 3.0.0\n",
       "jsonschema                  4.23.0\n",
       "jsonschema_specifications   NA\n",
       "jupyter_events              0.10.0\n",
       "jupyter_server              2.14.2\n",
       "jupyterlab_server           2.27.3\n",
       "kiwisolver                  1.4.5\n",
       "legacy_api_wrap             NA\n",
       "leidenalg                   0.10.2\n",
       "llvmlite                    0.43.0\n",
       "markupsafe                  2.1.5\n",
       "matplotlib                  3.9.1\n",
       "mpl_toolkits                NA\n",
       "mudata                      0.2.4\n",
       "muon                        0.1.6\n",
       "natsort                     8.4.0\n",
       "nbformat                    5.10.4\n",
       "numba                       0.60.0\n",
       "numpy                       1.25.0\n",
       "optuna                      3.6.1\n",
       "overrides                   NA\n",
       "packaging                   24.1\n",
       "parso                       0.8.4\n",
       "patsy                       0.5.6\n",
       "pexpect                     4.9.0\n",
       "platformdirs                4.2.2\n",
       "prometheus_client           NA\n",
       "prompt_toolkit              3.0.47\n",
       "psutil                      6.0.0\n",
       "ptyprocess                  0.7.0\n",
       "pure_eval                   0.2.3\n",
       "pycparser                   2.22\n",
       "pydev_ipython               NA\n",
       "pydevconsole                NA\n",
       "pydevd                      2.9.5\n",
       "pydevd_file_utils           NA\n",
       "pydevd_plugins              NA\n",
       "pydevd_tracing              NA\n",
       "pygments                    2.18.0\n",
       "pynndescent                 0.5.13\n",
       "pyparsing                   3.1.2\n",
       "pythonjsonlogger            NA\n",
       "pytorch_tabnet              NA\n",
       "pytz                        2024.1\n",
       "referencing                 NA\n",
       "requests                    2.32.3\n",
       "rfc3339_validator           0.1.4\n",
       "rfc3986_validator           0.1.1\n",
       "rpds                        NA\n",
       "scipy                       1.13.1\n",
       "seaborn                     0.13.2\n",
       "send2trash                  NA\n",
       "shap                        0.46.0\n",
       "six                         1.16.0\n",
       "sklearn                     1.5.1\n",
       "slicer                      NA\n",
       "sniffio                     1.3.1\n",
       "stack_data                  0.6.3\n",
       "statsmodels                 0.14.2\n",
       "texttable                   1.7.0\n",
       "threadpoolctl               3.5.0\n",
       "torch                       2.3.1+cu121\n",
       "torchgen                    NA\n",
       "tornado                     6.4.1\n",
       "tqdm                        4.66.4\n",
       "traitlets                   5.14.3\n",
       "typing_extensions           NA\n",
       "umap                        0.5.6\n",
       "uri_template                NA\n",
       "urllib3                     2.2.2\n",
       "wcwidth                     0.2.13\n",
       "webcolors                   24.6.0\n",
       "websocket                   1.8.0\n",
       "yaml                        6.0.1\n",
       "zipp                        NA\n",
       "zmq                         26.0.3\n",
       "zoneinfo                    NA\n",
       "</pre>\n",
       "</details> <!-- seems like this ends pre, so might as well be explicit -->\n",
       "<pre>\n",
       "-----\n",
       "IPython             8.18.1\n",
       "jupyter_client      8.6.2\n",
       "jupyter_core        5.7.2\n",
       "jupyterlab          4.2.4\n",
       "-----\n",
       "Python 3.9.19 (main, May  6 2024, 19:43:03) [GCC 11.2.0]\n",
       "Linux-5.15.167.4-microsoft-standard-WSL2-x86_64-with-glibc2.35\n",
       "-----\n",
       "Session information updated at 2025-02-05 01:43\n",
       "</pre>\n",
       "</details>"
      ],
      "text/plain": [
       "<IPython.core.display.HTML object>"
      ]
     },
     "execution_count": 10,
     "metadata": {},
     "output_type": "execute_result"
    }
   ],
   "source": [
    "import session_info\n",
    "session_info.show()"
   ]
  }
 ],
 "metadata": {
  "kernelspec": {
   "display_name": "Python 3 (ipykernel)",
   "language": "python",
   "name": "python3"
  },
  "language_info": {
   "codemirror_mode": {
    "name": "ipython",
    "version": 3
   },
   "file_extension": ".py",
   "mimetype": "text/x-python",
   "name": "python",
   "nbconvert_exporter": "python",
   "pygments_lexer": "ipython3",
   "version": "3.9.19"
  }
 },
 "nbformat": 4,
 "nbformat_minor": 5
}
