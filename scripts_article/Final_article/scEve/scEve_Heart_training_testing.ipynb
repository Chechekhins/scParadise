{
 "cells": [
  {
   "cell_type": "code",
   "execution_count": 1,
   "id": "25668421-5bbd-413e-a901-916cab2b909f",
   "metadata": {},
   "outputs": [],
   "source": [
    "import warnings \n",
    "warnings.simplefilter('ignore')\n",
    "\n",
    "import scanpy as sc\n",
    "import muon as mu\n",
    "import scparadise\n",
    "import pandas as pd\n",
    "import os"
   ]
  },
  {
   "cell_type": "code",
   "execution_count": 2,
   "id": "0b66addd-0e6a-457d-88d3-3bb09e6e337c",
   "metadata": {},
   "outputs": [],
   "source": [
    "# Load normalized integrated data\n",
    "mdata = mu.read_h5mu('Heart_3p_CITE/mdata_unintegrated_annotated.h5mu')"
   ]
  },
  {
   "cell_type": "code",
   "execution_count": 3,
   "id": "a3229c49-3c68-4a90-a1a3-eac39463fa94",
   "metadata": {},
   "outputs": [],
   "source": [
    "# Subset anndata object based on a selected marker genes\n",
    "genes = pd.read_csv('Heart_3p_CITE/genes_for_AI.csv')\n",
    "mdata.mod['rna'] = mdata.mod['rna'][:, genes.genes].copy()\n",
    "mdata.update()\n",
    "mdata = mdata[mdata.obs['celltype_l2'] != 'classical DC1']\n",
    "mdata = mdata[mdata.obs['celltype_l2'] != 'Neutrophil']\n",
    "mdata = mdata[mdata.obs['celltype_l2'] != 'plasmacytoid DC']\n",
    "mdata = mdata[mdata.obs['celltype_l2'] != 'ILC']\n",
    "mdata = mdata[mdata.obs['celltype_l2'] != 'proliferating T']"
   ]
  },
  {
   "cell_type": "code",
   "execution_count": 4,
   "id": "567381e2-38e7-40f7-b5a3-8f07a9dd9c91",
   "metadata": {},
   "outputs": [],
   "source": [
    "# Create list of samples to leave in reference train dataset\n",
    "lst_reference = [12, 13, 17, 27, 28, 29, 30, 32, 39, 42]"
   ]
  },
  {
   "cell_type": "code",
   "execution_count": 5,
   "id": "2866a243-c8f7-4e39-ac56-a4e697e01f52",
   "metadata": {},
   "outputs": [],
   "source": [
    "# Create mdata_train\n",
    "mdata_train = mdata[mdata.obs['orig.ident'].isin(lst_reference)].copy()"
   ]
  },
  {
   "cell_type": "code",
   "execution_count": 6,
   "id": "12a47fa6-1dc4-4662-895d-4f1363eec5ea",
   "metadata": {
    "scrolled": true
   },
   "outputs": [
    {
     "name": "stdout",
     "output_type": "stream",
     "text": [
      "Successfully saved genes names for training model\n",
      "\n",
      "Successfully saved proteins names for training model\n",
      "\n",
      "Train dataset contains: 57832 cells, it is 90.0 % of input dataset\n",
      "Test dataset contains: 6426 cells, it is 10.0 % of input dataset\n",
      "\n",
      "Accelerator: cuda\n",
      "Start training\n",
      "epoch 0  | loss: 0.41689 | train_rmse: 0.47679999470710754| valid_rmse: 0.47773998975753784|  0:00:04s\n",
      "epoch 1  | loss: 0.16476 | train_rmse: 0.4636099934577942| valid_rmse: 0.46404001116752625|  0:00:07s\n",
      "epoch 2  | loss: 0.15055 | train_rmse: 0.4341999888420105| valid_rmse: 0.43428999185562134|  0:00:11s\n",
      "epoch 3  | loss: 0.13819 | train_rmse: 0.42858999967575073| valid_rmse: 0.42868998646736145|  0:00:15s\n",
      "epoch 4  | loss: 0.13554 | train_rmse: 0.424919992685318| valid_rmse: 0.42469000816345215|  0:00:18s\n",
      "epoch 5  | loss: 0.13478 | train_rmse: 0.4239400029182434| valid_rmse: 0.42375999689102173|  0:00:22s\n",
      "epoch 6  | loss: 0.13347 | train_rmse: 0.42236000299453735| valid_rmse: 0.4221400022506714|  0:00:26s\n",
      "epoch 7  | loss: 0.13227 | train_rmse: 0.42041999101638794| valid_rmse: 0.42010998725891113|  0:00:30s\n",
      "epoch 8  | loss: 0.13172 | train_rmse: 0.41857001185417175| valid_rmse: 0.4183099865913391|  0:00:33s\n",
      "epoch 9  | loss: 0.13078 | train_rmse: 0.4181399941444397| valid_rmse: 0.417820006608963|  0:00:37s\n",
      "epoch 10 | loss: 0.13059 | train_rmse: 0.41738998889923096| valid_rmse: 0.4170700013637543|  0:00:40s\n",
      "epoch 11 | loss: 0.12999 | train_rmse: 0.4168199896812439| valid_rmse: 0.4165799915790558|  0:00:44s\n",
      "epoch 12 | loss: 0.12904 | train_rmse: 0.4171999990940094| valid_rmse: 0.41679999232292175|  0:00:48s\n",
      "epoch 13 | loss: 0.12931 | train_rmse: 0.4184899926185608| valid_rmse: 0.4186199903488159|  0:00:51s\n",
      "epoch 14 | loss: 0.12965 | train_rmse: 0.4149700105190277| valid_rmse: 0.4150199890136719|  0:00:55s\n",
      "epoch 15 | loss: 0.1285  | train_rmse: 0.41554999351501465| valid_rmse: 0.4155200123786926|  0:00:58s\n",
      "epoch 16 | loss: 0.12785 | train_rmse: 0.41409000754356384| valid_rmse: 0.414249986410141|  0:01:02s\n",
      "epoch 17 | loss: 0.1277  | train_rmse: 0.4144800007343292| valid_rmse: 0.41449999809265137|  0:01:05s\n",
      "epoch 18 | loss: 0.12775 | train_rmse: 0.414900004863739| valid_rmse: 0.41516000032424927|  0:01:09s\n",
      "epoch 19 | loss: 0.12748 | train_rmse: 0.4144900143146515| valid_rmse: 0.41488000750541687|  0:01:13s\n",
      "epoch 20 | loss: 0.12691 | train_rmse: 0.41321998834609985| valid_rmse: 0.41356000304222107|  0:01:16s\n",
      "epoch 21 | loss: 0.12689 | train_rmse: 0.4130899906158447| valid_rmse: 0.4134100079536438|  0:01:20s\n",
      "epoch 22 | loss: 0.12681 | train_rmse: 0.41245999932289124| valid_rmse: 0.41290000081062317|  0:01:24s\n",
      "epoch 23 | loss: 0.12673 | train_rmse: 0.4128499925136566| valid_rmse: 0.41367998719215393|  0:01:27s\n",
      "epoch 24 | loss: 0.12645 | train_rmse: 0.4119400084018707| valid_rmse: 0.412339985370636|  0:01:31s\n",
      "epoch 25 | loss: 0.12613 | train_rmse: 0.411080002784729| valid_rmse: 0.41161999106407166|  0:01:34s\n",
      "epoch 26 | loss: 0.12605 | train_rmse: 0.4113900065422058| valid_rmse: 0.4119200110435486|  0:01:38s\n",
      "epoch 27 | loss: 0.12615 | train_rmse: 0.4109399914741516| valid_rmse: 0.41161999106407166|  0:01:42s\n",
      "epoch 28 | loss: 0.12588 | train_rmse: 0.41172000765800476| valid_rmse: 0.41255998611450195|  0:01:45s\n",
      "epoch 29 | loss: 0.12552 | train_rmse: 0.4106299877166748| valid_rmse: 0.4116800129413605|  0:01:49s\n",
      "epoch 30 | loss: 0.12481 | train_rmse: 0.4099699854850769| valid_rmse: 0.41113001108169556|  0:01:53s\n",
      "epoch 31 | loss: 0.12494 | train_rmse: 0.4094099998474121| valid_rmse: 0.4105199873447418|  0:01:56s\n",
      "epoch 32 | loss: 0.12414 | train_rmse: 0.40968000888824463| valid_rmse: 0.4106599986553192|  0:02:00s\n",
      "epoch 33 | loss: 0.12424 | train_rmse: 0.40966999530792236| valid_rmse: 0.4106900095939636|  0:02:04s\n",
      "epoch 34 | loss: 0.12445 | train_rmse: 0.4118199944496155| valid_rmse: 0.41280001401901245|  0:02:08s\n",
      "epoch 35 | loss: 0.1248  | train_rmse: 0.4084399938583374| valid_rmse: 0.40974000096321106|  0:02:11s\n",
      "epoch 36 | loss: 0.12432 | train_rmse: 0.40887999534606934| valid_rmse: 0.41005998849868774|  0:02:14s\n",
      "epoch 37 | loss: 0.12456 | train_rmse: 0.40799999237060547| valid_rmse: 0.4094099998474121|  0:02:18s\n",
      "epoch 38 | loss: 0.12401 | train_rmse: 0.4080300033092499| valid_rmse: 0.4096600115299225|  0:02:22s\n",
      "epoch 39 | loss: 0.12417 | train_rmse: 0.4083000123500824| valid_rmse: 0.4100399911403656|  0:02:25s\n",
      "epoch 40 | loss: 0.12408 | train_rmse: 0.4078400135040283| valid_rmse: 0.40957000851631165|  0:02:29s\n",
      "epoch 41 | loss: 0.1241  | train_rmse: 0.40768998861312866| valid_rmse: 0.40961000323295593|  0:02:33s\n",
      "epoch 42 | loss: 0.12359 | train_rmse: 0.4065600037574768| valid_rmse: 0.4087199866771698|  0:02:36s\n",
      "epoch 43 | loss: 0.12346 | train_rmse: 0.40672001242637634| valid_rmse: 0.40876999497413635|  0:02:40s\n",
      "epoch 44 | loss: 0.12359 | train_rmse: 0.4063900113105774| valid_rmse: 0.40876999497413635|  0:02:44s\n",
      "epoch 45 | loss: 0.12336 | train_rmse: 0.4068000018596649| valid_rmse: 0.40933001041412354|  0:02:48s\n",
      "epoch 46 | loss: 0.12332 | train_rmse: 0.4062199890613556| valid_rmse: 0.40869998931884766|  0:02:51s\n",
      "epoch 47 | loss: 0.12388 | train_rmse: 0.4060699939727783| valid_rmse: 0.4089600145816803|  0:02:55s\n",
      "epoch 48 | loss: 0.1231  | train_rmse: 0.4055599868297577| valid_rmse: 0.4083000123500824|  0:02:59s\n",
      "epoch 49 | loss: 0.12252 | train_rmse: 0.40525999665260315| valid_rmse: 0.40838000178337097|  0:03:03s\n",
      "epoch 50 | loss: 0.12268 | train_rmse: 0.40547001361846924| valid_rmse: 0.40904000401496887|  0:03:06s\n",
      "epoch 51 | loss: 0.12288 | train_rmse: 0.40481001138687134| valid_rmse: 0.4085400104522705|  0:03:10s\n",
      "epoch 52 | loss: 0.12283 | train_rmse: 0.40478000044822693| valid_rmse: 0.408270001411438|  0:03:14s\n",
      "epoch 53 | loss: 0.12281 | train_rmse: 0.40439000725746155| valid_rmse: 0.4083299934864044|  0:03:18s\n",
      "epoch 54 | loss: 0.12202 | train_rmse: 0.4045799970626831| valid_rmse: 0.4083400070667267|  0:03:22s\n",
      "epoch 55 | loss: 0.12185 | train_rmse: 0.4041700065135956| valid_rmse: 0.4081200063228607|  0:03:25s\n",
      "epoch 56 | loss: 0.12195 | train_rmse: 0.40411999821662903| valid_rmse: 0.40834999084472656|  0:03:29s\n",
      "epoch 57 | loss: 0.12242 | train_rmse: 0.4043700098991394| valid_rmse: 0.40860000252723694|  0:03:32s\n",
      "epoch 58 | loss: 0.1221  | train_rmse: 0.40404000878334045| valid_rmse: 0.4086199998855591|  0:03:36s\n",
      "epoch 59 | loss: 0.12185 | train_rmse: 0.40342000126838684| valid_rmse: 0.4084300100803375|  0:03:40s\n",
      "epoch 60 | loss: 0.12165 | train_rmse: 0.40331000089645386| valid_rmse: 0.40786999464035034|  0:03:44s\n",
      "epoch 61 | loss: 0.1218  | train_rmse: 0.40244001150131226| valid_rmse: 0.40801000595092773|  0:03:47s\n",
      "epoch 62 | loss: 0.12146 | train_rmse: 0.40220001339912415| valid_rmse: 0.40771999955177307|  0:03:51s\n",
      "epoch 63 | loss: 0.12117 | train_rmse: 0.4030799865722656| valid_rmse: 0.40856000781059265|  0:03:55s\n",
      "epoch 64 | loss: 0.12099 | train_rmse: 0.4020000100135803| valid_rmse: 0.4080199897289276|  0:03:59s\n",
      "epoch 65 | loss: 0.12138 | train_rmse: 0.4020400047302246| valid_rmse: 0.4077000021934509|  0:04:03s\n",
      "epoch 66 | loss: 0.12093 | train_rmse: 0.4010699987411499| valid_rmse: 0.40771999955177307|  0:04:07s\n",
      "epoch 67 | loss: 0.12056 | train_rmse: 0.4016000032424927| valid_rmse: 0.40852999687194824|  0:04:10s\n",
      "epoch 68 | loss: 0.12119 | train_rmse: 0.40143001079559326| valid_rmse: 0.4079299867153168|  0:04:14s\n",
      "epoch 69 | loss: 0.12082 | train_rmse: 0.40081000328063965| valid_rmse: 0.40814000368118286|  0:04:18s\n",
      "epoch 70 | loss: 0.12075 | train_rmse: 0.40252000093460083| valid_rmse: 0.40904998779296875|  0:04:21s\n",
      "epoch 71 | loss: 0.12064 | train_rmse: 0.39987999200820923| valid_rmse: 0.4079599976539612|  0:04:25s\n",
      "epoch 72 | loss: 0.12041 | train_rmse: 0.4006600081920624| valid_rmse: 0.40915998816490173|  0:04:29s\n",
      "epoch 73 | loss: 0.12058 | train_rmse: 0.40042001008987427| valid_rmse: 0.40911999344825745|  0:04:33s\n",
      "epoch 74 | loss: 0.12086 | train_rmse: 0.40046998858451843| valid_rmse: 0.4088200032711029|  0:04:37s\n",
      "epoch 75 | loss: 0.12099 | train_rmse: 0.3997800052165985| valid_rmse: 0.40836000442504883|  0:04:41s\n",
      "\n",
      "Early stopping occurred at epoch 75 with best_epoch = 65 and best_valid_rmse = 0.4077000021934509\n",
      "Successfully saved model at model_Heart_scEve_default/model.zip\n"
     ]
    }
   ],
   "source": [
    "# Train default scEve model using mdata_train dataset\n",
    "scparadise.sceve.train(mdata_train, \n",
    "                       path = '',\n",
    "                       rna_modality_name = 'rna',\n",
    "                       second_modality_name = 'adt',\n",
    "                       detailed_annotation = 'celltype_l2',\n",
    "                       model_name = 'model_Heart_scEve_default',\n",
    "                       max_epochs = 200,\n",
    "                       eval_metric = ['rmse'])"
   ]
  },
  {
   "cell_type": "code",
   "execution_count": 7,
   "id": "2b644f90-6019-42d3-9a02-9b57fbf9f37a",
   "metadata": {},
   "outputs": [],
   "source": [
    "# Create lists with test samples\n",
    "lst_test_1 = ['1_6', '2_7', '4_5', '8_9']\n",
    "lst_test_2 = ['41', '34', '15', '33']"
   ]
  },
  {
   "cell_type": "code",
   "execution_count": 8,
   "id": "139b2797-fedd-4a5f-a47c-dce7b49c123f",
   "metadata": {
    "scrolled": true
   },
   "outputs": [
    {
     "name": "stdout",
     "output_type": "stream",
     "text": [
      "Successfully loaded list of genes used for training model\n",
      "\n",
      "Successfully loaded list of features used for training model\n",
      "\n",
      "Successfully loaded model\n",
      "\n",
      "Successfully saved report\n",
      "\n",
      "Successfully loaded list of genes used for training model\n",
      "\n",
      "Successfully loaded list of features used for training model\n",
      "\n",
      "Successfully loaded model\n",
      "\n",
      "Successfully saved report\n",
      "\n",
      "Successfully loaded list of genes used for training model\n",
      "\n",
      "Successfully loaded list of features used for training model\n",
      "\n",
      "Successfully loaded model\n",
      "\n",
      "Successfully saved report\n",
      "\n",
      "Successfully loaded list of genes used for training model\n",
      "\n",
      "Successfully loaded list of features used for training model\n",
      "\n",
      "Successfully loaded model\n",
      "\n",
      "Successfully saved report\n",
      "\n",
      "Successfully loaded list of genes used for training model\n",
      "\n",
      "Successfully loaded list of features used for training model\n",
      "\n",
      "Successfully loaded model\n",
      "\n",
      "Successfully saved report\n",
      "\n",
      "Successfully loaded list of genes used for training model\n",
      "\n",
      "Successfully loaded list of features used for training model\n",
      "\n",
      "Successfully loaded model\n",
      "\n",
      "Successfully saved report\n",
      "\n",
      "Successfully loaded list of genes used for training model\n",
      "\n",
      "Successfully loaded list of features used for training model\n",
      "\n",
      "Successfully loaded model\n",
      "\n",
      "Successfully saved report\n",
      "\n",
      "Successfully loaded list of genes used for training model\n",
      "\n",
      "Successfully loaded list of features used for training model\n",
      "\n",
      "Successfully loaded model\n",
      "\n",
      "Successfully saved report\n",
      "\n"
     ]
    }
   ],
   "source": [
    "for folder in lst_test_1:\n",
    "    # Create adata_adt_test and adata_rna_test\n",
    "    adata_adt_test = mdata.mod['adt'][mdata.mod['adt'].obs['orig.ident'].isin([int(folder[0]), int(folder[2])])].copy()\n",
    "    adata_rna_test = mdata.mod['rna'][mdata.mod['rna'].obs['orig.ident'].isin([int(folder[0]), int(folder[2])])].copy()\n",
    "    # Predict surface proteins using pretrained scEve model\n",
    "    adata_pred_adt_test = scparadise.sceve.predict(adata_rna_test, \n",
    "                                                   path_model = 'model_Heart_scEve_default',\n",
    "                                                   return_mdata = False)\n",
    "    # Create and save regression report\n",
    "    scparadise.scnoah.report_reg(adata_prot = adata_adt_test, \n",
    "                                 adata_pred_prot = adata_pred_adt_test, \n",
    "                                 report_name = folder + '_report_regression.csv', \n",
    "                                 save_path = 'Heart_3p_CITE/reports_model_Heart_scEve_default', \n",
    "                                 save_report = True)\n",
    "    df_corr = pd.DataFrame(columns=['Pearson coef', 'p-value'])\n",
    "    for i in adata_adt_test.var_names.tolist():\n",
    "        person_coef = scparadise.scnoah.pearson_coef_prot(adata_prot = adata_adt_test,\n",
    "                                                          adata_pred_prot = adata_pred_adt_test,\n",
    "                                                          protein = i,\n",
    "                                                          protein_pred = i + '_pred')\n",
    "        df_corr.loc[i] = [person_coef['Pearson coefficient'], person_coef['p-value']]\n",
    "    df_corr['p-value'] = df_corr['p-value'].astype('float64')\n",
    "    file = \"results_pearson_\" + folder + \".csv\"\n",
    "    df_corr.to_csv(os.path.join('Heart_3p_CITE/reports_model_Heart_scEve_default', file))\n",
    "for folder in lst_test_2:\n",
    "    # Create adata_adt_test and adata_rna_test \n",
    "    adata_adt_test = mdata.mod['adt'][mdata.mod['adt'].obs['orig.ident'].isin([int(folder)])].copy()\n",
    "    adata_rna_test = mdata.mod['rna'][mdata.mod['rna'].obs['orig.ident'].isin([int(folder)])].copy()\n",
    "    # Predict surface proteins using pretrained scEve model\n",
    "    adata_pred_adt_test = scparadise.sceve.predict(adata_rna_test, \n",
    "                                                   path_model = 'model_Heart_scEve_default',\n",
    "                                                   return_mdata = False)\n",
    "    # Create and save regression report\n",
    "    scparadise.scnoah.report_reg(adata_prot = adata_adt_test, \n",
    "                                 adata_pred_prot = adata_pred_adt_test, \n",
    "                                 report_name = folder + '_report_regression.csv', \n",
    "                                 save_path = 'Heart_3p_CITE/reports_model_Heart_scEve_default', \n",
    "                                 save_report = True)\n",
    "    df_corr = pd.DataFrame(columns=['Pearson coef', 'p-value'])\n",
    "    for i in adata_adt_test.var_names.tolist():\n",
    "        person_coef = scparadise.scnoah.pearson_coef_prot(adata_prot = adata_adt_test,\n",
    "                                                          adata_pred_prot = adata_pred_adt_test,\n",
    "                                                          protein = i,\n",
    "                                                          protein_pred = i + '_pred')\n",
    "        df_corr.loc[i] = [person_coef['Pearson coefficient'], person_coef['p-value']]\n",
    "    df_corr['p-value'] = df_corr['p-value'].astype('float64')\n",
    "    file = \"results_pearson_\" + folder + \".csv\"\n",
    "    df_corr.to_csv(os.path.join('Heart_3p_CITE/reports_model_Heart_scEve_default', file))"
   ]
  },
  {
   "cell_type": "code",
   "execution_count": 9,
   "id": "61215b76-f205-4e98-97b7-a187ccefe6ad",
   "metadata": {
    "scrolled": true
   },
   "outputs": [
    {
     "name": "stdout",
     "output_type": "stream",
     "text": [
      "Successfully saved genes names for training model\n",
      "\n",
      "Successfully saved proteins names for training model\n",
      "\n",
      "Accelerator: cuda\n",
      "\n"
     ]
    },
    {
     "name": "stderr",
     "output_type": "stream",
     "text": [
      "[I 2025-01-23 11:17:39,732] A new study created in RDB with name: model_Heart_scEve_tuning\n"
     ]
    },
    {
     "name": "stdout",
     "output_type": "stream",
     "text": [
      "Fold 1:\n",
      "\n",
      "Early stopping occurred at epoch 90 with best_epoch = 80 and best_valid_rmse = 0.40928998589515686\n",
      "\n",
      "Fold 2:\n",
      "Stop training because you reached max_epochs = 100 with best_epoch = 97 and best_valid_rmse = 0.4117499887943268\n",
      "\n",
      "Fold 3:\n",
      "Stop training because you reached max_epochs = 100 with best_epoch = 90 and best_valid_rmse = 0.4060800075531006\n",
      "\n",
      "Fold 4:\n",
      "Stop training because you reached max_epochs = 100 with best_epoch = 95 and best_valid_rmse = 0.4094499945640564\n"
     ]
    },
    {
     "name": "stderr",
     "output_type": "stream",
     "text": [
      "[I 2025-01-23 11:35:11,352] Trial 0 finished with value: 0.40914224833250046 and parameters: {'n_d': 8, 'n_a': 8, 'n_steps': 3, 'n_shared': 2, 'cat_emb_dim': 1, 'n_independent': 1, 'gamma': 1.3, 'momentum': 0.02, 'lr': 0.01, 'mask_type': 'entmax', 'lambda_sparse': 0.001, 'patience': 10, 'max_epochs': 100, 'virtual_batch_size': 128, 'batch_size': 1024}. Best is trial 0 with value: 0.40914224833250046.\n"
     ]
    },
    {
     "name": "stdout",
     "output_type": "stream",
     "text": [
      "\n",
      "Fold 1:\n",
      "Stop training because you reached max_epochs = 45 with best_epoch = 34 and best_valid_rmse = 0.47350001335144043\n",
      "\n",
      "Fold 2:\n",
      "\n",
      "Early stopping occurred at epoch 32 with best_epoch = 12 and best_valid_rmse = 0.45684999227523804\n",
      "\n",
      "Fold 3:\n",
      "\n",
      "Early stopping occurred at epoch 36 with best_epoch = 16 and best_valid_rmse = 0.45882999897003174\n",
      "\n",
      "Fold 4:\n",
      "\n",
      "Early stopping occurred at epoch 37 with best_epoch = 17 and best_valid_rmse = 0.44534000754356384\n"
     ]
    },
    {
     "name": "stderr",
     "output_type": "stream",
     "text": [
      "[I 2025-01-23 11:42:19,171] Trial 1 finished with value: 0.45863088220357895 and parameters: {'n_d': 52, 'n_a': 124, 'n_steps': 8, 'n_shared': 6, 'cat_emb_dim': 2, 'n_independent': 2, 'gamma': 1.0580836121681996, 'momentum': 0.34780869685222476, 'lr': 0.3005973943704301, 'mask_type': 'entmax', 'lambda_sparse': 0.04147225000481637, 'patience': 20, 'max_epochs': 45, 'virtual_batch_size': 1024, 'batch_size': 3072}. Best is trial 0 with value: 0.40914224833250046.\n"
     ]
    },
    {
     "name": "stdout",
     "output_type": "stream",
     "text": [
      "\n",
      "Fold 1:\n",
      "\n",
      "Early stopping occurred at epoch 10 with best_epoch = 5 and best_valid_rmse = 0.4507899880409241\n",
      "\n",
      "Fold 2:\n",
      "\n",
      "Early stopping occurred at epoch 9 with best_epoch = 4 and best_valid_rmse = 0.4736799895763397\n",
      "\n",
      "Fold 3:\n",
      "\n",
      "Early stopping occurred at epoch 6 with best_epoch = 1 and best_valid_rmse = 0.4401400089263916\n",
      "\n",
      "Fold 4:\n",
      "\n",
      "Early stopping occurred at epoch 10 with best_epoch = 5 and best_valid_rmse = 0.43334001302719116\n"
     ]
    },
    {
     "name": "stderr",
     "output_type": "stream",
     "text": [
      "[I 2025-01-23 11:45:13,183] Trial 2 finished with value: 0.4494853615760803 and parameters: {'n_d': 44, 'n_a': 80, 'n_steps': 2, 'n_shared': 3, 'cat_emb_dim': 4, 'n_independent': 5, 'gamma': 1.7851759613930136, 'momentum': 0.08787277504176029, 'lr': 0.25716579576296444, 'mask_type': 'entmax', 'lambda_sparse': 0.004362599362560562, 'patience': 5, 'max_epochs': 15, 'virtual_batch_size': 256, 'batch_size': 512}. Best is trial 0 with value: 0.40914224833250046.\n"
     ]
    },
    {
     "name": "stdout",
     "output_type": "stream",
     "text": [
      "\n",
      "Fold 1:\n",
      "\n",
      "Early stopping occurred at epoch 23 with best_epoch = 3 and best_valid_rmse = 0.4223499894142151\n",
      "\n",
      "Fold 2:\n",
      "\n",
      "Early stopping occurred at epoch 21 with best_epoch = 1 and best_valid_rmse = 0.4289399981498718\n",
      "\n",
      "Fold 3:\n",
      "\n",
      "Early stopping occurred at epoch 27 with best_epoch = 7 and best_valid_rmse = 0.4180600047111511\n",
      "\n",
      "Fold 4:\n",
      "\n",
      "Early stopping occurred at epoch 23 with best_epoch = 3 and best_valid_rmse = 0.41749998927116394\n"
     ]
    },
    {
     "name": "stderr",
     "output_type": "stream",
     "text": [
      "[I 2025-01-23 12:00:50,856] Trial 3 finished with value: 0.421714186668396 and parameters: {'n_d': 92, 'n_a': 60, 'n_steps': 2, 'n_shared': 5, 'cat_emb_dim': 1, 'n_independent': 10, 'gamma': 1.258779981600017, 'momentum': 0.268383690898053, 'lr': 0.15592436693709652, 'mask_type': 'sparsemax', 'lambda_sparse': 0.0003154399030833099, 'patience': 20, 'max_epochs': 160, 'virtual_batch_size': 128, 'batch_size': 256}. Best is trial 0 with value: 0.40914224833250046.\n"
     ]
    },
    {
     "name": "stdout",
     "output_type": "stream",
     "text": [
      "\n",
      "Fold 1:\n",
      "\n",
      "Early stopping occurred at epoch 102 with best_epoch = 82 and best_valid_rmse = 0.4414199888706207\n",
      "\n",
      "Fold 2:\n",
      "\n",
      "Early stopping occurred at epoch 35 with best_epoch = 15 and best_valid_rmse = 0.46375998854637146\n",
      "\n",
      "Fold 3:\n",
      "\n",
      "Early stopping occurred at epoch 103 with best_epoch = 83 and best_valid_rmse = 0.43797001242637634\n"
     ]
    },
    {
     "name": "stderr",
     "output_type": "stream",
     "text": [
      "[I 2025-01-23 12:11:33,356] Trial 4 pruned. \n"
     ]
    },
    {
     "name": "stdout",
     "output_type": "stream",
     "text": [
      "Fold 1:\n",
      "\n",
      "Early stopping occurred at epoch 32 with best_epoch = 12 and best_valid_rmse = 0.42937999963760376\n",
      "\n",
      "Fold 2:\n",
      "\n",
      "Early stopping occurred at epoch 50 with best_epoch = 30 and best_valid_rmse = 0.41916999220848083\n",
      "\n",
      "Fold 3:\n",
      "\n",
      "Early stopping occurred at epoch 92 with best_epoch = 72 and best_valid_rmse = 0.41464999318122864\n",
      "\n",
      "Fold 4:\n",
      "\n",
      "Early stopping occurred at epoch 87 with best_epoch = 67 and best_valid_rmse = 0.41662999987602234\n"
     ]
    },
    {
     "name": "stderr",
     "output_type": "stream",
     "text": [
      "[I 2025-01-23 12:21:50,288] Trial 5 finished with value: 0.4199579060077667 and parameters: {'n_d': 100, 'n_a': 16, 'n_steps': 4, 'n_shared': 2, 'cat_emb_dim': 9, 'n_independent': 7, 'gamma': 1.3308980248526492, 'momentum': 0.03478775661154922, 'lr': 0.15556006262565952, 'mask_type': 'sparsemax', 'lambda_sparse': 0.005257127272786869, 'patience': 20, 'max_epochs': 95, 'virtual_batch_size': 512, 'batch_size': 2560}. Best is trial 0 with value: 0.40914224833250046.\n"
     ]
    },
    {
     "name": "stdout",
     "output_type": "stream",
     "text": [
      "\n",
      "Fold 1:\n",
      "Stop training because you reached max_epochs = 50 with best_epoch = 41 and best_valid_rmse = 0.4187299907207489\n",
      "\n",
      "Fold 2:\n",
      "Stop training because you reached max_epochs = 50 with best_epoch = 39 and best_valid_rmse = 0.424919992685318\n",
      "\n",
      "Fold 3:\n",
      "Stop training because you reached max_epochs = 50 with best_epoch = 49 and best_valid_rmse = 0.41126999258995056\n",
      "\n",
      "Fold 4:\n",
      "\n",
      "Early stopping occurred at epoch 44 with best_epoch = 24 and best_valid_rmse = 0.424019992351532\n"
     ]
    },
    {
     "name": "stderr",
     "output_type": "stream",
     "text": [
      "[I 2025-01-23 12:27:21,431] Trial 6 finished with value: 0.41973550617694855 and parameters: {'n_d': 68, 'n_a': 72, 'n_steps': 5, 'n_shared': 1, 'cat_emb_dim': 2, 'n_independent': 1, 'gamma': 1.6364104112637805, 'momentum': 0.1325988326197674, 'lr': 0.2543344885132349, 'mask_type': 'entmax', 'lambda_sparse': 0.0012811830949395156, 'patience': 20, 'max_epochs': 50, 'virtual_batch_size': 1024, 'batch_size': 4096}. Best is trial 0 with value: 0.40914224833250046.\n"
     ]
    },
    {
     "name": "stdout",
     "output_type": "stream",
     "text": [
      "\n",
      "Fold 1:\n",
      "\n",
      "Early stopping occurred at epoch 27 with best_epoch = 7 and best_valid_rmse = 0.4565100073814392\n",
      "\n",
      "Fold 2:\n",
      "\n",
      "Early stopping occurred at epoch 25 with best_epoch = 5 and best_valid_rmse = 0.4293999969959259\n",
      "\n",
      "Fold 3:\n",
      "\n",
      "Early stopping occurred at epoch 26 with best_epoch = 6 and best_valid_rmse = 0.42879000306129456\n"
     ]
    },
    {
     "name": "stderr",
     "output_type": "stream",
     "text": [
      "[I 2025-01-23 12:57:17,996] Trial 7 pruned. \n"
     ]
    },
    {
     "name": "stdout",
     "output_type": "stream",
     "text": [
      "Fold 1:\n",
      "\n",
      "Early stopping occurred at epoch 29 with best_epoch = 24 and best_valid_rmse = 0.4109500050544739\n",
      "\n",
      "Fold 2:\n",
      "\n",
      "Early stopping occurred at epoch 16 with best_epoch = 11 and best_valid_rmse = 0.42089998722076416\n",
      "\n",
      "Fold 3:\n",
      "\n",
      "Early stopping occurred at epoch 41 with best_epoch = 36 and best_valid_rmse = 0.40413999557495117\n",
      "\n",
      "Fold 4:\n",
      "\n",
      "Early stopping occurred at epoch 39 with best_epoch = 34 and best_valid_rmse = 0.40428000688552856\n"
     ]
    },
    {
     "name": "stderr",
     "output_type": "stream",
     "text": [
      "[I 2025-01-23 13:08:24,742] Trial 8 finished with value: 0.4100688546895981 and parameters: {'n_d': 48, 'n_a': 124, 'n_steps': 4, 'n_shared': 6, 'cat_emb_dim': 8, 'n_independent': 4, 'gamma': 1.9717820827209607, 'momentum': 0.3853544450274234, 'lr': 0.12596596968309953, 'mask_type': 'entmax', 'lambda_sparse': 0.000587186348818331, 'patience': 5, 'max_epochs': 125, 'virtual_batch_size': 1024, 'batch_size': 2048}. Best is trial 0 with value: 0.40914224833250046.\n"
     ]
    },
    {
     "name": "stdout",
     "output_type": "stream",
     "text": [
      "\n",
      "Fold 1:\n",
      "\n",
      "Early stopping occurred at epoch 12 with best_epoch = 7 and best_valid_rmse = 0.4749700129032135\n"
     ]
    },
    {
     "name": "stderr",
     "output_type": "stream",
     "text": [
      "[I 2025-01-23 13:09:05,198] Trial 9 pruned. \n"
     ]
    },
    {
     "name": "stdout",
     "output_type": "stream",
     "text": [
      "Fold 1:\n",
      "\n",
      "Early stopping occurred at epoch 25 with best_epoch = 15 and best_valid_rmse = 0.4269599914550781\n",
      "\n",
      "Fold 2:\n",
      "\n",
      "Early stopping occurred at epoch 26 with best_epoch = 16 and best_valid_rmse = 0.4362899959087372\n",
      "\n",
      "Fold 3:\n",
      "\n",
      "Early stopping occurred at epoch 83 with best_epoch = 73 and best_valid_rmse = 0.417959988117218\n"
     ]
    },
    {
     "name": "stderr",
     "output_type": "stream",
     "text": [
      "[I 2025-01-23 13:31:31,038] Trial 10 pruned. \n"
     ]
    },
    {
     "name": "stdout",
     "output_type": "stream",
     "text": [
      "Fold 1:\n",
      "\n",
      "Early stopping occurred at epoch 33 with best_epoch = 23 and best_valid_rmse = 0.39910000562667847\n",
      "\n",
      "Fold 2:\n",
      "\n",
      "Early stopping occurred at epoch 34 with best_epoch = 24 and best_valid_rmse = 0.4008199870586395\n",
      "\n",
      "Fold 3:\n",
      "\n",
      "Early stopping occurred at epoch 39 with best_epoch = 29 and best_valid_rmse = 0.3946099877357483\n",
      "\n",
      "Fold 4:\n",
      "\n",
      "Early stopping occurred at epoch 37 with best_epoch = 27 and best_valid_rmse = 0.3981899917125702\n"
     ]
    },
    {
     "name": "stderr",
     "output_type": "stream",
     "text": [
      "[I 2025-01-23 13:39:37,502] Trial 11 finished with value: 0.3981804847717285 and parameters: {'n_d': 124, 'n_a': 100, 'n_steps': 1, 'n_shared': 7, 'cat_emb_dim': 7, 'n_independent': 4, 'gamma': 1.9553588069720769, 'momentum': 0.19279503536625844, 'lr': 0.012787030674309235, 'mask_type': 'entmax', 'lambda_sparse': 0.0004894266844926874, 'patience': 10, 'max_epochs': 130, 'virtual_batch_size': 128, 'batch_size': 896}. Best is trial 11 with value: 0.3981804847717285.\n"
     ]
    },
    {
     "name": "stdout",
     "output_type": "stream",
     "text": [
      "\n",
      "Fold 1:\n",
      "\n",
      "Early stopping occurred at epoch 33 with best_epoch = 23 and best_valid_rmse = 0.46625998616218567\n",
      "\n",
      "Fold 2:\n",
      "\n",
      "Early stopping occurred at epoch 17 with best_epoch = 7 and best_valid_rmse = 0.47005000710487366\n",
      "\n",
      "Fold 3:\n",
      "\n",
      "Early stopping occurred at epoch 27 with best_epoch = 17 and best_valid_rmse = 0.4645000100135803\n"
     ]
    },
    {
     "name": "stderr",
     "output_type": "stream",
     "text": [
      "[I 2025-01-23 13:43:42,475] Trial 12 pruned. \n"
     ]
    },
    {
     "name": "stdout",
     "output_type": "stream",
     "text": [
      "Fold 1:\n",
      "\n",
      "Early stopping occurred at epoch 44 with best_epoch = 29 and best_valid_rmse = 0.3982299864292145\n",
      "\n",
      "Fold 2:\n",
      "\n",
      "Early stopping occurred at epoch 46 with best_epoch = 31 and best_valid_rmse = 0.39932000637054443\n",
      "\n",
      "Fold 3:\n",
      "\n",
      "Early stopping occurred at epoch 39 with best_epoch = 24 and best_valid_rmse = 0.3949599862098694\n",
      "\n",
      "Fold 4:\n",
      "\n",
      "Early stopping occurred at epoch 43 with best_epoch = 28 and best_valid_rmse = 0.3987700045108795\n"
     ]
    },
    {
     "name": "stderr",
     "output_type": "stream",
     "text": [
      "[I 2025-01-23 13:53:31,783] Trial 13 finished with value: 0.3978187069296837 and parameters: {'n_d': 124, 'n_a': 96, 'n_steps': 1, 'n_shared': 8, 'cat_emb_dim': 6, 'n_independent': 3, 'gamma': 1.5056061581384277, 'momentum': 0.17311165394985586, 'lr': 0.012061738656777975, 'mask_type': 'entmax', 'lambda_sparse': 0.00011387937858278137, 'patience': 15, 'max_epochs': 200, 'virtual_batch_size': 128, 'batch_size': 1024}. Best is trial 13 with value: 0.3978187069296837.\n"
     ]
    },
    {
     "name": "stdout",
     "output_type": "stream",
     "text": [
      "\n",
      "Fold 1:\n",
      "\n",
      "Early stopping occurred at epoch 35 with best_epoch = 20 and best_valid_rmse = 0.4048199951648712\n",
      "\n",
      "Fold 2:\n",
      "\n",
      "Early stopping occurred at epoch 35 with best_epoch = 20 and best_valid_rmse = 0.4023900032043457\n",
      "\n",
      "Fold 3:\n",
      "\n",
      "Early stopping occurred at epoch 31 with best_epoch = 16 and best_valid_rmse = 0.39642998576164246\n",
      "\n",
      "Fold 4:\n",
      "\n",
      "Early stopping occurred at epoch 34 with best_epoch = 19 and best_valid_rmse = 0.40230000019073486\n"
     ]
    },
    {
     "name": "stderr",
     "output_type": "stream",
     "text": [
      "[I 2025-01-23 14:03:45,567] Trial 14 finished with value: 0.40148410201072693 and parameters: {'n_d': 128, 'n_a': 96, 'n_steps': 1, 'n_shared': 8, 'cat_emb_dim': 6, 'n_independent': 4, 'gamma': 1.9652313348965311, 'momentum': 0.1944860626629508, 'lr': 0.06752504258116275, 'mask_type': 'entmax', 'lambda_sparse': 0.00012530996305046304, 'patience': 15, 'max_epochs': 200, 'virtual_batch_size': 128, 'batch_size': 640}. Best is trial 13 with value: 0.3978187069296837.\n"
     ]
    },
    {
     "name": "stdout",
     "output_type": "stream",
     "text": [
      "\n",
      "Fold 1:\n",
      "\n",
      "Early stopping occurred at epoch 18 with best_epoch = 3 and best_valid_rmse = 0.4754199981689453\n",
      "\n",
      "Fold 2:\n",
      "\n",
      "Early stopping occurred at epoch 22 with best_epoch = 7 and best_valid_rmse = 0.47325998544692993\n",
      "\n",
      "Fold 3:\n",
      "\n",
      "Early stopping occurred at epoch 24 with best_epoch = 9 and best_valid_rmse = 0.4525099992752075\n"
     ]
    },
    {
     "name": "stderr",
     "output_type": "stream",
     "text": [
      "[I 2025-01-23 14:13:31,718] Trial 15 pruned. \n"
     ]
    },
    {
     "name": "stdout",
     "output_type": "stream",
     "text": [
      "Fold 1:\n",
      "\n",
      "Early stopping occurred at epoch 39 with best_epoch = 24 and best_valid_rmse = 0.40242999792099\n",
      "\n",
      "Fold 2:\n",
      "\n",
      "Early stopping occurred at epoch 40 with best_epoch = 25 and best_valid_rmse = 0.40676000714302063\n",
      "\n",
      "Fold 3:\n",
      "\n",
      "Early stopping occurred at epoch 40 with best_epoch = 25 and best_valid_rmse = 0.39948999881744385\n",
      "\n",
      "Fold 4:\n",
      "\n",
      "Early stopping occurred at epoch 42 with best_epoch = 27 and best_valid_rmse = 0.40191999077796936\n"
     ]
    },
    {
     "name": "stderr",
     "output_type": "stream",
     "text": [
      "[I 2025-01-23 14:22:48,294] Trial 16 finished with value: 0.4026501700282097 and parameters: {'n_d': 108, 'n_a': 48, 'n_steps': 1, 'n_shared': 7, 'cat_emb_dim': 7, 'n_independent': 5, 'gamma': 1.4822884376389664, 'momentum': 0.24785972835724807, 'lr': 0.07528649747335178, 'mask_type': 'entmax', 'lambda_sparse': 0.0001249666195920452, 'patience': 15, 'max_epochs': 135, 'virtual_batch_size': 128, 'batch_size': 1024}. Best is trial 13 with value: 0.3978187069296837.\n"
     ]
    },
    {
     "name": "stdout",
     "output_type": "stream",
     "text": [
      "\n",
      "Fold 1:\n",
      "\n",
      "Early stopping occurred at epoch 47 with best_epoch = 37 and best_valid_rmse = 0.4007900059223175\n",
      "\n",
      "Fold 2:\n",
      "\n",
      "Early stopping occurred at epoch 41 with best_epoch = 31 and best_valid_rmse = 0.4030100107192993\n",
      "\n",
      "Fold 3:\n",
      "\n",
      "Early stopping occurred at epoch 42 with best_epoch = 32 and best_valid_rmse = 0.3980500102043152\n",
      "\n",
      "Fold 4:\n",
      "\n",
      "Early stopping occurred at epoch 41 with best_epoch = 31 and best_valid_rmse = 0.4011099934577942\n"
     ]
    },
    {
     "name": "stderr",
     "output_type": "stream",
     "text": [
      "[I 2025-01-23 14:36:59,040] Trial 17 finished with value: 0.4007398560643196 and parameters: {'n_d': 72, 'n_a': 84, 'n_steps': 3, 'n_shared': 10, 'cat_emb_dim': 5, 'n_independent': 3, 'gamma': 1.84590769252419, 'momentum': 0.15127216380300895, 'lr': 0.07189404456914111, 'mask_type': 'entmax', 'lambda_sparse': 0.0003118455765080087, 'patience': 10, 'max_epochs': 60, 'virtual_batch_size': 128, 'batch_size': 1152}. Best is trial 13 with value: 0.3978187069296837.\n"
     ]
    },
    {
     "name": "stdout",
     "output_type": "stream",
     "text": [
      "\n",
      "Fold 1:\n",
      "\n",
      "Early stopping occurred at epoch 58 with best_epoch = 43 and best_valid_rmse = 0.399260014295578\n",
      "\n",
      "Fold 2:\n",
      "\n",
      "Early stopping occurred at epoch 69 with best_epoch = 54 and best_valid_rmse = 0.4007900059223175\n",
      "\n",
      "Fold 3:\n",
      "Stop training because you reached max_epochs = 70 with best_epoch = 68 and best_valid_rmse = 0.39421001076698303\n",
      "\n",
      "Fold 4:\n",
      "\n",
      "Early stopping occurred at epoch 58 with best_epoch = 43 and best_valid_rmse = 0.3996500074863434\n"
     ]
    },
    {
     "name": "stderr",
     "output_type": "stream",
     "text": [
      "[I 2025-01-23 14:49:29,569] Trial 18 finished with value: 0.39847924560308456 and parameters: {'n_d': 116, 'n_a': 108, 'n_steps': 2, 'n_shared': 7, 'cat_emb_dim': 7, 'n_independent': 6, 'gamma': 1.6605885540358076, 'momentum': 0.08465761894426632, 'lr': 0.006659096439311225, 'mask_type': 'entmax', 'lambda_sparse': 0.000245762009210572, 'patience': 15, 'max_epochs': 70, 'virtual_batch_size': 256, 'batch_size': 1536}. Best is trial 13 with value: 0.3978187069296837.\n"
     ]
    },
    {
     "name": "stdout",
     "output_type": "stream",
     "text": [
      "\n",
      "Fold 1:\n",
      "\n",
      "Early stopping occurred at epoch 28 with best_epoch = 18 and best_valid_rmse = 0.4752599895000458\n",
      "\n",
      "Fold 2:\n",
      "\n",
      "Early stopping occurred at epoch 29 with best_epoch = 19 and best_valid_rmse = 0.47815999388694763\n",
      "\n",
      "Fold 3:\n",
      "\n",
      "Early stopping occurred at epoch 23 with best_epoch = 13 and best_valid_rmse = 0.46171998977661133\n"
     ]
    },
    {
     "name": "stderr",
     "output_type": "stream",
     "text": [
      "[I 2025-01-23 14:55:58,772] Trial 19 pruned. \n"
     ]
    },
    {
     "name": "stdout",
     "output_type": "stream",
     "text": [
      "Fold 1:\n",
      "\n",
      "Early stopping occurred at epoch 18 with best_epoch = 3 and best_valid_rmse = 0.432779997587204\n",
      "\n",
      "Fold 2:\n",
      "\n",
      "Early stopping occurred at epoch 20 with best_epoch = 5 and best_valid_rmse = 0.42489999532699585\n",
      "\n",
      "Fold 3:\n",
      "\n",
      "Early stopping occurred at epoch 20 with best_epoch = 5 and best_valid_rmse = 0.4224900007247925\n"
     ]
    },
    {
     "name": "stderr",
     "output_type": "stream",
     "text": [
      "[I 2025-01-23 15:01:49,976] Trial 20 pruned. \n"
     ]
    },
    {
     "name": "stdout",
     "output_type": "stream",
     "text": [
      "Fold 1:\n",
      "Stop training because you reached max_epochs = 65 with best_epoch = 52 and best_valid_rmse = 0.4003399908542633\n",
      "\n",
      "Fold 2:\n",
      "Stop training because you reached max_epochs = 65 with best_epoch = 62 and best_valid_rmse = 0.4023300111293793\n",
      "\n",
      "Fold 3:\n",
      "Stop training because you reached max_epochs = 65 with best_epoch = 60 and best_valid_rmse = 0.39563000202178955\n"
     ]
    },
    {
     "name": "stderr",
     "output_type": "stream",
     "text": [
      "[I 2025-01-23 15:12:25,433] Trial 21 pruned. \n"
     ]
    },
    {
     "name": "stdout",
     "output_type": "stream",
     "text": [
      "Fold 1:\n",
      "\n",
      "Early stopping occurred at epoch 37 with best_epoch = 22 and best_valid_rmse = 0.40794000029563904\n"
     ]
    },
    {
     "name": "stderr",
     "output_type": "stream",
     "text": [
      "[I 2025-01-23 15:14:07,690] Trial 22 pruned. \n"
     ]
    },
    {
     "name": "stdout",
     "output_type": "stream",
     "text": [
      "Fold 1:\n",
      "Stop training because you reached max_epochs = 30 with best_epoch = 26 and best_valid_rmse = 0.3993000090122223\n",
      "\n",
      "Fold 2:\n",
      "Stop training because you reached max_epochs = 30 with best_epoch = 28 and best_valid_rmse = 0.4008899927139282\n",
      "\n",
      "Fold 3:\n",
      "Stop training because you reached max_epochs = 30 with best_epoch = 29 and best_valid_rmse = 0.39531999826431274\n",
      "\n",
      "Fold 4:\n",
      "Stop training because you reached max_epochs = 30 with best_epoch = 22 and best_valid_rmse = 0.4000700116157532\n"
     ]
    },
    {
     "name": "stderr",
     "output_type": "stream",
     "text": [
      "[I 2025-01-23 15:20:49,466] Trial 23 finished with value: 0.39889373630285263 and parameters: {'n_d': 108, 'n_a': 96, 'n_steps': 2, 'n_shared': 9, 'cat_emb_dim': 8, 'n_independent': 5, 'gamma': 1.436089825602826, 'momentum': 0.09284912271060718, 'lr': 0.047344209336913703, 'mask_type': 'entmax', 'lambda_sparse': 0.00042121278377863663, 'patience': 15, 'max_epochs': 30, 'virtual_batch_size': 256, 'batch_size': 1280}. Best is trial 13 with value: 0.3978187069296837.\n"
     ]
    },
    {
     "name": "stdout",
     "output_type": "stream",
     "text": [
      "\n",
      "Fold 1:\n",
      "\n",
      "Early stopping occurred at epoch 30 with best_epoch = 20 and best_valid_rmse = 0.41644999384880066\n",
      "\n",
      "Fold 2:\n",
      "\n",
      "Early stopping occurred at epoch 30 with best_epoch = 20 and best_valid_rmse = 0.41332998871803284\n",
      "\n",
      "Fold 3:\n",
      "\n",
      "Early stopping occurred at epoch 46 with best_epoch = 36 and best_valid_rmse = 0.4066599905490875\n"
     ]
    },
    {
     "name": "stderr",
     "output_type": "stream",
     "text": [
      "[I 2025-01-23 15:25:50,850] Trial 24 pruned. \n"
     ]
    },
    {
     "name": "stdout",
     "output_type": "stream",
     "text": [
      "Fold 1:\n",
      "\n",
      "Early stopping occurred at epoch 43 with best_epoch = 28 and best_valid_rmse = 0.3982200026512146\n",
      "\n",
      "Fold 2:\n",
      "\n",
      "Early stopping occurred at epoch 41 with best_epoch = 26 and best_valid_rmse = 0.4009700119495392\n",
      "\n",
      "Fold 3:\n",
      "\n",
      "Early stopping occurred at epoch 45 with best_epoch = 30 and best_valid_rmse = 0.395440012216568\n",
      "\n",
      "Fold 4:\n",
      "\n",
      "Early stopping occurred at epoch 36 with best_epoch = 21 and best_valid_rmse = 0.3985300064086914\n"
     ]
    },
    {
     "name": "stderr",
     "output_type": "stream",
     "text": [
      "[I 2025-01-23 15:39:58,033] Trial 25 finished with value: 0.39828746020793915 and parameters: {'n_d': 120, 'n_a': 88, 'n_steps': 3, 'n_shared': 6, 'cat_emb_dim': 5, 'n_independent': 4, 'gamma': 1.8697390860371423, 'momentum': 0.12030757730934932, 'lr': 0.035189636718348266, 'mask_type': 'entmax', 'lambda_sparse': 0.0008460260208376319, 'patience': 15, 'max_epochs': 120, 'virtual_batch_size': 128, 'batch_size': 768}. Best is trial 13 with value: 0.3978187069296837.\n"
     ]
    },
    {
     "name": "stdout",
     "output_type": "stream",
     "text": [
      "\n",
      "Fold 1:\n",
      "\n",
      "Early stopping occurred at epoch 37 with best_epoch = 27 and best_valid_rmse = 0.3998199999332428\n",
      "\n",
      "Fold 2:\n",
      "\n",
      "Early stopping occurred at epoch 40 with best_epoch = 30 and best_valid_rmse = 0.3998599946498871\n",
      "\n",
      "Fold 3:\n",
      "\n",
      "Early stopping occurred at epoch 37 with best_epoch = 27 and best_valid_rmse = 0.3942900002002716\n",
      "\n",
      "Fold 4:\n",
      "\n",
      "Early stopping occurred at epoch 33 with best_epoch = 23 and best_valid_rmse = 0.3990600109100342\n"
     ]
    },
    {
     "name": "stderr",
     "output_type": "stream",
     "text": [
      "[I 2025-01-23 15:50:48,202] Trial 26 finished with value: 0.3982551395893097 and parameters: {'n_d': 96, 'n_a': 80, 'n_steps': 3, 'n_shared': 6, 'cat_emb_dim': 4, 'n_independent': 2, 'gamma': 1.8828229583944358, 'momentum': 0.12629463619522413, 'lr': 0.04687191316684583, 'mask_type': 'entmax', 'lambda_sparse': 0.002448597564039861, 'patience': 10, 'max_epochs': 125, 'virtual_batch_size': 128, 'batch_size': 768}. Best is trial 13 with value: 0.3978187069296837.\n"
     ]
    },
    {
     "name": "stdout",
     "output_type": "stream",
     "text": [
      "\n",
      "Fold 1:\n",
      "\n",
      "Early stopping occurred at epoch 21 with best_epoch = 11 and best_valid_rmse = 0.4153299927711487\n",
      "\n",
      "Fold 2:\n",
      "\n",
      "Early stopping occurred at epoch 13 with best_epoch = 3 and best_valid_rmse = 0.4262999892234802\n",
      "\n",
      "Fold 3:\n",
      "\n",
      "Early stopping occurred at epoch 27 with best_epoch = 17 and best_valid_rmse = 0.4124700129032135\n"
     ]
    },
    {
     "name": "stderr",
     "output_type": "stream",
     "text": [
      "[I 2025-01-23 15:56:25,582] Trial 27 pruned. \n"
     ]
    },
    {
     "name": "stdout",
     "output_type": "stream",
     "text": [
      "Fold 1:\n",
      "\n",
      "Early stopping occurred at epoch 35 with best_epoch = 30 and best_valid_rmse = 0.4008300006389618\n"
     ]
    },
    {
     "name": "stderr",
     "output_type": "stream",
     "text": [
      "[I 2025-01-23 15:58:46,864] Trial 28 pruned. \n"
     ]
    },
    {
     "name": "stdout",
     "output_type": "stream",
     "text": [
      "Fold 1:\n",
      "\n",
      "Early stopping occurred at epoch 14 with best_epoch = 4 and best_valid_rmse = 0.4605199992656708\n"
     ]
    },
    {
     "name": "stderr",
     "output_type": "stream",
     "text": [
      "[I 2025-01-23 15:59:58,503] Trial 29 pruned. \n"
     ]
    },
    {
     "name": "stdout",
     "output_type": "stream",
     "text": [
      "Fold 1:\n",
      "\n",
      "Early stopping occurred at epoch 33 with best_epoch = 23 and best_valid_rmse = 0.4854600131511688\n"
     ]
    },
    {
     "name": "stderr",
     "output_type": "stream",
     "text": [
      "[I 2025-01-23 16:01:41,077] Trial 30 pruned. \n"
     ]
    },
    {
     "name": "stdout",
     "output_type": "stream",
     "text": [
      "Fold 1:\n",
      "\n",
      "Early stopping occurred at epoch 35 with best_epoch = 20 and best_valid_rmse = 0.3990600109100342\n",
      "\n",
      "Fold 2:\n",
      "\n",
      "Early stopping occurred at epoch 41 with best_epoch = 26 and best_valid_rmse = 0.3998500108718872\n",
      "\n",
      "Fold 3:\n",
      "\n",
      "Early stopping occurred at epoch 44 with best_epoch = 29 and best_valid_rmse = 0.39469000697135925\n",
      "\n",
      "Fold 4:\n",
      "\n",
      "Early stopping occurred at epoch 42 with best_epoch = 27 and best_valid_rmse = 0.3974300026893616\n"
     ]
    },
    {
     "name": "stderr",
     "output_type": "stream",
     "text": [
      "[I 2025-01-23 16:14:54,963] Trial 31 finished with value: 0.3977561891078949 and parameters: {'n_d': 120, 'n_a': 88, 'n_steps': 3, 'n_shared': 6, 'cat_emb_dim': 5, 'n_independent': 4, 'gamma': 1.8533189232158167, 'momentum': 0.11472949617792712, 'lr': 0.035342220128138174, 'mask_type': 'entmax', 'lambda_sparse': 0.0007847681526463181, 'patience': 15, 'max_epochs': 120, 'virtual_batch_size': 128, 'batch_size': 768}. Best is trial 31 with value: 0.3977561891078949.\n"
     ]
    },
    {
     "name": "stdout",
     "output_type": "stream",
     "text": [
      "\n",
      "Fold 1:\n",
      "\n",
      "Early stopping occurred at epoch 38 with best_epoch = 28 and best_valid_rmse = 0.39730000495910645\n",
      "\n",
      "Fold 2:\n",
      "\n",
      "Early stopping occurred at epoch 35 with best_epoch = 25 and best_valid_rmse = 0.40123000741004944\n",
      "\n",
      "Fold 3:\n",
      "\n",
      "Early stopping occurred at epoch 50 with best_epoch = 40 and best_valid_rmse = 0.3974300026893616\n"
     ]
    },
    {
     "name": "stderr",
     "output_type": "stream",
     "text": [
      "[I 2025-01-23 16:26:08,848] Trial 32 pruned. \n"
     ]
    },
    {
     "name": "stdout",
     "output_type": "stream",
     "text": [
      "Fold 1:\n",
      "\n",
      "Early stopping occurred at epoch 51 with best_epoch = 36 and best_valid_rmse = 0.4065000116825104\n"
     ]
    },
    {
     "name": "stderr",
     "output_type": "stream",
     "text": [
      "[I 2025-01-23 16:29:51,527] Trial 33 pruned. \n"
     ]
    },
    {
     "name": "stdout",
     "output_type": "stream",
     "text": [
      "Fold 1:\n",
      "\n",
      "Early stopping occurred at epoch 13 with best_epoch = 3 and best_valid_rmse = 0.4386799931526184\n"
     ]
    },
    {
     "name": "stderr",
     "output_type": "stream",
     "text": [
      "[I 2025-01-23 16:30:53,381] Trial 34 pruned. \n"
     ]
    },
    {
     "name": "stdout",
     "output_type": "stream",
     "text": [
      "Fold 1:\n",
      "\n",
      "Early stopping occurred at epoch 56 with best_epoch = 51 and best_valid_rmse = 0.4003799855709076\n",
      "\n",
      "Fold 2:\n",
      "\n",
      "Early stopping occurred at epoch 30 with best_epoch = 25 and best_valid_rmse = 0.40354999899864197\n",
      "\n",
      "Fold 3:\n",
      "\n",
      "Early stopping occurred at epoch 53 with best_epoch = 48 and best_valid_rmse = 0.39629000425338745\n",
      "\n",
      "Fold 4:\n",
      "\n",
      "Early stopping occurred at epoch 47 with best_epoch = 42 and best_valid_rmse = 0.4002000093460083\n"
     ]
    },
    {
     "name": "stderr",
     "output_type": "stream",
     "text": [
      "[I 2025-01-23 16:40:04,937] Trial 35 finished with value: 0.40010471642017365 and parameters: {'n_d': 112, 'n_a': 116, 'n_steps': 5, 'n_shared': 5, 'cat_emb_dim': 2, 'n_independent': 5, 'gamma': 1.9995712452078276, 'momentum': 0.14271846942753164, 'lr': 0.03166762275328788, 'mask_type': 'entmax', 'lambda_sparse': 0.001214665777761112, 'patience': 5, 'max_epochs': 160, 'virtual_batch_size': 512, 'batch_size': 2048}. Best is trial 31 with value: 0.3977561891078949.\n"
     ]
    },
    {
     "name": "stdout",
     "output_type": "stream",
     "text": [
      "\n",
      "Fold 1:\n",
      "Stop training because you reached max_epochs = 5 with best_epoch = 3 and best_valid_rmse = 0.42991000413894653\n"
     ]
    },
    {
     "name": "stderr",
     "output_type": "stream",
     "text": [
      "[I 2025-01-23 16:40:57,961] Trial 36 pruned. \n"
     ]
    },
    {
     "name": "stdout",
     "output_type": "stream",
     "text": [
      "Fold 1:\n",
      "\n",
      "Early stopping occurred at epoch 63 with best_epoch = 53 and best_valid_rmse = 0.41168999671936035\n"
     ]
    },
    {
     "name": "stderr",
     "output_type": "stream",
     "text": [
      "[I 2025-01-23 16:43:13,754] Trial 37 pruned. \n"
     ]
    },
    {
     "name": "stdout",
     "output_type": "stream",
     "text": [
      "Fold 1:\n",
      "\n",
      "Early stopping occurred at epoch 24 with best_epoch = 4 and best_valid_rmse = 0.43230000138282776\n",
      "\n",
      "Fold 2:\n",
      "\n",
      "Early stopping occurred at epoch 58 with best_epoch = 38 and best_valid_rmse = 0.41319000720977783\n",
      "\n",
      "Fold 3:\n",
      "\n",
      "Early stopping occurred at epoch 52 with best_epoch = 32 and best_valid_rmse = 0.4164400100708008\n"
     ]
    },
    {
     "name": "stderr",
     "output_type": "stream",
     "text": [
      "[I 2025-01-23 17:03:19,927] Trial 38 pruned. \n"
     ]
    },
    {
     "name": "stdout",
     "output_type": "stream",
     "text": [
      "Fold 1:\n",
      "\n",
      "Early stopping occurred at epoch 46 with best_epoch = 31 and best_valid_rmse = 0.40042001008987427\n",
      "\n",
      "Fold 2:\n",
      "\n",
      "Early stopping occurred at epoch 44 with best_epoch = 29 and best_valid_rmse = 0.40112000703811646\n",
      "\n",
      "Fold 3:\n",
      "\n",
      "Early stopping occurred at epoch 50 with best_epoch = 35 and best_valid_rmse = 0.3975600004196167\n",
      "\n",
      "Fold 4:\n",
      "\n",
      "Early stopping occurred at epoch 43 with best_epoch = 28 and best_valid_rmse = 0.3997200131416321\n"
     ]
    },
    {
     "name": "stderr",
     "output_type": "stream",
     "text": [
      "[I 2025-01-23 17:11:35,494] Trial 39 finished with value: 0.39970629662275314 and parameters: {'n_d': 104, 'n_a': 92, 'n_steps': 2, 'n_shared': 5, 'cat_emb_dim': 6, 'n_independent': 10, 'gamma': 1.7669424806144456, 'momentum': 0.27010220074778546, 'lr': 0.032601001555765646, 'mask_type': 'entmax', 'lambda_sparse': 0.000828801360124795, 'patience': 15, 'max_epochs': 165, 'virtual_batch_size': 512, 'batch_size': 1536}. Best is trial 31 with value: 0.3977561891078949.\n"
     ]
    },
    {
     "name": "stdout",
     "output_type": "stream",
     "text": [
      "\n",
      "Fold 1:\n",
      "\n",
      "Early stopping occurred at epoch 25 with best_epoch = 20 and best_valid_rmse = 0.40417999029159546\n"
     ]
    },
    {
     "name": "stderr",
     "output_type": "stream",
     "text": [
      "[I 2025-01-23 17:14:21,888] Trial 40 pruned. \n"
     ]
    },
    {
     "name": "stdout",
     "output_type": "stream",
     "text": [
      "Fold 1:\n",
      "\n",
      "Early stopping occurred at epoch 50 with best_epoch = 35 and best_valid_rmse = 0.39772000908851624\n",
      "\n",
      "Fold 2:\n",
      "\n",
      "Early stopping occurred at epoch 41 with best_epoch = 26 and best_valid_rmse = 0.3992899954319\n",
      "\n",
      "Fold 3:\n",
      "\n",
      "Early stopping occurred at epoch 41 with best_epoch = 26 and best_valid_rmse = 0.39449000358581543\n",
      "\n",
      "Fold 4:\n",
      "\n",
      "Early stopping occurred at epoch 41 with best_epoch = 26 and best_valid_rmse = 0.3982999920845032\n"
     ]
    },
    {
     "name": "stderr",
     "output_type": "stream",
     "text": [
      "[I 2025-01-23 17:28:27,835] Trial 41 finished with value: 0.3974514603614807 and parameters: {'n_d': 120, 'n_a': 80, 'n_steps': 3, 'n_shared': 6, 'cat_emb_dim': 5, 'n_independent': 4, 'gamma': 1.894852047177669, 'momentum': 0.11696130033525201, 'lr': 0.022605913355349436, 'mask_type': 'entmax', 'lambda_sparse': 0.0007786270891632518, 'patience': 15, 'max_epochs': 120, 'virtual_batch_size': 128, 'batch_size': 768}. Best is trial 41 with value: 0.3974514603614807.\n"
     ]
    },
    {
     "name": "stdout",
     "output_type": "stream",
     "text": [
      "\n",
      "Fold 1:\n",
      "\n",
      "Early stopping occurred at epoch 41 with best_epoch = 26 and best_valid_rmse = 0.39866000413894653\n",
      "\n",
      "Fold 2:\n",
      "\n",
      "Early stopping occurred at epoch 35 with best_epoch = 20 and best_valid_rmse = 0.4014599919319153\n",
      "\n",
      "Fold 3:\n",
      "\n",
      "Early stopping occurred at epoch 37 with best_epoch = 22 and best_valid_rmse = 0.397379994392395\n",
      "\n",
      "Fold 4:\n",
      "\n",
      "Early stopping occurred at epoch 41 with best_epoch = 26 and best_valid_rmse = 0.4006499946117401\n"
     ]
    },
    {
     "name": "stderr",
     "output_type": "stream",
     "text": [
      "[I 2025-01-23 17:36:31,369] Trial 42 finished with value: 0.39953479170799255 and parameters: {'n_d': 124, 'n_a': 76, 'n_steps': 1, 'n_shared': 6, 'cat_emb_dim': 4, 'n_independent': 5, 'gamma': 1.910675408373048, 'momentum': 0.13441741951667247, 'lr': 0.025522170536512644, 'mask_type': 'entmax', 'lambda_sparse': 0.0015075556774289663, 'patience': 15, 'max_epochs': 130, 'virtual_batch_size': 128, 'batch_size': 896}. Best is trial 41 with value: 0.3974514603614807.\n"
     ]
    },
    {
     "name": "stdout",
     "output_type": "stream",
     "text": [
      "\n",
      "Fold 1:\n",
      "\n",
      "Early stopping occurred at epoch 49 with best_epoch = 29 and best_valid_rmse = 0.40108999609947205\n"
     ]
    },
    {
     "name": "stderr",
     "output_type": "stream",
     "text": [
      "[I 2025-01-23 17:41:17,221] Trial 43 pruned. \n"
     ]
    },
    {
     "name": "stdout",
     "output_type": "stream",
     "text": [
      "Fold 1:\n",
      "Stop training because you reached max_epochs = 115 with best_epoch = 102 and best_valid_rmse = 0.39812999963760376\n",
      "\n",
      "Fold 2:\n",
      "\n",
      "Early stopping occurred at epoch 111 with best_epoch = 96 and best_valid_rmse = 0.4007900059223175\n",
      "\n",
      "Fold 3:\n",
      "Stop training because you reached max_epochs = 115 with best_epoch = 102 and best_valid_rmse = 0.3949599862098694\n"
     ]
    },
    {
     "name": "stderr",
     "output_type": "stream",
     "text": [
      "[I 2025-01-23 17:50:49,884] Trial 44 pruned. \n"
     ]
    },
    {
     "name": "stdout",
     "output_type": "stream",
     "text": [
      "Fold 1:\n",
      "\n",
      "Early stopping occurred at epoch 17 with best_epoch = 7 and best_valid_rmse = 0.4226999878883362\n"
     ]
    },
    {
     "name": "stderr",
     "output_type": "stream",
     "text": [
      "[I 2025-01-23 17:52:31,036] Trial 45 pruned. \n"
     ]
    },
    {
     "name": "stdout",
     "output_type": "stream",
     "text": [
      "Fold 1:\n",
      "\n",
      "Early stopping occurred at epoch 32 with best_epoch = 17 and best_valid_rmse = 0.42732998728752136\n",
      "\n",
      "Fold 2:\n",
      "\n",
      "Early stopping occurred at epoch 34 with best_epoch = 19 and best_valid_rmse = 0.41846001148223877\n",
      "\n",
      "Fold 3:\n",
      "\n",
      "Early stopping occurred at epoch 35 with best_epoch = 20 and best_valid_rmse = 0.41297999024391174\n"
     ]
    },
    {
     "name": "stderr",
     "output_type": "stream",
     "text": [
      "[I 2025-01-23 17:59:18,712] Trial 46 pruned. \n"
     ]
    },
    {
     "name": "stdout",
     "output_type": "stream",
     "text": [
      "Fold 1:\n",
      "\n",
      "Early stopping occurred at epoch 30 with best_epoch = 10 and best_valid_rmse = 0.46775001287460327\n"
     ]
    },
    {
     "name": "stderr",
     "output_type": "stream",
     "text": [
      "[I 2025-01-23 18:00:50,031] Trial 47 pruned. \n"
     ]
    },
    {
     "name": "stdout",
     "output_type": "stream",
     "text": [
      "Fold 1:\n",
      "\n",
      "Early stopping occurred at epoch 10 with best_epoch = 0 and best_valid_rmse = 0.7418100237846375\n",
      "\n",
      "Fold 2:\n",
      "\n",
      "Early stopping occurred at epoch 10 with best_epoch = 0 and best_valid_rmse = 0.743690013885498\n",
      "\n",
      "Fold 3:\n",
      "\n",
      "Early stopping occurred at epoch 11 with best_epoch = 1 and best_valid_rmse = 0.8011400103569031\n"
     ]
    },
    {
     "name": "stderr",
     "output_type": "stream",
     "text": [
      "[I 2025-01-23 18:02:31,033] Trial 48 pruned. \n"
     ]
    },
    {
     "name": "stdout",
     "output_type": "stream",
     "text": [
      "Fold 1:\n",
      "\n",
      "Early stopping occurred at epoch 39 with best_epoch = 24 and best_valid_rmse = 0.40483999252319336\n"
     ]
    },
    {
     "name": "stderr",
     "output_type": "stream",
     "text": [
      "[I 2025-01-23 18:06:12,411] Trial 49 pruned. \n"
     ]
    },
    {
     "name": "stdout",
     "output_type": "stream",
     "text": [
      "Fold 1:\n",
      "Stop training because you reached max_epochs = 45 with best_epoch = 44 and best_valid_rmse = 0.413239985704422\n"
     ]
    },
    {
     "name": "stderr",
     "output_type": "stream",
     "text": [
      "[I 2025-01-23 18:08:08,181] Trial 50 pruned. \n"
     ]
    },
    {
     "name": "stdout",
     "output_type": "stream",
     "text": [
      "Fold 1:\n",
      "\n",
      "Early stopping occurred at epoch 42 with best_epoch = 27 and best_valid_rmse = 0.3977600038051605\n",
      "\n",
      "Fold 2:\n",
      "\n",
      "Early stopping occurred at epoch 46 with best_epoch = 31 and best_valid_rmse = 0.4016599953174591\n",
      "\n",
      "Fold 3:\n",
      "\n",
      "Early stopping occurred at epoch 46 with best_epoch = 31 and best_valid_rmse = 0.39445000886917114\n",
      "\n",
      "Fold 4:\n",
      "\n",
      "Early stopping occurred at epoch 37 with best_epoch = 22 and best_valid_rmse = 0.3985399901866913\n"
     ]
    },
    {
     "name": "stderr",
     "output_type": "stream",
     "text": [
      "[I 2025-01-23 18:21:59,976] Trial 51 finished with value: 0.3981023505330086 and parameters: {'n_d': 120, 'n_a': 88, 'n_steps': 3, 'n_shared': 6, 'cat_emb_dim': 5, 'n_independent': 4, 'gamma': 1.8625165673973343, 'momentum': 0.12110715071982432, 'lr': 0.03615808187403545, 'mask_type': 'entmax', 'lambda_sparse': 0.0008353761904472716, 'patience': 15, 'max_epochs': 125, 'virtual_batch_size': 128, 'batch_size': 768}. Best is trial 41 with value: 0.3974514603614807.\n"
     ]
    },
    {
     "name": "stdout",
     "output_type": "stream",
     "text": [
      "\n",
      "Fold 1:\n",
      "\n",
      "Early stopping occurred at epoch 42 with best_epoch = 27 and best_valid_rmse = 0.40171000361442566\n",
      "\n",
      "Fold 2:\n",
      "\n",
      "Early stopping occurred at epoch 38 with best_epoch = 23 and best_valid_rmse = 0.40428000688552856\n",
      "\n",
      "Fold 3:\n",
      "\n",
      "Early stopping occurred at epoch 40 with best_epoch = 25 and best_valid_rmse = 0.396699994802475\n",
      "\n",
      "Fold 4:\n",
      "\n",
      "Early stopping occurred at epoch 37 with best_epoch = 22 and best_valid_rmse = 0.40463998913764954\n"
     ]
    },
    {
     "name": "stderr",
     "output_type": "stream",
     "text": [
      "[I 2025-01-23 18:34:21,646] Trial 52 finished with value: 0.4018337279558182 and parameters: {'n_d': 120, 'n_a': 92, 'n_steps': 3, 'n_shared': 5, 'cat_emb_dim': 6, 'n_independent': 4, 'gamma': 1.8779742537345931, 'momentum': 0.1496759103615928, 'lr': 0.08455423290308811, 'mask_type': 'entmax', 'lambda_sparse': 0.0008041861400456922, 'patience': 15, 'max_epochs': 155, 'virtual_batch_size': 128, 'batch_size': 768}. Best is trial 41 with value: 0.3974514603614807.\n"
     ]
    },
    {
     "name": "stdout",
     "output_type": "stream",
     "text": [
      "\n",
      "Fold 1:\n",
      "\n",
      "Early stopping occurred at epoch 16 with best_epoch = 1 and best_valid_rmse = 0.439520001411438\n",
      "\n",
      "Fold 2:\n",
      "\n",
      "Early stopping occurred at epoch 21 with best_epoch = 6 and best_valid_rmse = 0.4386900067329407\n",
      "\n",
      "Fold 3:\n",
      "\n",
      "Early stopping occurred at epoch 22 with best_epoch = 7 and best_valid_rmse = 0.45473000407218933\n"
     ]
    },
    {
     "name": "stderr",
     "output_type": "stream",
     "text": [
      "[I 2025-01-23 18:41:45,109] Trial 53 pruned. \n"
     ]
    },
    {
     "name": "stdout",
     "output_type": "stream",
     "text": [
      "Fold 1:\n",
      "\n",
      "Early stopping occurred at epoch 34 with best_epoch = 19 and best_valid_rmse = 0.4004000127315521\n",
      "\n",
      "Fold 2:\n",
      "\n",
      "Early stopping occurred at epoch 37 with best_epoch = 22 and best_valid_rmse = 0.40011000633239746\n",
      "\n",
      "Fold 3:\n",
      "\n",
      "Early stopping occurred at epoch 34 with best_epoch = 19 and best_valid_rmse = 0.3973599970340729\n",
      "\n",
      "Fold 4:\n",
      "\n",
      "Early stopping occurred at epoch 50 with best_epoch = 35 and best_valid_rmse = 0.4011400043964386\n"
     ]
    },
    {
     "name": "stderr",
     "output_type": "stream",
     "text": [
      "[I 2025-01-23 18:52:30,970] Trial 54 finished with value: 0.3997529074549675 and parameters: {'n_d': 112, 'n_a': 112, 'n_steps': 2, 'n_shared': 6, 'cat_emb_dim': 4, 'n_independent': 4, 'gamma': 1.560698451945066, 'momentum': 0.18193357641379174, 'lr': 0.050393439455085086, 'mask_type': 'entmax', 'lambda_sparse': 0.0010811538301286265, 'patience': 15, 'max_epochs': 120, 'virtual_batch_size': 128, 'batch_size': 768}. Best is trial 41 with value: 0.3974514603614807.\n"
     ]
    },
    {
     "name": "stdout",
     "output_type": "stream",
     "text": [
      "\n",
      "Fold 1:\n",
      "\n",
      "Early stopping occurred at epoch 31 with best_epoch = 16 and best_valid_rmse = 0.3978700041770935\n",
      "\n",
      "Fold 2:\n",
      "\n",
      "Early stopping occurred at epoch 32 with best_epoch = 17 and best_valid_rmse = 0.399619996547699\n",
      "\n",
      "Fold 3:\n",
      "\n",
      "Early stopping occurred at epoch 33 with best_epoch = 18 and best_valid_rmse = 0.39337000250816345\n",
      "\n",
      "Fold 4:\n",
      "\n",
      "Early stopping occurred at epoch 30 with best_epoch = 15 and best_valid_rmse = 0.3987799882888794\n"
     ]
    },
    {
     "name": "stderr",
     "output_type": "stream",
     "text": [
      "[I 2025-01-23 19:01:56,322] Trial 55 finished with value: 0.397411972284317 and parameters: {'n_d': 104, 'n_a': 100, 'n_steps': 1, 'n_shared': 8, 'cat_emb_dim': 7, 'n_independent': 5, 'gamma': 1.969681832969032, 'momentum': 0.13462647525378804, 'lr': 0.022420528565572195, 'mask_type': 'entmax', 'lambda_sparse': 0.0002863147812592401, 'patience': 15, 'max_epochs': 170, 'virtual_batch_size': 128, 'batch_size': 512}. Best is trial 55 with value: 0.397411972284317.\n"
     ]
    },
    {
     "name": "stdout",
     "output_type": "stream",
     "text": [
      "\n",
      "Fold 1:\n",
      "\n",
      "Early stopping occurred at epoch 34 with best_epoch = 19 and best_valid_rmse = 0.39844998717308044\n",
      "\n",
      "Fold 2:\n",
      "\n",
      "Early stopping occurred at epoch 29 with best_epoch = 14 and best_valid_rmse = 0.39840999245643616\n",
      "\n",
      "Fold 3:\n",
      "\n",
      "Early stopping occurred at epoch 32 with best_epoch = 17 and best_valid_rmse = 0.3949800133705139\n",
      "\n",
      "Fold 4:\n",
      "\n",
      "Early stopping occurred at epoch 30 with best_epoch = 15 and best_valid_rmse = 0.3981899917125702\n"
     ]
    },
    {
     "name": "stderr",
     "output_type": "stream",
     "text": [
      "[I 2025-01-23 19:12:57,652] Trial 56 finished with value: 0.3975074663758278 and parameters: {'n_d': 120, 'n_a': 100, 'n_steps': 1, 'n_shared': 8, 'cat_emb_dim': 7, 'n_independent': 5, 'gamma': 1.9984723962379114, 'momentum': 0.15170272849911273, 'lr': 0.020434734649596643, 'mask_type': 'entmax', 'lambda_sparse': 0.0002791867248267634, 'patience': 15, 'max_epochs': 200, 'virtual_batch_size': 128, 'batch_size': 384}. Best is trial 55 with value: 0.397411972284317.\n"
     ]
    },
    {
     "name": "stdout",
     "output_type": "stream",
     "text": [
      "\n",
      "Fold 1:\n",
      "\n",
      "Early stopping occurred at epoch 34 with best_epoch = 19 and best_valid_rmse = 0.3988899886608124\n",
      "\n",
      "Fold 2:\n",
      "\n",
      "Early stopping occurred at epoch 33 with best_epoch = 18 and best_valid_rmse = 0.4009999930858612\n",
      "\n",
      "Fold 3:\n",
      "\n",
      "Early stopping occurred at epoch 31 with best_epoch = 16 and best_valid_rmse = 0.3958599865436554\n"
     ]
    },
    {
     "name": "stderr",
     "output_type": "stream",
     "text": [
      "[I 2025-01-23 19:21:59,201] Trial 57 pruned. \n"
     ]
    },
    {
     "name": "stdout",
     "output_type": "stream",
     "text": [
      "Fold 1:\n",
      "\n",
      "Early stopping occurred at epoch 36 with best_epoch = 16 and best_valid_rmse = 0.3995000123977661\n",
      "\n",
      "Fold 2:\n",
      "\n",
      "Early stopping occurred at epoch 36 with best_epoch = 16 and best_valid_rmse = 0.4033600091934204\n",
      "\n",
      "Fold 3:\n",
      "\n",
      "Early stopping occurred at epoch 35 with best_epoch = 15 and best_valid_rmse = 0.3989500105381012\n"
     ]
    },
    {
     "name": "stderr",
     "output_type": "stream",
     "text": [
      "[I 2025-01-23 19:31:41,499] Trial 58 pruned. \n"
     ]
    },
    {
     "name": "stdout",
     "output_type": "stream",
     "text": [
      "Fold 1:\n",
      "\n",
      "Early stopping occurred at epoch 50 with best_epoch = 35 and best_valid_rmse = 0.4127100110054016\n"
     ]
    },
    {
     "name": "stderr",
     "output_type": "stream",
     "text": [
      "[I 2025-01-23 19:36:36,866] Trial 59 pruned. \n"
     ]
    },
    {
     "name": "stdout",
     "output_type": "stream",
     "text": [
      "Fold 1:\n",
      "\n",
      "Early stopping occurred at epoch 28 with best_epoch = 13 and best_valid_rmse = 0.43557000160217285\n",
      "\n",
      "Fold 2:\n",
      "\n",
      "Early stopping occurred at epoch 37 with best_epoch = 22 and best_valid_rmse = 0.4694899916648865\n",
      "\n",
      "Fold 3:\n",
      "\n",
      "Early stopping occurred at epoch 60 with best_epoch = 45 and best_valid_rmse = 0.45287999510765076\n"
     ]
    },
    {
     "name": "stderr",
     "output_type": "stream",
     "text": [
      "[I 2025-01-23 19:39:57,142] Trial 60 pruned. \n"
     ]
    },
    {
     "name": "stdout",
     "output_type": "stream",
     "text": [
      "Fold 1:\n",
      "\n",
      "Early stopping occurred at epoch 32 with best_epoch = 17 and best_valid_rmse = 0.3987700045108795\n",
      "\n",
      "Fold 2:\n",
      "\n",
      "Early stopping occurred at epoch 30 with best_epoch = 15 and best_valid_rmse = 0.3987700045108795\n",
      "\n",
      "Fold 3:\n",
      "\n",
      "Early stopping occurred at epoch 31 with best_epoch = 16 and best_valid_rmse = 0.39337998628616333\n",
      "\n",
      "Fold 4:\n",
      "\n",
      "Early stopping occurred at epoch 35 with best_epoch = 20 and best_valid_rmse = 0.39831000566482544\n"
     ]
    },
    {
     "name": "stderr",
     "output_type": "stream",
     "text": [
      "[I 2025-01-23 19:51:05,997] Trial 61 finished with value: 0.39730799198150635 and parameters: {'n_d': 124, 'n_a': 100, 'n_steps': 1, 'n_shared': 8, 'cat_emb_dim': 7, 'n_independent': 4, 'gamma': 1.9338924270157944, 'momentum': 0.207041732793516, 'lr': 0.013550689988227341, 'mask_type': 'entmax', 'lambda_sparse': 0.00032753207229611837, 'patience': 15, 'max_epochs': 200, 'virtual_batch_size': 128, 'batch_size': 384}. Best is trial 61 with value: 0.39730799198150635.\n"
     ]
    },
    {
     "name": "stdout",
     "output_type": "stream",
     "text": [
      "\n",
      "Fold 1:\n",
      "\n",
      "Early stopping occurred at epoch 34 with best_epoch = 19 and best_valid_rmse = 0.3984000086784363\n",
      "\n",
      "Fold 2:\n",
      "\n",
      "Early stopping occurred at epoch 30 with best_epoch = 15 and best_valid_rmse = 0.40042001008987427\n",
      "\n",
      "Fold 3:\n",
      "\n",
      "Early stopping occurred at epoch 33 with best_epoch = 18 and best_valid_rmse = 0.3945600092411041\n"
     ]
    },
    {
     "name": "stderr",
     "output_type": "stream",
     "text": [
      "[I 2025-01-23 19:59:35,346] Trial 62 pruned. \n"
     ]
    },
    {
     "name": "stdout",
     "output_type": "stream",
     "text": [
      "Fold 1:\n",
      "\n",
      "Early stopping occurred at epoch 28 with best_epoch = 13 and best_valid_rmse = 0.3979099988937378\n",
      "\n",
      "Fold 2:\n",
      "\n",
      "Early stopping occurred at epoch 31 with best_epoch = 16 and best_valid_rmse = 0.40031999349594116\n",
      "\n",
      "Fold 3:\n",
      "\n",
      "Early stopping occurred at epoch 28 with best_epoch = 13 and best_valid_rmse = 0.3938800096511841\n",
      "\n",
      "Fold 4:\n",
      "\n",
      "Early stopping occurred at epoch 34 with best_epoch = 19 and best_valid_rmse = 0.3992899954319\n"
     ]
    },
    {
     "name": "stderr",
     "output_type": "stream",
     "text": [
      "[I 2025-01-23 20:14:13,300] Trial 63 finished with value: 0.3978528678417206 and parameters: {'n_d': 116, 'n_a': 112, 'n_steps': 1, 'n_shared': 8, 'cat_emb_dim': 7, 'n_independent': 6, 'gamma': 1.8982701436675942, 'momentum': 0.11642262416566763, 'lr': 0.01381494865819578, 'mask_type': 'entmax', 'lambda_sparse': 0.00016696800317019312, 'patience': 15, 'max_epochs': 185, 'virtual_batch_size': 128, 'batch_size': 256}. Best is trial 61 with value: 0.39730799198150635.\n"
     ]
    },
    {
     "name": "stdout",
     "output_type": "stream",
     "text": [
      "\n",
      "Fold 1:\n",
      "\n",
      "Early stopping occurred at epoch 34 with best_epoch = 19 and best_valid_rmse = 0.3994300067424774\n"
     ]
    },
    {
     "name": "stderr",
     "output_type": "stream",
     "text": [
      "[I 2025-01-23 20:18:20,614] Trial 64 pruned. \n"
     ]
    },
    {
     "name": "stdout",
     "output_type": "stream",
     "text": [
      "Fold 1:\n",
      "\n",
      "Early stopping occurred at epoch 40 with best_epoch = 25 and best_valid_rmse = 0.39893001317977905\n",
      "\n",
      "Fold 2:\n",
      "\n",
      "Early stopping occurred at epoch 41 with best_epoch = 26 and best_valid_rmse = 0.40128999948501587\n",
      "\n",
      "Fold 3:\n",
      "\n",
      "Early stopping occurred at epoch 42 with best_epoch = 27 and best_valid_rmse = 0.3959600031375885\n"
     ]
    },
    {
     "name": "stderr",
     "output_type": "stream",
     "text": [
      "[I 2025-01-23 20:27:12,712] Trial 65 pruned. \n"
     ]
    },
    {
     "name": "stdout",
     "output_type": "stream",
     "text": [
      "Fold 1:\n",
      "\n",
      "Early stopping occurred at epoch 29 with best_epoch = 14 and best_valid_rmse = 0.40345999598503113\n",
      "\n",
      "Fold 2:\n",
      "\n",
      "Early stopping occurred at epoch 28 with best_epoch = 13 and best_valid_rmse = 0.40608999133110046\n",
      "\n",
      "Fold 3:\n",
      "\n",
      "Early stopping occurred at epoch 33 with best_epoch = 18 and best_valid_rmse = 0.39987000823020935\n"
     ]
    },
    {
     "name": "stderr",
     "output_type": "stream",
     "text": [
      "[I 2025-01-23 20:35:32,741] Trial 66 pruned. \n"
     ]
    },
    {
     "name": "stdout",
     "output_type": "stream",
     "text": [
      "Fold 1:\n",
      "\n",
      "Early stopping occurred at epoch 32 with best_epoch = 17 and best_valid_rmse = 0.3986800014972687\n",
      "\n",
      "Fold 2:\n",
      "\n",
      "Early stopping occurred at epoch 26 with best_epoch = 11 and best_valid_rmse = 0.40206000208854675\n",
      "\n",
      "Fold 3:\n",
      "\n",
      "Early stopping occurred at epoch 26 with best_epoch = 11 and best_valid_rmse = 0.3988099992275238\n"
     ]
    },
    {
     "name": "stderr",
     "output_type": "stream",
     "text": [
      "[I 2025-01-23 20:49:07,265] Trial 67 pruned. \n"
     ]
    },
    {
     "name": "stdout",
     "output_type": "stream",
     "text": [
      "Fold 1:\n",
      "Stop training because you reached max_epochs = 175 with best_epoch = 165 and best_valid_rmse = 0.40610000491142273\n"
     ]
    },
    {
     "name": "stderr",
     "output_type": "stream",
     "text": [
      "[I 2025-01-23 20:54:56,621] Trial 68 pruned. \n"
     ]
    },
    {
     "name": "stdout",
     "output_type": "stream",
     "text": [
      "Fold 1:\n",
      "\n",
      "Early stopping occurred at epoch 32 with best_epoch = 17 and best_valid_rmse = 0.3995800018310547\n"
     ]
    },
    {
     "name": "stderr",
     "output_type": "stream",
     "text": [
      "[I 2025-01-23 20:58:54,516] Trial 69 pruned. \n"
     ]
    },
    {
     "name": "stdout",
     "output_type": "stream",
     "text": [
      "Fold 1:\n",
      "\n",
      "Early stopping occurred at epoch 49 with best_epoch = 29 and best_valid_rmse = 0.4138199985027313\n"
     ]
    },
    {
     "name": "stderr",
     "output_type": "stream",
     "text": [
      "[I 2025-01-23 21:04:21,959] Trial 70 pruned. \n"
     ]
    },
    {
     "name": "stdout",
     "output_type": "stream",
     "text": [
      "Fold 1:\n",
      "\n",
      "Early stopping occurred at epoch 29 with best_epoch = 14 and best_valid_rmse = 0.40042001008987427\n"
     ]
    },
    {
     "name": "stderr",
     "output_type": "stream",
     "text": [
      "[I 2025-01-23 21:06:47,130] Trial 71 pruned. \n"
     ]
    },
    {
     "name": "stdout",
     "output_type": "stream",
     "text": [
      "Fold 1:\n",
      "\n",
      "Early stopping occurred at epoch 42 with best_epoch = 27 and best_valid_rmse = 0.39743998646736145\n",
      "\n",
      "Fold 2:\n",
      "\n",
      "Early stopping occurred at epoch 32 with best_epoch = 17 and best_valid_rmse = 0.3997400104999542\n",
      "\n",
      "Fold 3:\n",
      "\n",
      "Early stopping occurred at epoch 36 with best_epoch = 21 and best_valid_rmse = 0.3949599862098694\n",
      "\n",
      "Fold 4:\n",
      "\n",
      "Early stopping occurred at epoch 33 with best_epoch = 18 and best_valid_rmse = 0.3980500102043152\n"
     ]
    },
    {
     "name": "stderr",
     "output_type": "stream",
     "text": [
      "[I 2025-01-23 21:19:09,221] Trial 72 finished with value: 0.3975496366620064 and parameters: {'n_d': 124, 'n_a': 100, 'n_steps': 2, 'n_shared': 8, 'cat_emb_dim': 5, 'n_independent': 3, 'gamma': 1.876519317704543, 'momentum': 0.1365738519150433, 'lr': 0.015921976762061106, 'mask_type': 'entmax', 'lambda_sparse': 0.0003479299393633645, 'patience': 15, 'max_epochs': 165, 'virtual_batch_size': 128, 'batch_size': 512}. Best is trial 61 with value: 0.39730799198150635.\n"
     ]
    },
    {
     "name": "stdout",
     "output_type": "stream",
     "text": [
      "\n",
      "Fold 1:\n",
      "\n",
      "Early stopping occurred at epoch 38 with best_epoch = 23 and best_valid_rmse = 0.3970699906349182\n",
      "\n",
      "Fold 2:\n",
      "\n",
      "Early stopping occurred at epoch 34 with best_epoch = 19 and best_valid_rmse = 0.3990499973297119\n",
      "\n",
      "Fold 3:\n",
      "\n",
      "Early stopping occurred at epoch 33 with best_epoch = 18 and best_valid_rmse = 0.39487001299858093\n",
      "\n",
      "Fold 4:\n",
      "\n",
      "Early stopping occurred at epoch 40 with best_epoch = 25 and best_valid_rmse = 0.3974800109863281\n"
     ]
    },
    {
     "name": "stderr",
     "output_type": "stream",
     "text": [
      "[I 2025-01-23 21:31:45,352] Trial 73 finished with value: 0.39711659401655197 and parameters: {'n_d': 128, 'n_a': 100, 'n_steps': 2, 'n_shared': 8, 'cat_emb_dim': 6, 'n_independent': 3, 'gamma': 1.8929841506874447, 'momentum': 0.1433196803709077, 'lr': 0.01735228720923624, 'mask_type': 'entmax', 'lambda_sparse': 0.00024642661996851907, 'patience': 15, 'max_epochs': 165, 'virtual_batch_size': 128, 'batch_size': 512}. Best is trial 73 with value: 0.39711659401655197.\n"
     ]
    },
    {
     "name": "stdout",
     "output_type": "stream",
     "text": [
      "\n",
      "Fold 1:\n",
      "\n",
      "Early stopping occurred at epoch 38 with best_epoch = 23 and best_valid_rmse = 0.39816999435424805\n",
      "\n",
      "Fold 2:\n",
      "\n",
      "Early stopping occurred at epoch 36 with best_epoch = 21 and best_valid_rmse = 0.4000000059604645\n",
      "\n",
      "Fold 3:\n",
      "\n",
      "Early stopping occurred at epoch 33 with best_epoch = 18 and best_valid_rmse = 0.3948499858379364\n"
     ]
    },
    {
     "name": "stderr",
     "output_type": "stream",
     "text": [
      "[I 2025-01-23 21:41:04,264] Trial 74 pruned. \n"
     ]
    },
    {
     "name": "stdout",
     "output_type": "stream",
     "text": [
      "Fold 1:\n",
      "\n",
      "Early stopping occurred at epoch 35 with best_epoch = 20 and best_valid_rmse = 0.4004000127315521\n",
      "\n",
      "Fold 2:\n",
      "\n",
      "Early stopping occurred at epoch 34 with best_epoch = 19 and best_valid_rmse = 0.4019800126552582\n",
      "\n",
      "Fold 3:\n",
      "\n",
      "Early stopping occurred at epoch 31 with best_epoch = 16 and best_valid_rmse = 0.3972800076007843\n",
      "\n",
      "Fold 4:\n",
      "\n",
      "Early stopping occurred at epoch 41 with best_epoch = 26 and best_valid_rmse = 0.40112999081611633\n"
     ]
    },
    {
     "name": "stderr",
     "output_type": "stream",
     "text": [
      "[I 2025-01-23 21:52:31,413] Trial 75 finished with value: 0.40020088851451874 and parameters: {'n_d': 124, 'n_a': 96, 'n_steps': 2, 'n_shared': 9, 'cat_emb_dim': 6, 'n_independent': 3, 'gamma': 1.8412059886296075, 'momentum': 0.16590036562967916, 'lr': 0.061171836968783394, 'mask_type': 'entmax', 'lambda_sparse': 0.0002537119502980701, 'patience': 15, 'max_epochs': 165, 'virtual_batch_size': 128, 'batch_size': 640}. Best is trial 73 with value: 0.39711659401655197.\n"
     ]
    },
    {
     "name": "stdout",
     "output_type": "stream",
     "text": [
      "\n",
      "Fold 1:\n",
      "\n",
      "Early stopping occurred at epoch 40 with best_epoch = 25 and best_valid_rmse = 0.3990199863910675\n",
      "\n",
      "Fold 2:\n",
      "\n",
      "Early stopping occurred at epoch 41 with best_epoch = 26 and best_valid_rmse = 0.4000299870967865\n",
      "\n",
      "Fold 3:\n",
      "\n",
      "Early stopping occurred at epoch 41 with best_epoch = 26 and best_valid_rmse = 0.39410001039505005\n",
      "\n",
      "Fold 4:\n",
      "\n",
      "Early stopping occurred at epoch 48 with best_epoch = 33 and best_valid_rmse = 0.3983500003814697\n"
     ]
    },
    {
     "name": "stderr",
     "output_type": "stream",
     "text": [
      "[I 2025-01-23 22:00:39,859] Trial 76 finished with value: 0.3978748247027397 and parameters: {'n_d': 128, 'n_a': 84, 'n_steps': 2, 'n_shared': 7, 'cat_emb_dim': 5, 'n_independent': 3, 'gamma': 1.9675483320104714, 'momentum': 0.17573420204754336, 'lr': 0.03146851126491983, 'mask_type': 'entmax', 'lambda_sparse': 0.00036522315587466525, 'patience': 15, 'max_epochs': 150, 'virtual_batch_size': 256, 'batch_size': 1280}. Best is trial 73 with value: 0.39711659401655197.\n"
     ]
    },
    {
     "name": "stdout",
     "output_type": "stream",
     "text": [
      "\n",
      "Fold 1:\n",
      "\n",
      "Early stopping occurred at epoch 15 with best_epoch = 0 and best_valid_rmse = 0.6449300050735474\n",
      "\n",
      "Fold 2:\n",
      "\n",
      "Early stopping occurred at epoch 15 with best_epoch = 0 and best_valid_rmse = 0.6519200205802917\n",
      "\n",
      "Fold 3:\n",
      "\n",
      "Early stopping occurred at epoch 15 with best_epoch = 0 and best_valid_rmse = 0.6467599868774414\n"
     ]
    },
    {
     "name": "stderr",
     "output_type": "stream",
     "text": [
      "[I 2025-01-23 22:05:42,822] Trial 77 pruned. \n"
     ]
    },
    {
     "name": "stdout",
     "output_type": "stream",
     "text": [
      "Fold 1:\n",
      "\n",
      "Early stopping occurred at epoch 22 with best_epoch = 7 and best_valid_rmse = 0.45699000358581543\n"
     ]
    },
    {
     "name": "stderr",
     "output_type": "stream",
     "text": [
      "[I 2025-01-23 22:07:52,984] Trial 78 pruned. \n"
     ]
    },
    {
     "name": "stdout",
     "output_type": "stream",
     "text": [
      "Fold 1:\n",
      "\n",
      "Early stopping occurred at epoch 20 with best_epoch = 0 and best_valid_rmse = 0.4713200032711029\n"
     ]
    },
    {
     "name": "stderr",
     "output_type": "stream",
     "text": [
      "[I 2025-01-23 22:09:32,852] Trial 79 pruned. \n"
     ]
    },
    {
     "name": "stdout",
     "output_type": "stream",
     "text": [
      "Fold 1:\n",
      "\n",
      "Early stopping occurred at epoch 38 with best_epoch = 23 and best_valid_rmse = 0.3978399932384491\n",
      "\n",
      "Fold 2:\n",
      "\n",
      "Early stopping occurred at epoch 36 with best_epoch = 21 and best_valid_rmse = 0.3985700011253357\n",
      "\n",
      "Fold 3:\n",
      "\n",
      "Early stopping occurred at epoch 45 with best_epoch = 30 and best_valid_rmse = 0.39351001381874084\n",
      "\n",
      "Fold 4:\n",
      "\n",
      "Early stopping occurred at epoch 43 with best_epoch = 28 and best_valid_rmse = 0.39761000871658325\n"
     ]
    },
    {
     "name": "stderr",
     "output_type": "stream",
     "text": [
      "[I 2025-01-23 22:21:36,760] Trial 80 finished with value: 0.39688700437545776 and parameters: {'n_d': 116, 'n_a': 104, 'n_steps': 3, 'n_shared': 2, 'cat_emb_dim': 8, 'n_independent': 4, 'gamma': 1.9345273974178543, 'momentum': 0.0899448524142977, 'lr': 0.03994993939960936, 'mask_type': 'entmax', 'lambda_sparse': 0.00032863368231894754, 'patience': 15, 'max_epochs': 140, 'virtual_batch_size': 128, 'batch_size': 640}. Best is trial 80 with value: 0.39688700437545776.\n"
     ]
    },
    {
     "name": "stdout",
     "output_type": "stream",
     "text": [
      "\n",
      "Fold 1:\n",
      "\n",
      "Early stopping occurred at epoch 35 with best_epoch = 20 and best_valid_rmse = 0.39844000339508057\n",
      "\n",
      "Fold 2:\n",
      "\n",
      "Early stopping occurred at epoch 35 with best_epoch = 20 and best_valid_rmse = 0.39902999997138977\n",
      "\n",
      "Fold 3:\n",
      "\n",
      "Early stopping occurred at epoch 32 with best_epoch = 17 and best_valid_rmse = 0.39476001262664795\n"
     ]
    },
    {
     "name": "stderr",
     "output_type": "stream",
     "text": [
      "[I 2025-01-23 22:29:18,668] Trial 81 pruned. \n"
     ]
    },
    {
     "name": "stdout",
     "output_type": "stream",
     "text": [
      "Fold 1:\n",
      "\n",
      "Early stopping occurred at epoch 38 with best_epoch = 23 and best_valid_rmse = 0.3966299891471863\n",
      "\n",
      "Fold 2:\n",
      "\n",
      "Early stopping occurred at epoch 37 with best_epoch = 22 and best_valid_rmse = 0.39945000410079956\n",
      "\n",
      "Fold 3:\n",
      "\n",
      "Early stopping occurred at epoch 41 with best_epoch = 26 and best_valid_rmse = 0.39441001415252686\n",
      "\n",
      "Fold 4:\n",
      "\n",
      "Early stopping occurred at epoch 41 with best_epoch = 26 and best_valid_rmse = 0.39816999435424805\n"
     ]
    },
    {
     "name": "stderr",
     "output_type": "stream",
     "text": [
      "[I 2025-01-23 22:41:45,979] Trial 82 finished with value: 0.39716535806655884 and parameters: {'n_d': 128, 'n_a': 92, 'n_steps': 3, 'n_shared': 3, 'cat_emb_dim': 9, 'n_independent': 4, 'gamma': 1.859258867706891, 'momentum': 0.05320255678637436, 'lr': 0.014325268847238061, 'mask_type': 'entmax', 'lambda_sparse': 0.00023806094156843054, 'patience': 15, 'max_epochs': 155, 'virtual_batch_size': 128, 'batch_size': 640}. Best is trial 80 with value: 0.39688700437545776.\n"
     ]
    },
    {
     "name": "stdout",
     "output_type": "stream",
     "text": [
      "\n",
      "Fold 1:\n",
      "\n",
      "Early stopping occurred at epoch 41 with best_epoch = 26 and best_valid_rmse = 0.4004800021648407\n",
      "\n",
      "Fold 2:\n",
      "\n",
      "Early stopping occurred at epoch 35 with best_epoch = 20 and best_valid_rmse = 0.4034999907016754\n",
      "\n",
      "Fold 3:\n",
      "\n",
      "Early stopping occurred at epoch 39 with best_epoch = 24 and best_valid_rmse = 0.3976399898529053\n"
     ]
    },
    {
     "name": "stderr",
     "output_type": "stream",
     "text": [
      "[I 2025-01-23 22:52:57,030] Trial 83 pruned. \n"
     ]
    },
    {
     "name": "stdout",
     "output_type": "stream",
     "text": [
      "Fold 1:\n",
      "\n",
      "Early stopping occurred at epoch 43 with best_epoch = 28 and best_valid_rmse = 0.3959900140762329\n",
      "\n",
      "Fold 2:\n",
      "\n",
      "Early stopping occurred at epoch 50 with best_epoch = 35 and best_valid_rmse = 0.39746999740600586\n",
      "\n",
      "Fold 3:\n",
      "\n",
      "Early stopping occurred at epoch 39 with best_epoch = 24 and best_valid_rmse = 0.39333000779151917\n",
      "\n",
      "Fold 4:\n",
      "\n",
      "Early stopping occurred at epoch 38 with best_epoch = 23 and best_valid_rmse = 0.3965499997138977\n"
     ]
    },
    {
     "name": "stderr",
     "output_type": "stream",
     "text": [
      "[I 2025-01-23 23:09:44,503] Trial 84 finished with value: 0.3958360478281975 and parameters: {'n_d': 124, 'n_a': 100, 'n_steps': 4, 'n_shared': 3, 'cat_emb_dim': 9, 'n_independent': 5, 'gamma': 1.8487718599345104, 'momentum': 0.05372740601621637, 'lr': 0.017155146443617965, 'mask_type': 'entmax', 'lambda_sparse': 0.0002534570741356221, 'patience': 15, 'max_epochs': 165, 'virtual_batch_size': 128, 'batch_size': 640}. Best is trial 84 with value: 0.3958360478281975.\n"
     ]
    },
    {
     "name": "stdout",
     "output_type": "stream",
     "text": [
      "\n",
      "Fold 1:\n",
      "\n",
      "Early stopping occurred at epoch 38 with best_epoch = 23 and best_valid_rmse = 0.3975200057029724\n",
      "\n",
      "Fold 2:\n",
      "\n",
      "Early stopping occurred at epoch 45 with best_epoch = 30 and best_valid_rmse = 0.39897000789642334\n",
      "\n",
      "Fold 3:\n",
      "\n",
      "Early stopping occurred at epoch 46 with best_epoch = 31 and best_valid_rmse = 0.3930000066757202\n",
      "\n",
      "Fold 4:\n",
      "\n",
      "Early stopping occurred at epoch 45 with best_epoch = 30 and best_valid_rmse = 0.3975200057029724\n"
     ]
    },
    {
     "name": "stderr",
     "output_type": "stream",
     "text": [
      "[I 2025-01-23 23:26:52,635] Trial 85 finished with value: 0.3967526704072952 and parameters: {'n_d': 124, 'n_a': 108, 'n_steps': 4, 'n_shared': 3, 'cat_emb_dim': 9, 'n_independent': 5, 'gamma': 1.8896888549925919, 'momentum': 0.01039991724734421, 'lr': 0.014010161641062035, 'mask_type': 'entmax', 'lambda_sparse': 0.00024975206008530273, 'patience': 15, 'max_epochs': 150, 'virtual_batch_size': 128, 'batch_size': 640}. Best is trial 84 with value: 0.3958360478281975.\n"
     ]
    },
    {
     "name": "stdout",
     "output_type": "stream",
     "text": [
      "\n",
      "Fold 1:\n",
      "\n",
      "Early stopping occurred at epoch 41 with best_epoch = 26 and best_valid_rmse = 0.3985599875450134\n",
      "\n",
      "Fold 2:\n",
      "\n",
      "Early stopping occurred at epoch 43 with best_epoch = 28 and best_valid_rmse = 0.39965999126434326\n",
      "\n",
      "Fold 3:\n",
      "\n",
      "Early stopping occurred at epoch 41 with best_epoch = 26 and best_valid_rmse = 0.39566999673843384\n",
      "\n",
      "Fold 4:\n",
      "\n",
      "Early stopping occurred at epoch 48 with best_epoch = 33 and best_valid_rmse = 0.4000200033187866\n"
     ]
    },
    {
     "name": "stderr",
     "output_type": "stream",
     "text": [
      "[I 2025-01-23 23:43:44,110] Trial 86 finished with value: 0.3984790965914726 and parameters: {'n_d': 116, 'n_a': 120, 'n_steps': 4, 'n_shared': 3, 'cat_emb_dim': 9, 'n_independent': 5, 'gamma': 1.773523385474887, 'momentum': 0.048197579767812644, 'lr': 0.02681408915751452, 'mask_type': 'sparsemax', 'lambda_sparse': 0.00024078759392138048, 'patience': 15, 'max_epochs': 150, 'virtual_batch_size': 128, 'batch_size': 640}. Best is trial 84 with value: 0.3958360478281975.\n"
     ]
    },
    {
     "name": "stdout",
     "output_type": "stream",
     "text": [
      "\n",
      "Fold 1:\n",
      "\n",
      "Early stopping occurred at epoch 59 with best_epoch = 44 and best_valid_rmse = 0.40070998668670654\n",
      "\n",
      "Fold 2:\n",
      "\n",
      "Early stopping occurred at epoch 53 with best_epoch = 38 and best_valid_rmse = 0.4020400047302246\n",
      "\n",
      "Fold 3:\n",
      "\n",
      "Early stopping occurred at epoch 67 with best_epoch = 52 and best_valid_rmse = 0.3942500054836273\n",
      "\n",
      "Fold 4:\n",
      "\n",
      "Early stopping occurred at epoch 57 with best_epoch = 42 and best_valid_rmse = 0.3997400104999542\n"
     ]
    },
    {
     "name": "stderr",
     "output_type": "stream",
     "text": [
      "[I 2025-01-23 23:53:51,781] Trial 87 finished with value: 0.39918430894613266 and parameters: {'n_d': 56, 'n_a': 108, 'n_steps': 5, 'n_shared': 1, 'cat_emb_dim': 10, 'n_independent': 5, 'gamma': 1.9464087352193993, 'momentum': 0.021782499588699572, 'lr': 0.05779125992068797, 'mask_type': 'entmax', 'lambda_sparse': 0.0001877445704784968, 'patience': 15, 'max_epochs': 140, 'virtual_batch_size': 512, 'batch_size': 2048}. Best is trial 84 with value: 0.3958360478281975.\n"
     ]
    },
    {
     "name": "stdout",
     "output_type": "stream",
     "text": [
      "\n",
      "Fold 1:\n",
      "\n",
      "Early stopping occurred at epoch 97 with best_epoch = 82 and best_valid_rmse = 0.3997499942779541\n"
     ]
    },
    {
     "name": "stderr",
     "output_type": "stream",
     "text": [
      "[I 2025-01-23 23:57:05,638] Trial 88 pruned. \n"
     ]
    },
    {
     "name": "stdout",
     "output_type": "stream",
     "text": [
      "Fold 1:\n",
      "\n",
      "Early stopping occurred at epoch 20 with best_epoch = 5 and best_valid_rmse = 0.42937999963760376\n",
      "\n",
      "Fold 2:\n",
      "\n",
      "Early stopping occurred at epoch 36 with best_epoch = 21 and best_valid_rmse = 0.46029001474380493\n",
      "\n",
      "Fold 3:\n",
      "\n",
      "Early stopping occurred at epoch 29 with best_epoch = 14 and best_valid_rmse = 0.4246099889278412\n"
     ]
    },
    {
     "name": "stderr",
     "output_type": "stream",
     "text": [
      "[I 2025-01-24 00:04:40,102] Trial 89 pruned. \n"
     ]
    },
    {
     "name": "stdout",
     "output_type": "stream",
     "text": [
      "Fold 1:\n",
      "\n",
      "Early stopping occurred at epoch 44 with best_epoch = 29 and best_valid_rmse = 0.39691999554634094\n",
      "\n",
      "Fold 2:\n",
      "\n",
      "Early stopping occurred at epoch 50 with best_epoch = 35 and best_valid_rmse = 0.40272998809814453\n",
      "\n",
      "Fold 3:\n",
      "\n",
      "Early stopping occurred at epoch 38 with best_epoch = 23 and best_valid_rmse = 0.3931399881839752\n",
      "\n",
      "Fold 4:\n",
      "\n",
      "Early stopping occurred at epoch 40 with best_epoch = 25 and best_valid_rmse = 0.39987000823020935\n"
     ]
    },
    {
     "name": "stderr",
     "output_type": "stream",
     "text": [
      "[I 2025-01-24 00:20:13,641] Trial 90 finished with value: 0.3981660157442093 and parameters: {'n_d': 120, 'n_a': 96, 'n_steps': 4, 'n_shared': 3, 'cat_emb_dim': 9, 'n_independent': 4, 'gamma': 1.8988991336547907, 'momentum': 0.049894319212212386, 'lr': 0.04655893794947893, 'mask_type': 'entmax', 'lambda_sparse': 0.00023273918123134857, 'patience': 15, 'max_epochs': 170, 'virtual_batch_size': 128, 'batch_size': 640}. Best is trial 84 with value: 0.3958360478281975.\n"
     ]
    },
    {
     "name": "stdout",
     "output_type": "stream",
     "text": [
      "\n",
      "Fold 1:\n",
      "\n",
      "Early stopping occurred at epoch 32 with best_epoch = 17 and best_valid_rmse = 0.39699000120162964\n",
      "\n",
      "Fold 2:\n",
      "\n",
      "Early stopping occurred at epoch 44 with best_epoch = 29 and best_valid_rmse = 0.39941999316215515\n",
      "\n",
      "Fold 3:\n",
      "\n",
      "Early stopping occurred at epoch 35 with best_epoch = 20 and best_valid_rmse = 0.3940100073814392\n",
      "\n",
      "Fold 4:\n",
      "\n",
      "Early stopping occurred at epoch 32 with best_epoch = 17 and best_valid_rmse = 0.39770999550819397\n"
     ]
    },
    {
     "name": "stderr",
     "output_type": "stream",
     "text": [
      "[I 2025-01-24 00:32:00,506] Trial 91 finished with value: 0.3970327749848366 and parameters: {'n_d': 124, 'n_a': 100, 'n_steps': 3, 'n_shared': 2, 'cat_emb_dim': 8, 'n_independent': 4, 'gamma': 1.8889982692290797, 'momentum': 0.03579713029995493, 'lr': 0.020072402979256377, 'mask_type': 'entmax', 'lambda_sparse': 0.0004086470200504614, 'patience': 15, 'max_epochs': 165, 'virtual_batch_size': 128, 'batch_size': 512}. Best is trial 84 with value: 0.3958360478281975.\n"
     ]
    },
    {
     "name": "stdout",
     "output_type": "stream",
     "text": [
      "\n",
      "Fold 1:\n",
      "\n",
      "Early stopping occurred at epoch 34 with best_epoch = 19 and best_valid_rmse = 0.396699994802475\n",
      "\n",
      "Fold 2:\n",
      "\n",
      "Early stopping occurred at epoch 36 with best_epoch = 21 and best_valid_rmse = 0.3990600109100342\n",
      "\n",
      "Fold 3:\n",
      "\n",
      "Early stopping occurred at epoch 33 with best_epoch = 18 and best_valid_rmse = 0.39344000816345215\n",
      "\n",
      "Fold 4:\n",
      "\n",
      "Early stopping occurred at epoch 38 with best_epoch = 23 and best_valid_rmse = 0.39816999435424805\n"
     ]
    },
    {
     "name": "stderr",
     "output_type": "stream",
     "text": [
      "[I 2025-01-24 00:42:28,219] Trial 92 finished with value: 0.39684324711561203 and parameters: {'n_d': 128, 'n_a': 108, 'n_steps': 3, 'n_shared': 2, 'cat_emb_dim': 8, 'n_independent': 4, 'gamma': 1.9272194032786478, 'momentum': 0.030615044035990094, 'lr': 0.02615994443654182, 'mask_type': 'entmax', 'lambda_sparse': 0.00028127910287326124, 'patience': 15, 'max_epochs': 165, 'virtual_batch_size': 128, 'batch_size': 640}. Best is trial 84 with value: 0.3958360478281975.\n"
     ]
    },
    {
     "name": "stdout",
     "output_type": "stream",
     "text": [
      "\n",
      "Fold 1:\n",
      "\n",
      "Early stopping occurred at epoch 34 with best_epoch = 19 and best_valid_rmse = 0.39770999550819397\n",
      "\n",
      "Fold 2:\n",
      "\n",
      "Early stopping occurred at epoch 39 with best_epoch = 24 and best_valid_rmse = 0.400519996881485\n",
      "\n",
      "Fold 3:\n",
      "\n",
      "Early stopping occurred at epoch 36 with best_epoch = 21 and best_valid_rmse = 0.3936299979686737\n",
      "\n",
      "Fold 4:\n",
      "\n",
      "Early stopping occurred at epoch 38 with best_epoch = 23 and best_valid_rmse = 0.3980199992656708\n"
     ]
    },
    {
     "name": "stderr",
     "output_type": "stream",
     "text": [
      "[I 2025-01-24 00:53:19,176] Trial 93 finished with value: 0.3974718376994133 and parameters: {'n_d': 124, 'n_a': 108, 'n_steps': 3, 'n_shared': 2, 'cat_emb_dim': 8, 'n_independent': 4, 'gamma': 1.925543007983696, 'momentum': 0.029461935365055373, 'lr': 0.030805140027552677, 'mask_type': 'entmax', 'lambda_sparse': 0.00041092938231760356, 'patience': 15, 'max_epochs': 160, 'virtual_batch_size': 128, 'batch_size': 640}. Best is trial 84 with value: 0.3958360478281975.\n"
     ]
    },
    {
     "name": "stdout",
     "output_type": "stream",
     "text": [
      "\n",
      "Fold 1:\n",
      "\n",
      "Early stopping occurred at epoch 41 with best_epoch = 26 and best_valid_rmse = 0.3990499973297119\n",
      "\n",
      "Fold 2:\n",
      "\n",
      "Early stopping occurred at epoch 40 with best_epoch = 25 and best_valid_rmse = 0.3991200029850006\n",
      "\n",
      "Fold 3:\n",
      "\n",
      "Early stopping occurred at epoch 45 with best_epoch = 30 and best_valid_rmse = 0.39309000968933105\n",
      "\n",
      "Fold 4:\n",
      "\n",
      "Early stopping occurred at epoch 43 with best_epoch = 28 and best_valid_rmse = 0.3988899886608124\n"
     ]
    },
    {
     "name": "stderr",
     "output_type": "stream",
     "text": [
      "[I 2025-01-24 01:06:19,896] Trial 94 finished with value: 0.39753632992506027 and parameters: {'n_d': 128, 'n_a': 104, 'n_steps': 3, 'n_shared': 3, 'cat_emb_dim': 9, 'n_independent': 4, 'gamma': 1.892250615579494, 'momentum': 0.07440081782863686, 'lr': 0.011944738427575263, 'mask_type': 'entmax', 'lambda_sparse': 0.00018755710778783048, 'patience': 15, 'max_epochs': 165, 'virtual_batch_size': 128, 'batch_size': 640}. Best is trial 84 with value: 0.3958360478281975.\n"
     ]
    },
    {
     "name": "stdout",
     "output_type": "stream",
     "text": [
      "\n",
      "Fold 1:\n",
      "\n",
      "Early stopping occurred at epoch 35 with best_epoch = 20 and best_valid_rmse = 0.41756999492645264\n",
      "\n",
      "Fold 2:\n",
      "\n",
      "Early stopping occurred at epoch 24 with best_epoch = 9 and best_valid_rmse = 0.42271000146865845\n",
      "\n",
      "Fold 3:\n",
      "\n",
      "Early stopping occurred at epoch 25 with best_epoch = 10 and best_valid_rmse = 0.4116300046443939\n"
     ]
    },
    {
     "name": "stderr",
     "output_type": "stream",
     "text": [
      "[I 2025-01-24 01:12:59,220] Trial 95 pruned. \n"
     ]
    },
    {
     "name": "stdout",
     "output_type": "stream",
     "text": [
      "Fold 1:\n",
      "\n",
      "Early stopping occurred at epoch 38 with best_epoch = 23 and best_valid_rmse = 0.4049200117588043\n"
     ]
    },
    {
     "name": "stderr",
     "output_type": "stream",
     "text": [
      "[I 2025-01-24 01:16:40,753] Trial 96 pruned. \n"
     ]
    },
    {
     "name": "stdout",
     "output_type": "stream",
     "text": [
      "Fold 1:\n",
      "\n",
      "Early stopping occurred at epoch 44 with best_epoch = 29 and best_valid_rmse = 0.398470014333725\n",
      "\n",
      "Fold 2:\n",
      "\n",
      "Early stopping occurred at epoch 37 with best_epoch = 22 and best_valid_rmse = 0.4009700119495392\n",
      "\n",
      "Fold 3:\n",
      "\n",
      "Early stopping occurred at epoch 40 with best_epoch = 25 and best_valid_rmse = 0.3945100009441376\n"
     ]
    },
    {
     "name": "stderr",
     "output_type": "stream",
     "text": [
      "[I 2025-01-24 01:25:26,558] Trial 97 pruned. \n"
     ]
    },
    {
     "name": "stdout",
     "output_type": "stream",
     "text": [
      "Fold 1:\n",
      "\n",
      "Early stopping occurred at epoch 36 with best_epoch = 21 and best_valid_rmse = 0.3989099860191345\n",
      "\n",
      "Fold 2:\n",
      "\n",
      "Early stopping occurred at epoch 35 with best_epoch = 20 and best_valid_rmse = 0.39983999729156494\n",
      "\n",
      "Fold 3:\n",
      "\n",
      "Early stopping occurred at epoch 35 with best_epoch = 20 and best_valid_rmse = 0.3942500054836273\n",
      "\n",
      "Fold 4:\n",
      "\n",
      "Early stopping occurred at epoch 36 with best_epoch = 21 and best_valid_rmse = 0.3985700011253357\n"
     ]
    },
    {
     "name": "stderr",
     "output_type": "stream",
     "text": [
      "[I 2025-01-24 01:37:01,165] Trial 98 finished with value: 0.3978909105062485 and parameters: {'n_d': 124, 'n_a': 116, 'n_steps': 3, 'n_shared': 2, 'cat_emb_dim': 8, 'n_independent': 4, 'gamma': 1.915142248878431, 'momentum': 0.05545881020033835, 'lr': 0.025398043433805306, 'mask_type': 'sparsemax', 'lambda_sparse': 0.00038751154915366183, 'patience': 15, 'max_epochs': 160, 'virtual_batch_size': 128, 'batch_size': 512}. Best is trial 84 with value: 0.3958360478281975.\n"
     ]
    },
    {
     "name": "stdout",
     "output_type": "stream",
     "text": [
      "\n",
      "Fold 1:\n",
      "\n",
      "Early stopping occurred at epoch 47 with best_epoch = 32 and best_valid_rmse = 0.3999199867248535\n",
      "\n",
      "Fold 2:\n",
      "\n",
      "Early stopping occurred at epoch 44 with best_epoch = 29 and best_valid_rmse = 0.40116000175476074\n",
      "\n",
      "Fold 3:\n",
      "\n",
      "Early stopping occurred at epoch 58 with best_epoch = 43 and best_valid_rmse = 0.39715999364852905\n"
     ]
    },
    {
     "name": "stderr",
     "output_type": "stream",
     "text": [
      "[I 2025-01-24 01:48:55,511] Trial 99 pruned. \n"
     ]
    },
    {
     "name": "stdout",
     "output_type": "stream",
     "text": [
      "\n",
      "Successfully saved best hyperparameters\n",
      "\n",
      "Best hyperparameters: {'n_d': 124, 'n_a': 100, 'n_steps': 4, 'n_shared': 3, 'cat_emb_dim': 9, 'n_independent': 5, 'gamma': 1.8487718599345104, 'momentum': 0.05372740601621637, 'mask_type': 'entmax', 'lambda_sparse': 0.0002534570741356221, 'patience': 15, 'max_epochs': 165, 'virtual_batch_size': 128, 'batch_size': 640, 'optimizer_params': {'lr': 0.017155146443617965}}\n"
     ]
    },
    {
     "data": {
      "text/plain": [
       "{'n_d': 124,\n",
       " 'n_a': 100,\n",
       " 'n_steps': 4,\n",
       " 'n_shared': 3,\n",
       " 'cat_emb_dim': 9,\n",
       " 'n_independent': 5,\n",
       " 'gamma': 1.8487718599345104,\n",
       " 'momentum': 0.05372740601621637,\n",
       " 'mask_type': 'entmax',\n",
       " 'lambda_sparse': 0.0002534570741356221,\n",
       " 'patience': 15,\n",
       " 'max_epochs': 165,\n",
       " 'virtual_batch_size': 128,\n",
       " 'batch_size': 640,\n",
       " 'optimizer_params': {'lr': 0.017155146443617965}}"
      ]
     },
     "execution_count": 9,
     "metadata": {},
     "output_type": "execute_result"
    }
   ],
   "source": [
    "scparadise.sceve.hyperparameter_tuning(mdata_train, \n",
    "                                       path = '',\n",
    "                                       rna_modality_name = 'rna',\n",
    "                                       second_modality_name = 'adt',\n",
    "                                       detailed_annotation = 'celltype_l2',\n",
    "                                       random_state = 42,\n",
    "                                       model_name = 'model_Heart_scEve_tuning',\n",
    "                                       eval_metric = ['rmse'])"
   ]
  },
  {
   "cell_type": "code",
   "execution_count": 10,
   "id": "c7d9a4df-1af2-4791-ab3d-ef7075dfca3f",
   "metadata": {
    "scrolled": true
   },
   "outputs": [
    {
     "name": "stdout",
     "output_type": "stream",
     "text": [
      "Successfully saved genes names for training model\n",
      "\n",
      "Successfully saved proteins names for training model\n",
      "\n",
      "Train dataset contains: 57832 cells, it is 90.0 % of input dataset\n",
      "Test dataset contains: 6426 cells, it is 10.0 % of input dataset\n",
      "\n",
      "Accelerator: cuda\n",
      "Start training with following hyperparameters: {'n_d': 124, 'n_a': 100, 'n_steps': 4, 'n_shared': 3, 'cat_emb_dim': 9, 'n_independent': 5, 'gamma': 1.8487718599345104, 'momentum': 0.05372740601621637, 'mask_type': 'entmax', 'lambda_sparse': 0.0002534570741356221, 'patience': 15, 'max_epochs': 165, 'virtual_batch_size': 128, 'batch_size': 640, 'optimizer_params': {'lr': 0.017155146443617965}, 'device_name': 'cuda'}\n",
      "\n",
      "epoch 0  | loss: 1.02587 | train_rmse: 0.4382700026035309| valid_rmse: 0.4378899931907654|  0:00:06s\n",
      "epoch 1  | loss: 0.13475 | train_rmse: 0.4249599874019623| valid_rmse: 0.4248400032520294|  0:00:12s\n",
      "epoch 2  | loss: 0.13098 | train_rmse: 0.41773998737335205| valid_rmse: 0.4177500009536743|  0:00:19s\n",
      "epoch 3  | loss: 0.12844 | train_rmse: 0.41345998644828796| valid_rmse: 0.41332000494003296|  0:00:25s\n",
      "epoch 4  | loss: 0.12662 | train_rmse: 0.411080002784729| valid_rmse: 0.4114300012588501|  0:00:32s\n",
      "epoch 5  | loss: 0.12599 | train_rmse: 0.40748998522758484| valid_rmse: 0.40799999237060547|  0:00:38s\n",
      "epoch 6  | loss: 0.12421 | train_rmse: 0.4048500061035156| valid_rmse: 0.4058000147342682|  0:00:44s\n",
      "epoch 7  | loss: 0.12302 | train_rmse: 0.40338000655174255| valid_rmse: 0.40443000197410583|  0:00:50s\n",
      "epoch 8  | loss: 0.12144 | train_rmse: 0.4025000035762787| valid_rmse: 0.4036400020122528|  0:00:56s\n",
      "epoch 9  | loss: 0.12087 | train_rmse: 0.4011000096797943| valid_rmse: 0.4027099907398224|  0:01:03s\n",
      "epoch 10 | loss: 0.12088 | train_rmse: 0.40143999457359314| valid_rmse: 0.4032500088214874|  0:01:09s\n",
      "epoch 11 | loss: 0.12019 | train_rmse: 0.39833998680114746| valid_rmse: 0.4007300138473511|  0:01:15s\n",
      "epoch 12 | loss: 0.11912 | train_rmse: 0.3997400104999542| valid_rmse: 0.40231001377105713|  0:01:21s\n",
      "epoch 13 | loss: 0.11853 | train_rmse: 0.3984900116920471| valid_rmse: 0.40178000926971436|  0:01:28s\n",
      "epoch 14 | loss: 0.11816 | train_rmse: 0.395579993724823| valid_rmse: 0.39893001317977905|  0:01:34s\n",
      "epoch 15 | loss: 0.11798 | train_rmse: 0.39546999335289| valid_rmse: 0.39868998527526855|  0:01:40s\n",
      "epoch 16 | loss: 0.11758 | train_rmse: 0.39305999875068665| valid_rmse: 0.39754998683929443|  0:01:47s\n",
      "epoch 17 | loss: 0.11651 | train_rmse: 0.3923799991607666| valid_rmse: 0.398140013217926|  0:01:53s\n",
      "epoch 18 | loss: 0.11717 | train_rmse: 0.39383000135421753| valid_rmse: 0.39862000942230225|  0:02:00s\n",
      "epoch 19 | loss: 0.11619 | train_rmse: 0.39083001017570496| valid_rmse: 0.39715999364852905|  0:02:05s\n",
      "epoch 20 | loss: 0.1149  | train_rmse: 0.41391000151634216| valid_rmse: 0.42100998759269714|  0:02:12s\n",
      "epoch 21 | loss: 0.11483 | train_rmse: 0.3880600035190582| valid_rmse: 0.39579999446868896|  0:02:17s\n",
      "epoch 22 | loss: 0.11427 | train_rmse: 0.38694998621940613| valid_rmse: 0.39629998803138733|  0:02:24s\n",
      "epoch 23 | loss: 0.11348 | train_rmse: 0.38585999608039856| valid_rmse: 0.3961000144481659|  0:02:30s\n",
      "epoch 24 | loss: 0.1129  | train_rmse: 0.38666999340057373| valid_rmse: 0.3980199992656708|  0:02:37s\n",
      "epoch 25 | loss: 0.11273 | train_rmse: 0.38304001092910767| valid_rmse: 0.39544999599456787|  0:02:43s\n",
      "epoch 26 | loss: 0.11235 | train_rmse: 0.38225001096725464| valid_rmse: 0.39625999331474304|  0:02:49s\n",
      "epoch 27 | loss: 0.11116 | train_rmse: 0.3833700120449066| valid_rmse: 0.39660999178886414|  0:02:55s\n",
      "epoch 28 | loss: 0.11118 | train_rmse: 0.38005000352859497| valid_rmse: 0.396699994802475|  0:03:01s\n",
      "epoch 29 | loss: 0.11034 | train_rmse: 0.3784700036048889| valid_rmse: 0.3965800106525421|  0:03:08s\n",
      "epoch 30 | loss: 0.10932 | train_rmse: 0.376910001039505| valid_rmse: 0.3991900086402893|  0:03:14s\n",
      "epoch 31 | loss: 0.10958 | train_rmse: 0.3769899904727936| valid_rmse: 0.39836999773979187|  0:03:21s\n",
      "epoch 32 | loss: 0.10842 | train_rmse: 0.3729499876499176| valid_rmse: 0.39871999621391296|  0:03:27s\n",
      "epoch 33 | loss: 0.10724 | train_rmse: 0.3719500005245209| valid_rmse: 0.3989799916744232|  0:03:33s\n",
      "epoch 34 | loss: 0.10621 | train_rmse: 0.3706200122833252| valid_rmse: 0.3987100124359131|  0:03:39s\n",
      "epoch 35 | loss: 0.10652 | train_rmse: 0.3681899905204773| valid_rmse: 0.3986800014972687|  0:03:45s\n",
      "epoch 36 | loss: 0.10522 | train_rmse: 0.3658599853515625| valid_rmse: 0.4007900059223175|  0:03:51s\n",
      "epoch 37 | loss: 0.10467 | train_rmse: 0.3634200096130371| valid_rmse: 0.39987999200820923|  0:03:58s\n",
      "epoch 38 | loss: 0.10335 | train_rmse: 0.3610999882221222| valid_rmse: 0.4003700017929077|  0:04:04s\n",
      "epoch 39 | loss: 0.10328 | train_rmse: 0.36096999049186707| valid_rmse: 0.4021399915218353|  0:04:10s\n",
      "epoch 40 | loss: 0.10158 | train_rmse: 0.3616600036621094| valid_rmse: 0.40101000666618347|  0:04:16s\n",
      "\n",
      "Early stopping occurred at epoch 40 with best_epoch = 25 and best_valid_rmse = 0.39544999599456787\n",
      "Successfully saved model at model_Heart_scEve_tuned/model.zip\n"
     ]
    }
   ],
   "source": [
    "# Train sceve model using mdata_train dataset\n",
    "scparadise.sceve.train_tuned(mdata_train, \n",
    "                             path = '',\n",
    "                             path_tuned='model_Heart_scEve_tuning',\n",
    "                             rna_modality_name = 'rna',\n",
    "                             second_modality_name = 'adt',\n",
    "                             detailed_annotation = 'celltype_l2',\n",
    "                             model_name = 'model_Heart_scEve_tuned',\n",
    "                             eval_metric=['rmse'])"
   ]
  },
  {
   "cell_type": "code",
   "execution_count": 11,
   "id": "12ae4c19-21ab-4859-b48f-541a06c0f677",
   "metadata": {
    "scrolled": true
   },
   "outputs": [
    {
     "name": "stdout",
     "output_type": "stream",
     "text": [
      "Successfully loaded list of genes used for training model\n",
      "\n",
      "Successfully loaded list of features used for training model\n",
      "\n",
      "Successfully loaded model\n",
      "\n",
      "Successfully saved report\n",
      "\n",
      "Successfully loaded list of genes used for training model\n",
      "\n",
      "Successfully loaded list of features used for training model\n",
      "\n",
      "Successfully loaded model\n",
      "\n",
      "Successfully saved report\n",
      "\n",
      "Successfully loaded list of genes used for training model\n",
      "\n",
      "Successfully loaded list of features used for training model\n",
      "\n",
      "Successfully loaded model\n",
      "\n",
      "Successfully saved report\n",
      "\n",
      "Successfully loaded list of genes used for training model\n",
      "\n",
      "Successfully loaded list of features used for training model\n",
      "\n",
      "Successfully loaded model\n",
      "\n",
      "Successfully saved report\n",
      "\n",
      "Successfully loaded list of genes used for training model\n",
      "\n",
      "Successfully loaded list of features used for training model\n",
      "\n",
      "Successfully loaded model\n",
      "\n",
      "Successfully saved report\n",
      "\n",
      "Successfully loaded list of genes used for training model\n",
      "\n",
      "Successfully loaded list of features used for training model\n",
      "\n",
      "Successfully loaded model\n",
      "\n",
      "Successfully saved report\n",
      "\n",
      "Successfully loaded list of genes used for training model\n",
      "\n",
      "Successfully loaded list of features used for training model\n",
      "\n",
      "Successfully loaded model\n",
      "\n",
      "Successfully saved report\n",
      "\n",
      "Successfully loaded list of genes used for training model\n",
      "\n",
      "Successfully loaded list of features used for training model\n",
      "\n",
      "Successfully loaded model\n",
      "\n",
      "Successfully saved report\n",
      "\n"
     ]
    }
   ],
   "source": [
    "for folder in lst_test_1:\n",
    "    # Create adata_adt_test and adata_rna_test\n",
    "    adata_adt_test = mdata.mod['adt'][mdata.mod['adt'].obs['orig.ident'].isin([int(folder[0]), int(folder[2])])].copy()\n",
    "    adata_rna_test = mdata.mod['rna'][mdata.mod['rna'].obs['orig.ident'].isin([int(folder[0]), int(folder[2])])].copy()\n",
    "    # Predict surface proteins using pretrained scEve model\n",
    "    adata_pred_adt_test = scparadise.sceve.predict(adata_rna_test, \n",
    "                                                   path_model = 'model_Heart_scEve_tuned',\n",
    "                                                   return_mdata = False)\n",
    "    # Create and save regression report\n",
    "    scparadise.scnoah.report_reg(adata_prot = adata_adt_test, \n",
    "                                 adata_pred_prot = adata_pred_adt_test, \n",
    "                                 report_name = folder + '_report_regression.csv', \n",
    "                                 save_path = 'Heart_3p_CITE/reports_model_Heart_scEve_tuned', \n",
    "                                 save_report = True)\n",
    "    df_corr = pd.DataFrame(columns=['Pearson coef', 'p-value'])\n",
    "    for i in adata_adt_test.var_names.tolist():\n",
    "        person_coef = scparadise.scnoah.pearson_coef_prot(adata_prot = adata_adt_test,\n",
    "                                                          adata_pred_prot = adata_pred_adt_test,\n",
    "                                                          protein = i,\n",
    "                                                          protein_pred = i + '_pred')\n",
    "        df_corr.loc[i] = [person_coef['Pearson coefficient'], person_coef['p-value']]\n",
    "    df_corr['p-value'] = df_corr['p-value'].astype('float64')\n",
    "    file = \"results_pearson_\" + folder + \".csv\"\n",
    "    df_corr.to_csv(os.path.join('Heart_3p_CITE/reports_model_Heart_scEve_tuned', file))\n",
    "for folder in lst_test_2:\n",
    "    # Create adata_adt_test and adata_rna_test \n",
    "    adata_adt_test = mdata.mod['adt'][mdata.mod['adt'].obs['orig.ident'].isin([int(folder)])].copy()\n",
    "    adata_rna_test = mdata.mod['rna'][mdata.mod['rna'].obs['orig.ident'].isin([int(folder)])].copy()\n",
    "    # Predict surface proteins using pretrained scEve model\n",
    "    adata_pred_adt_test = scparadise.sceve.predict(adata_rna_test, \n",
    "                                                   path_model = 'model_Heart_scEve_tuned',\n",
    "                                                   return_mdata = False)\n",
    "    # Create and save regression report\n",
    "    scparadise.scnoah.report_reg(adata_prot = adata_adt_test, \n",
    "                                 adata_pred_prot = adata_pred_adt_test, \n",
    "                                 report_name = folder + '_report_regression.csv', \n",
    "                                 save_path = 'Heart_3p_CITE/reports_model_Heart_scEve_tuned', \n",
    "                                 save_report = True)\n",
    "    df_corr = pd.DataFrame(columns=['Pearson coef', 'p-value'])\n",
    "    for i in adata_adt_test.var_names.tolist():\n",
    "        person_coef = scparadise.scnoah.pearson_coef_prot(adata_prot = adata_adt_test,\n",
    "                                                          adata_pred_prot = adata_pred_adt_test,\n",
    "                                                          protein = i,\n",
    "                                                          protein_pred = i + '_pred')\n",
    "        df_corr.loc[i] = [person_coef['Pearson coefficient'], person_coef['p-value']]\n",
    "    df_corr['p-value'] = df_corr['p-value'].astype('float64')\n",
    "    file = \"results_pearson_\" + folder + \".csv\"\n",
    "    df_corr.to_csv(os.path.join('Heart_3p_CITE/reports_model_Heart_scEve_tuned', file))"
   ]
  },
  {
   "cell_type": "code",
   "execution_count": 12,
   "id": "de0311d4-0137-4f7d-8741-d650d00e665b",
   "metadata": {},
   "outputs": [
    {
     "data": {
      "text/html": [
       "<details>\n",
       "<summary>Click to view session information</summary>\n",
       "<pre>\n",
       "-----\n",
       "anndata             0.10.8\n",
       "mudata              0.2.4\n",
       "muon                0.1.6\n",
       "pandas              2.2.3\n",
       "scanpy              1.10.3\n",
       "scparadise          0.3.2_beta\n",
       "session_info        1.0.0\n",
       "-----\n",
       "</pre>\n",
       "<details>\n",
       "<summary>Click to view modules imported as dependencies</summary>\n",
       "<pre>\n",
       "PIL                         10.4.0\n",
       "alembic                     1.13.3\n",
       "anyio                       NA\n",
       "arrow                       1.3.0\n",
       "asciitree                   NA\n",
       "asttokens                   NA\n",
       "attr                        24.2.0\n",
       "attrs                       24.2.0\n",
       "awkward                     2.7.1\n",
       "awkward_cpp                 NA\n",
       "babel                       2.16.0\n",
       "backports                   NA\n",
       "certifi                     2024.08.30\n",
       "cffi                        1.17.1\n",
       "charset_normalizer          3.3.2\n",
       "cloudpickle                 3.1.0\n",
       "colorlog                    NA\n",
       "comm                        0.2.2\n",
       "cycler                      0.12.1\n",
       "cython_runtime              NA\n",
       "dask                        2024.8.0\n",
       "dateutil                    2.9.0.post0\n",
       "debugpy                     1.8.6\n",
       "decorator                   5.1.1\n",
       "defusedxml                  0.7.1\n",
       "exceptiongroup              1.2.2\n",
       "executing                   2.1.0\n",
       "fastjsonschema              NA\n",
       "fqdn                        NA\n",
       "fsspec                      2023.6.0\n",
       "greenlet                    3.1.1\n",
       "h5py                        3.12.1\n",
       "idna                        3.10\n",
       "igraph                      0.11.6\n",
       "imblearn                    0.12.3\n",
       "importlib_metadata          NA\n",
       "importlib_resources         NA\n",
       "ipykernel                   6.29.5\n",
       "isoduration                 NA\n",
       "jaraco                      NA\n",
       "jedi                        0.19.1\n",
       "jinja2                      3.1.4\n",
       "joblib                      1.4.2\n",
       "json5                       0.9.25\n",
       "jsonpointer                 3.0.0\n",
       "jsonschema                  4.23.0\n",
       "jsonschema_specifications   NA\n",
       "jupyter_events              0.10.0\n",
       "jupyter_server              2.14.2\n",
       "jupyterlab_server           2.27.3\n",
       "kiwisolver                  1.4.7\n",
       "legacy_api_wrap             NA\n",
       "leidenalg                   0.10.2\n",
       "llvmlite                    0.43.0\n",
       "mako                        1.3.5\n",
       "markupsafe                  2.1.5\n",
       "matplotlib                  3.9.2\n",
       "more_itertools              10.5.0\n",
       "mpl_toolkits                NA\n",
       "mpmath                      1.3.0\n",
       "msgpack                     1.1.0\n",
       "natsort                     8.4.0\n",
       "nbformat                    5.10.4\n",
       "numba                       0.60.0\n",
       "numcodecs                   0.12.1\n",
       "numpy                       1.25.0\n",
       "optuna                      4.0.0\n",
       "overrides                   NA\n",
       "packaging                   24.1\n",
       "parso                       0.8.4\n",
       "patsy                       0.5.6\n",
       "pexpect                     4.9.0\n",
       "platformdirs                4.3.6\n",
       "plotly                      5.24.1\n",
       "prometheus_client           NA\n",
       "prompt_toolkit              3.0.48\n",
       "psutil                      6.0.0\n",
       "ptyprocess                  0.7.0\n",
       "pure_eval                   0.2.3\n",
       "pyarrow                     18.1.0\n",
       "pycparser                   2.22\n",
       "pydev_ipython               NA\n",
       "pydevconsole                NA\n",
       "pydevd                      3.1.0\n",
       "pydevd_file_utils           NA\n",
       "pydevd_plugins              NA\n",
       "pydevd_tracing              NA\n",
       "pydot                       3.0.3\n",
       "pygments                    2.18.0\n",
       "pynndescent                 0.5.13\n",
       "pyparsing                   3.1.4\n",
       "pythonjsonlogger            NA\n",
       "pytorch_tabnet              NA\n",
       "pytz                        2024.2\n",
       "referencing                 NA\n",
       "requests                    2.32.3\n",
       "rfc3339_validator           0.1.4\n",
       "rfc3986_validator           0.1.1\n",
       "rich                        NA\n",
       "rpds                        NA\n",
       "scipy                       1.13.1\n",
       "seaborn                     0.13.2\n",
       "send2trash                  NA\n",
       "setuptools                  75.1.0\n",
       "setuptools_scm              NA\n",
       "shap                        0.46.0\n",
       "six                         1.16.0\n",
       "sklearn                     1.5.2\n",
       "slicer                      NA\n",
       "sniffio                     1.3.1\n",
       "sqlalchemy                  2.0.35\n",
       "stack_data                  0.6.3\n",
       "statsmodels                 0.14.3\n",
       "sympy                       1.13.3\n",
       "tblib                       3.0.0\n",
       "texttable                   1.7.0\n",
       "threadpoolctl               3.5.0\n",
       "tlz                         0.12.1\n",
       "tomli                       2.0.1\n",
       "toolz                       0.12.1\n",
       "torch                       2.4.1+cu121\n",
       "torchgen                    NA\n",
       "tornado                     6.4.1\n",
       "tqdm                        4.66.5\n",
       "traitlets                   5.14.3\n",
       "triton                      3.0.0\n",
       "typing_extensions           NA\n",
       "umap                        0.5.6\n",
       "uri_template                NA\n",
       "urllib3                     1.26.20\n",
       "wcwidth                     0.2.13\n",
       "webcolors                   24.8.0\n",
       "websocket                   1.8.0\n",
       "yaml                        6.0.2\n",
       "zarr                        2.18.2\n",
       "zipp                        NA\n",
       "zmq                         26.2.0\n",
       "zoneinfo                    NA\n",
       "</pre>\n",
       "</details> <!-- seems like this ends pre, so might as well be explicit -->\n",
       "<pre>\n",
       "-----\n",
       "IPython             8.18.1\n",
       "jupyter_client      8.6.3\n",
       "jupyter_core        5.7.2\n",
       "jupyterlab          4.2.5\n",
       "-----\n",
       "Python 3.9.19 (main, May  6 2024, 19:43:03) [GCC 11.2.0]\n",
       "Linux-5.15.167.4-microsoft-standard-WSL2-x86_64-with-glibc2.35\n",
       "-----\n",
       "Session information updated at 2025-01-24 14:41\n",
       "</pre>\n",
       "</details>"
      ],
      "text/plain": [
       "<IPython.core.display.HTML object>"
      ]
     },
     "execution_count": 12,
     "metadata": {},
     "output_type": "execute_result"
    }
   ],
   "source": [
    "import session_info\n",
    "session_info.show()"
   ]
  }
 ],
 "metadata": {
  "kernelspec": {
   "display_name": "Python 3 (ipykernel)",
   "language": "python",
   "name": "python3"
  },
  "language_info": {
   "codemirror_mode": {
    "name": "ipython",
    "version": 3
   },
   "file_extension": ".py",
   "mimetype": "text/x-python",
   "name": "python",
   "nbconvert_exporter": "python",
   "pygments_lexer": "ipython3",
   "version": "3.9.19"
  }
 },
 "nbformat": 4,
 "nbformat_minor": 5
}
