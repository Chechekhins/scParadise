{
 "cells": [
  {
   "cell_type": "code",
   "execution_count": 11,
   "id": "9b6735bb-883b-481b-a169-a142ba469d7f",
   "metadata": {},
   "outputs": [],
   "source": [
    "import celltypist\n",
    "import scanpy as sc\n",
    "import anndata\n",
    "import muon as mu\n",
    "import scparadise\n",
    "import pandas as pd\n",
    "import os\n",
    "import warnings \n",
    "warnings.simplefilter('ignore')"
   ]
  },
  {
   "cell_type": "code",
   "execution_count": 12,
   "id": "71cc45b8-6c0c-4da9-bb0c-d47760e8e2f8",
   "metadata": {
    "collapsed": true,
    "jupyter": {
     "outputs_hidden": true
    }
   },
   "outputs": [
    {
     "data": {
      "text/html": [
       "<pre>MuData object with n_obs × n_vars = 161010 × 21585\n",
       "  obs:\t&#x27;orig.ident&#x27;, &#x27;celltype.l1&#x27;, &#x27;celltype.l2&#x27;, &#x27;celltype.l3&#x27;, &#x27;celltype_l3&#x27;, &#x27;celltype_l2&#x27;, &#x27;celltype_l1&#x27;\n",
       "  var:\t&#x27;gene_ids&#x27;, &#x27;feature_types&#x27;\n",
       "  2 modalities\n",
       "    rna:\t161010 x 21361\n",
       "      obs:\t&#x27;orig.ident&#x27;, &#x27;lane&#x27;, &#x27;donor&#x27;, &#x27;time&#x27;, &#x27;celltype.l1&#x27;, &#x27;celltype.l2&#x27;, &#x27;celltype.l3&#x27;, &#x27;Phase&#x27;, &#x27;celltype_l3&#x27;, &#x27;celltype_l2&#x27;, &#x27;celltype_l1&#x27;\n",
       "      var:\t&#x27;gene_ids&#x27;, &#x27;feature_types&#x27;, &#x27;n_cells&#x27;, &#x27;highly_variable&#x27;, &#x27;highly_variable_rank&#x27;, &#x27;means&#x27;, &#x27;variances&#x27;, &#x27;variances_norm&#x27;, &#x27;highly_variable_nbatches&#x27;\n",
       "      uns:\t&#x27;hvg&#x27;, &#x27;log1p&#x27;, &#x27;pca&#x27;\n",
       "      obsm:\t&#x27;X_pca&#x27;\n",
       "      varm:\t&#x27;PCs&#x27;\n",
       "      layers:\t&#x27;counts&#x27;\n",
       "    adt:\t161010 x 224\n",
       "      obs:\t&#x27;orig.ident&#x27;, &#x27;lane&#x27;, &#x27;donor&#x27;, &#x27;time&#x27;, &#x27;celltype.l1&#x27;, &#x27;celltype.l2&#x27;, &#x27;celltype.l3&#x27;, &#x27;Phase&#x27;, &#x27;celltype_l3&#x27;, &#x27;celltype_l2&#x27;, &#x27;celltype_l1&#x27;\n",
       "      var:\t&#x27;gene_ids&#x27;, &#x27;feature_types&#x27;\n",
       "      uns:\t&#x27;pca&#x27;\n",
       "      obsm:\t&#x27;X_isotypes&#x27;, &#x27;X_pca&#x27;\n",
       "      varm:\t&#x27;PCs&#x27;\n",
       "      layers:\t&#x27;counts&#x27;</pre>"
      ],
      "text/plain": [
       "MuData object with n_obs × n_vars = 161010 × 21585\n",
       "  obs:\t'orig.ident', 'celltype.l1', 'celltype.l2', 'celltype.l3', 'celltype_l3', 'celltype_l2', 'celltype_l1'\n",
       "  var:\t'gene_ids', 'feature_types'\n",
       "  2 modalities\n",
       "    rna:\t161010 x 21361\n",
       "      obs:\t'orig.ident', 'lane', 'donor', 'time', 'celltype.l1', 'celltype.l2', 'celltype.l3', 'Phase', 'celltype_l3', 'celltype_l2', 'celltype_l1'\n",
       "      var:\t'gene_ids', 'feature_types', 'n_cells', 'highly_variable', 'highly_variable_rank', 'means', 'variances', 'variances_norm', 'highly_variable_nbatches'\n",
       "      uns:\t'hvg', 'log1p', 'pca'\n",
       "      obsm:\t'X_pca'\n",
       "      varm:\t'PCs'\n",
       "      layers:\t'counts'\n",
       "    adt:\t161010 x 224\n",
       "      obs:\t'orig.ident', 'lane', 'donor', 'time', 'celltype.l1', 'celltype.l2', 'celltype.l3', 'Phase', 'celltype_l3', 'celltype_l2', 'celltype_l1'\n",
       "      var:\t'gene_ids', 'feature_types'\n",
       "      uns:\t'pca'\n",
       "      obsm:\t'X_isotypes', 'X_pca'\n",
       "      varm:\t'PCs'\n",
       "      layers:\t'counts'"
      ]
     },
     "execution_count": 12,
     "metadata": {},
     "output_type": "execute_result"
    }
   ],
   "source": [
    "# Load normalized integrated data\n",
    "mdata = mu.read_h5mu('/mnt/c/Users/vadim/Desktop/R/PBMC_ref/CITEseq/3p/mdata_unintegrated.h5mu')"
   ]
  },
  {
   "cell_type": "code",
   "execution_count": 13,
   "id": "6198b12f-3076-4839-8602-e7b491fbed5a",
   "metadata": {},
   "outputs": [],
   "source": [
    "# Select RNA modality from MuData object (mdata)\n",
    "adata = mdata.mod['rna'].copy()\n",
    "del mdata"
   ]
  },
  {
   "cell_type": "code",
   "execution_count": 14,
   "id": "36fa4202-e89a-48a1-a356-21239f3eb760",
   "metadata": {},
   "outputs": [],
   "source": [
    "adata = anndata.AnnData(X = adata.layers['counts'].copy(),\n",
    "                        obs = adata.obs,\n",
    "                        var = adata.var,\n",
    "                        obsm = adata.obsm,\n",
    "                        uns = adata.uns,\n",
    "                        varm = adata.varm,\n",
    "                        layers = adata.layers)"
   ]
  },
  {
   "cell_type": "code",
   "execution_count": 15,
   "id": "dc8936ab-98bc-4515-8d51-186fe752f36e",
   "metadata": {},
   "outputs": [],
   "source": [
    "# Subset anndata object based on a selected marker genes\n",
    "genes = pd.read_csv('/mnt/c/Users/vadim/scRNA/scParadise/scAdam/PBMC/3p/genes_for_AI.csv')\n",
    "adata = adata[:, genes.genes].copy()"
   ]
  },
  {
   "cell_type": "code",
   "execution_count": 16,
   "id": "aa32b370-d926-48fb-95cd-1ce9dcbec161",
   "metadata": {},
   "outputs": [
    {
     "name": "stdout",
     "output_type": "stream",
     "text": [
      "WARNING: adata.X seems to be already log-transformed.\n"
     ]
    }
   ],
   "source": [
    "# Normalized expression to 10000 counts per cell (operating condition of the celltypist tool)\n",
    "sc.pp.normalize_total(adata, target_sum=10000)\n",
    "sc.pp.log1p(adata)"
   ]
  },
  {
   "cell_type": "code",
   "execution_count": 17,
   "id": "bcf53910-c548-4d45-be3e-ae96f7ef885b",
   "metadata": {},
   "outputs": [
    {
     "data": {
      "text/plain": [
       "AnnData object with n_obs × n_vars = 53092 × 635\n",
       "    obs: 'orig.ident', 'lane', 'donor', 'time', 'celltype.l1', 'celltype.l2', 'celltype.l3', 'Phase', 'celltype_l3', 'celltype_l2', 'celltype_l1'\n",
       "    var: 'gene_ids', 'feature_types', 'n_cells', 'highly_variable', 'highly_variable_rank', 'means', 'variances', 'variances_norm', 'highly_variable_nbatches'\n",
       "    uns: 'hvg', 'log1p', 'pca'\n",
       "    obsm: 'X_pca'\n",
       "    varm: 'PCs'\n",
       "    layers: 'counts'"
      ]
     },
     "execution_count": 17,
     "metadata": {},
     "output_type": "execute_result"
    }
   ],
   "source": [
    "# Create dataset for model training\n",
    "adata_train = adata[adata.obs['orig.ident'].isin(['P1_0','P2_0','P3_0','P4_0','P5_0','P6_0','P7_0','P8_0'])].copy()\n",
    "adata_train"
   ]
  },
  {
   "cell_type": "code",
   "execution_count": 18,
   "id": "c93eefc0-3f1d-49d2-a93a-fec5e72d1e75",
   "metadata": {},
   "outputs": [
    {
     "name": "stderr",
     "output_type": "stream",
     "text": [
      "🍳 Preparing data before training\n",
      "🔬 Input data has 53092 cells and 635 genes\n",
      "⚖️ Scaling input data\n",
      "🏋️ Training data using logistic regression\n",
      "✅ Model training done!\n",
      "🍳 Preparing data before training\n",
      "🔬 Input data has 53092 cells and 635 genes\n",
      "⚖️ Scaling input data\n",
      "🏋️ Training data using logistic regression\n",
      "✅ Model training done!\n",
      "🍳 Preparing data before training\n",
      "🔬 Input data has 53092 cells and 635 genes\n",
      "⚖️ Scaling input data\n",
      "🏋️ Training data using logistic regression\n",
      "✅ Model training done!\n"
     ]
    }
   ],
   "source": [
    "# Train and save models for celltype_l1, celltype_l2 and celltype_l3 annotation levels\n",
    "lst_annotations = ['celltype_l1', 'celltype_l2', 'celltype_l3']\n",
    "for i in lst_annotations:\n",
    "    # Training step\n",
    "    model = celltypist.train(adata_train, labels = i, feature_selection = False, n_jobs=12)\n",
    "    # Save the model\n",
    "    model.write(os.path.join('/mnt/c/Users/vadim/scRNA/scParadise/scAdam/PBMC/3p/celltypist/models_small', i + '.pkl'))"
   ]
  },
  {
   "cell_type": "code",
   "execution_count": 20,
   "id": "b7dabd76-220c-443d-913d-2849980b866b",
   "metadata": {},
   "outputs": [],
   "source": [
    "# Create list of test datasets\n",
    "lst_test = ['P1_3_P3_3', 'P1_7_P8_3', 'P2_3_P4_7', 'P2_7_P6_3', 'P3_7_P7_3', 'P4_3_P7_7', 'P5_3_P8_7', 'P5_7_P6_7']"
   ]
  },
  {
   "cell_type": "code",
   "execution_count": 21,
   "id": "d4e3259b-0427-4749-8375-917f13f9674d",
   "metadata": {
    "scrolled": true
   },
   "outputs": [
    {
     "name": "stderr",
     "output_type": "stream",
     "text": [
      "🔬 Input data has 10823 cells and 635 genes\n",
      "🔗 Matching reference genes in the model\n",
      "🧬 635 features used for prediction\n",
      "⚖️ Scaling input data\n",
      "🖋️ Predicting labels\n",
      "✅ Prediction done!\n",
      "👀 Can not detect a neighborhood graph, will construct one before the over-clustering\n",
      "⛓️ Over-clustering input data with resolution set to 10\n",
      "🗳️ Majority voting the predictions\n",
      "✅ Majority voting done!\n",
      "🔬 Input data has 10823 cells and 635 genes\n",
      "🔗 Matching reference genes in the model\n",
      "🧬 635 features used for prediction\n",
      "⚖️ Scaling input data\n",
      "🖋️ Predicting labels\n",
      "✅ Prediction done!\n",
      "👀 Detected a neighborhood graph in the input object, will run over-clustering on the basis of it\n",
      "⛓️ Over-clustering input data with resolution set to 10\n"
     ]
    },
    {
     "name": "stdout",
     "output_type": "stream",
     "text": [
      "Successfully saved report\n",
      "\n"
     ]
    },
    {
     "name": "stderr",
     "output_type": "stream",
     "text": [
      "🗳️ Majority voting the predictions\n",
      "✅ Majority voting done!\n",
      "🔬 Input data has 10823 cells and 635 genes\n",
      "🔗 Matching reference genes in the model\n",
      "🧬 635 features used for prediction\n",
      "⚖️ Scaling input data\n",
      "🖋️ Predicting labels\n",
      "✅ Prediction done!\n",
      "👀 Detected a neighborhood graph in the input object, will run over-clustering on the basis of it\n",
      "⛓️ Over-clustering input data with resolution set to 10\n"
     ]
    },
    {
     "name": "stdout",
     "output_type": "stream",
     "text": [
      "Successfully saved report\n",
      "\n"
     ]
    },
    {
     "name": "stderr",
     "output_type": "stream",
     "text": [
      "🗳️ Majority voting the predictions\n",
      "✅ Majority voting done!\n",
      "🔬 Input data has 14926 cells and 635 genes\n"
     ]
    },
    {
     "name": "stdout",
     "output_type": "stream",
     "text": [
      "Successfully saved report\n",
      "\n"
     ]
    },
    {
     "name": "stderr",
     "output_type": "stream",
     "text": [
      "🔗 Matching reference genes in the model\n",
      "🧬 635 features used for prediction\n",
      "⚖️ Scaling input data\n",
      "🖋️ Predicting labels\n",
      "✅ Prediction done!\n",
      "👀 Can not detect a neighborhood graph, will construct one before the over-clustering\n",
      "⛓️ Over-clustering input data with resolution set to 10\n",
      "🗳️ Majority voting the predictions\n",
      "✅ Majority voting done!\n",
      "🔬 Input data has 14926 cells and 635 genes\n",
      "🔗 Matching reference genes in the model\n",
      "🧬 635 features used for prediction\n",
      "⚖️ Scaling input data\n",
      "🖋️ Predicting labels\n",
      "✅ Prediction done!\n",
      "👀 Detected a neighborhood graph in the input object, will run over-clustering on the basis of it\n",
      "⛓️ Over-clustering input data with resolution set to 10\n"
     ]
    },
    {
     "name": "stdout",
     "output_type": "stream",
     "text": [
      "Successfully saved report\n",
      "\n"
     ]
    },
    {
     "name": "stderr",
     "output_type": "stream",
     "text": [
      "🗳️ Majority voting the predictions\n",
      "✅ Majority voting done!\n",
      "🔬 Input data has 14926 cells and 635 genes\n",
      "🔗 Matching reference genes in the model\n",
      "🧬 635 features used for prediction\n",
      "⚖️ Scaling input data\n",
      "🖋️ Predicting labels\n",
      "✅ Prediction done!\n",
      "👀 Detected a neighborhood graph in the input object, will run over-clustering on the basis of it\n",
      "⛓️ Over-clustering input data with resolution set to 10\n"
     ]
    },
    {
     "name": "stdout",
     "output_type": "stream",
     "text": [
      "Successfully saved report\n",
      "\n"
     ]
    },
    {
     "name": "stderr",
     "output_type": "stream",
     "text": [
      "🗳️ Majority voting the predictions\n",
      "✅ Majority voting done!\n",
      "🔬 Input data has 11647 cells and 635 genes\n",
      "🔗 Matching reference genes in the model\n",
      "🧬 635 features used for prediction\n",
      "⚖️ Scaling input data\n",
      "🖋️ Predicting labels\n",
      "✅ Prediction done!\n",
      "👀 Can not detect a neighborhood graph, will construct one before the over-clustering\n"
     ]
    },
    {
     "name": "stdout",
     "output_type": "stream",
     "text": [
      "Successfully saved report\n",
      "\n"
     ]
    },
    {
     "name": "stderr",
     "output_type": "stream",
     "text": [
      "⛓️ Over-clustering input data with resolution set to 10\n",
      "🗳️ Majority voting the predictions\n",
      "✅ Majority voting done!\n",
      "🔬 Input data has 11647 cells and 635 genes\n",
      "🔗 Matching reference genes in the model\n",
      "🧬 635 features used for prediction\n",
      "⚖️ Scaling input data\n",
      "🖋️ Predicting labels\n",
      "✅ Prediction done!\n",
      "👀 Detected a neighborhood graph in the input object, will run over-clustering on the basis of it\n",
      "⛓️ Over-clustering input data with resolution set to 10\n"
     ]
    },
    {
     "name": "stdout",
     "output_type": "stream",
     "text": [
      "Successfully saved report\n",
      "\n"
     ]
    },
    {
     "name": "stderr",
     "output_type": "stream",
     "text": [
      "🗳️ Majority voting the predictions\n",
      "✅ Majority voting done!\n",
      "🔬 Input data has 11647 cells and 635 genes\n",
      "🔗 Matching reference genes in the model\n",
      "🧬 635 features used for prediction\n",
      "⚖️ Scaling input data\n",
      "🖋️ Predicting labels\n",
      "✅ Prediction done!\n",
      "👀 Detected a neighborhood graph in the input object, will run over-clustering on the basis of it\n",
      "⛓️ Over-clustering input data with resolution set to 10\n"
     ]
    },
    {
     "name": "stdout",
     "output_type": "stream",
     "text": [
      "Successfully saved report\n",
      "\n"
     ]
    },
    {
     "name": "stderr",
     "output_type": "stream",
     "text": [
      "🗳️ Majority voting the predictions\n",
      "✅ Majority voting done!\n",
      "🔬 Input data has 13035 cells and 635 genes\n",
      "🔗 Matching reference genes in the model\n",
      "🧬 635 features used for prediction\n",
      "⚖️ Scaling input data\n",
      "🖋️ Predicting labels\n",
      "✅ Prediction done!\n",
      "👀 Can not detect a neighborhood graph, will construct one before the over-clustering\n"
     ]
    },
    {
     "name": "stdout",
     "output_type": "stream",
     "text": [
      "Successfully saved report\n",
      "\n"
     ]
    },
    {
     "name": "stderr",
     "output_type": "stream",
     "text": [
      "⛓️ Over-clustering input data with resolution set to 10\n",
      "🗳️ Majority voting the predictions\n",
      "✅ Majority voting done!\n",
      "🔬 Input data has 13035 cells and 635 genes\n",
      "🔗 Matching reference genes in the model\n",
      "🧬 635 features used for prediction\n",
      "⚖️ Scaling input data\n",
      "🖋️ Predicting labels\n",
      "✅ Prediction done!\n",
      "👀 Detected a neighborhood graph in the input object, will run over-clustering on the basis of it\n",
      "⛓️ Over-clustering input data with resolution set to 10\n"
     ]
    },
    {
     "name": "stdout",
     "output_type": "stream",
     "text": [
      "Successfully saved report\n",
      "\n"
     ]
    },
    {
     "name": "stderr",
     "output_type": "stream",
     "text": [
      "🗳️ Majority voting the predictions\n",
      "✅ Majority voting done!\n",
      "🔬 Input data has 13035 cells and 635 genes\n",
      "🔗 Matching reference genes in the model\n",
      "🧬 635 features used for prediction\n",
      "⚖️ Scaling input data\n",
      "🖋️ Predicting labels\n",
      "✅ Prediction done!\n",
      "👀 Detected a neighborhood graph in the input object, will run over-clustering on the basis of it\n",
      "⛓️ Over-clustering input data with resolution set to 10\n"
     ]
    },
    {
     "name": "stdout",
     "output_type": "stream",
     "text": [
      "Successfully saved report\n",
      "\n"
     ]
    },
    {
     "name": "stderr",
     "output_type": "stream",
     "text": [
      "🗳️ Majority voting the predictions\n",
      "✅ Majority voting done!\n"
     ]
    },
    {
     "name": "stdout",
     "output_type": "stream",
     "text": [
      "Successfully saved report\n",
      "\n"
     ]
    },
    {
     "name": "stderr",
     "output_type": "stream",
     "text": [
      "🔬 Input data has 13123 cells and 635 genes\n",
      "🔗 Matching reference genes in the model\n",
      "🧬 635 features used for prediction\n",
      "⚖️ Scaling input data\n",
      "🖋️ Predicting labels\n",
      "✅ Prediction done!\n",
      "👀 Can not detect a neighborhood graph, will construct one before the over-clustering\n",
      "⛓️ Over-clustering input data with resolution set to 10\n",
      "🗳️ Majority voting the predictions\n",
      "✅ Majority voting done!\n",
      "🔬 Input data has 13123 cells and 635 genes\n",
      "🔗 Matching reference genes in the model\n",
      "🧬 635 features used for prediction\n",
      "⚖️ Scaling input data\n",
      "🖋️ Predicting labels\n",
      "✅ Prediction done!\n",
      "👀 Detected a neighborhood graph in the input object, will run over-clustering on the basis of it\n",
      "⛓️ Over-clustering input data with resolution set to 10\n"
     ]
    },
    {
     "name": "stdout",
     "output_type": "stream",
     "text": [
      "Successfully saved report\n",
      "\n"
     ]
    },
    {
     "name": "stderr",
     "output_type": "stream",
     "text": [
      "🗳️ Majority voting the predictions\n",
      "✅ Majority voting done!\n",
      "🔬 Input data has 13123 cells and 635 genes\n",
      "🔗 Matching reference genes in the model\n",
      "🧬 635 features used for prediction\n",
      "⚖️ Scaling input data\n",
      "🖋️ Predicting labels\n",
      "✅ Prediction done!\n",
      "👀 Detected a neighborhood graph in the input object, will run over-clustering on the basis of it\n",
      "⛓️ Over-clustering input data with resolution set to 10\n"
     ]
    },
    {
     "name": "stdout",
     "output_type": "stream",
     "text": [
      "Successfully saved report\n",
      "\n"
     ]
    },
    {
     "name": "stderr",
     "output_type": "stream",
     "text": [
      "🗳️ Majority voting the predictions\n",
      "✅ Majority voting done!\n",
      "🔬 Input data has 14516 cells and 635 genes\n",
      "🔗 Matching reference genes in the model\n",
      "🧬 635 features used for prediction\n",
      "⚖️ Scaling input data\n",
      "🖋️ Predicting labels\n",
      "✅ Prediction done!\n",
      "👀 Can not detect a neighborhood graph, will construct one before the over-clustering\n"
     ]
    },
    {
     "name": "stdout",
     "output_type": "stream",
     "text": [
      "Successfully saved report\n",
      "\n"
     ]
    },
    {
     "name": "stderr",
     "output_type": "stream",
     "text": [
      "⛓️ Over-clustering input data with resolution set to 10\n",
      "🗳️ Majority voting the predictions\n",
      "✅ Majority voting done!\n",
      "🔬 Input data has 14516 cells and 635 genes\n",
      "🔗 Matching reference genes in the model\n",
      "🧬 635 features used for prediction\n",
      "⚖️ Scaling input data\n",
      "🖋️ Predicting labels\n",
      "✅ Prediction done!\n",
      "👀 Detected a neighborhood graph in the input object, will run over-clustering on the basis of it\n",
      "⛓️ Over-clustering input data with resolution set to 10\n"
     ]
    },
    {
     "name": "stdout",
     "output_type": "stream",
     "text": [
      "Successfully saved report\n",
      "\n"
     ]
    },
    {
     "name": "stderr",
     "output_type": "stream",
     "text": [
      "🗳️ Majority voting the predictions\n",
      "✅ Majority voting done!\n",
      "🔬 Input data has 14516 cells and 635 genes\n",
      "🔗 Matching reference genes in the model\n",
      "🧬 635 features used for prediction\n",
      "⚖️ Scaling input data\n",
      "🖋️ Predicting labels\n",
      "✅ Prediction done!\n",
      "👀 Detected a neighborhood graph in the input object, will run over-clustering on the basis of it\n",
      "⛓️ Over-clustering input data with resolution set to 10\n"
     ]
    },
    {
     "name": "stdout",
     "output_type": "stream",
     "text": [
      "Successfully saved report\n",
      "\n"
     ]
    },
    {
     "name": "stderr",
     "output_type": "stream",
     "text": [
      "🗳️ Majority voting the predictions\n",
      "✅ Majority voting done!\n",
      "🔬 Input data has 14983 cells and 635 genes\n",
      "🔗 Matching reference genes in the model\n",
      "🧬 635 features used for prediction\n",
      "⚖️ Scaling input data\n",
      "🖋️ Predicting labels\n",
      "✅ Prediction done!\n",
      "👀 Can not detect a neighborhood graph, will construct one before the over-clustering\n"
     ]
    },
    {
     "name": "stdout",
     "output_type": "stream",
     "text": [
      "Successfully saved report\n",
      "\n"
     ]
    },
    {
     "name": "stderr",
     "output_type": "stream",
     "text": [
      "⛓️ Over-clustering input data with resolution set to 10\n",
      "🗳️ Majority voting the predictions\n",
      "✅ Majority voting done!\n",
      "🔬 Input data has 14983 cells and 635 genes\n",
      "🔗 Matching reference genes in the model\n",
      "🧬 635 features used for prediction\n",
      "⚖️ Scaling input data\n",
      "🖋️ Predicting labels\n",
      "✅ Prediction done!\n",
      "👀 Detected a neighborhood graph in the input object, will run over-clustering on the basis of it\n",
      "⛓️ Over-clustering input data with resolution set to 10\n"
     ]
    },
    {
     "name": "stdout",
     "output_type": "stream",
     "text": [
      "Successfully saved report\n",
      "\n"
     ]
    },
    {
     "name": "stderr",
     "output_type": "stream",
     "text": [
      "🗳️ Majority voting the predictions\n",
      "✅ Majority voting done!\n",
      "🔬 Input data has 14983 cells and 635 genes\n",
      "🔗 Matching reference genes in the model\n",
      "🧬 635 features used for prediction\n",
      "⚖️ Scaling input data\n",
      "🖋️ Predicting labels\n",
      "✅ Prediction done!\n",
      "👀 Detected a neighborhood graph in the input object, will run over-clustering on the basis of it\n",
      "⛓️ Over-clustering input data with resolution set to 10\n"
     ]
    },
    {
     "name": "stdout",
     "output_type": "stream",
     "text": [
      "Successfully saved report\n",
      "\n"
     ]
    },
    {
     "name": "stderr",
     "output_type": "stream",
     "text": [
      "🗳️ Majority voting the predictions\n",
      "✅ Majority voting done!\n",
      "🔬 Input data has 14865 cells and 635 genes\n",
      "🔗 Matching reference genes in the model\n",
      "🧬 635 features used for prediction\n",
      "⚖️ Scaling input data\n",
      "🖋️ Predicting labels\n",
      "✅ Prediction done!\n",
      "👀 Can not detect a neighborhood graph, will construct one before the over-clustering\n"
     ]
    },
    {
     "name": "stdout",
     "output_type": "stream",
     "text": [
      "Successfully saved report\n",
      "\n"
     ]
    },
    {
     "name": "stderr",
     "output_type": "stream",
     "text": [
      "⛓️ Over-clustering input data with resolution set to 10\n",
      "🗳️ Majority voting the predictions\n",
      "✅ Majority voting done!\n",
      "🔬 Input data has 14865 cells and 635 genes\n",
      "🔗 Matching reference genes in the model\n",
      "🧬 635 features used for prediction\n",
      "⚖️ Scaling input data\n",
      "🖋️ Predicting labels\n",
      "✅ Prediction done!\n",
      "👀 Detected a neighborhood graph in the input object, will run over-clustering on the basis of it\n",
      "⛓️ Over-clustering input data with resolution set to 10\n"
     ]
    },
    {
     "name": "stdout",
     "output_type": "stream",
     "text": [
      "Successfully saved report\n",
      "\n"
     ]
    },
    {
     "name": "stderr",
     "output_type": "stream",
     "text": [
      "🗳️ Majority voting the predictions\n",
      "✅ Majority voting done!\n",
      "🔬 Input data has 14865 cells and 635 genes\n",
      "🔗 Matching reference genes in the model\n",
      "🧬 635 features used for prediction\n",
      "⚖️ Scaling input data\n",
      "🖋️ Predicting labels\n",
      "✅ Prediction done!\n",
      "👀 Detected a neighborhood graph in the input object, will run over-clustering on the basis of it\n",
      "⛓️ Over-clustering input data with resolution set to 10\n"
     ]
    },
    {
     "name": "stdout",
     "output_type": "stream",
     "text": [
      "Successfully saved report\n",
      "\n"
     ]
    },
    {
     "name": "stderr",
     "output_type": "stream",
     "text": [
      "🗳️ Majority voting the predictions\n",
      "✅ Majority voting done!\n"
     ]
    },
    {
     "name": "stdout",
     "output_type": "stream",
     "text": [
      "Successfully saved report\n",
      "\n"
     ]
    }
   ],
   "source": [
    "for folder in lst_test:\n",
    "    # Create adata_test - 2 samples of 2 donors from integrated adata object (8 donors, 24 samples)\n",
    "    adata_test = adata[adata.obs['orig.ident'].isin([folder[0:4], folder[5:9]])].copy()\n",
    "    # Prediction step using pretrained models\n",
    "    for i in lst_annotations:\n",
    "        predictions = celltypist.annotate(adata_test, model = os.path.join('/mnt/c/Users/vadim/scRNA/scParadise/scAdam/PBMC/3p/celltypist/models_small', i + '.pkl'), majority_voting = True)\n",
    "        adata_test = predictions.to_adata()\n",
    "        scparadise.scnoah.report_classif_full(adata_test, \n",
    "                                      celltype = i, \n",
    "                                      pred_celltype = 'majority_voting', \n",
    "                                      report_name = 'report_celltypist_635_' + i + '.csv',\n",
    "                                      save_path = os.path.join('/mnt/c/Users/vadim/scRNA/scParadise/scAdam/PBMC/3p/celltypist/reports_small', folder),\n",
    "                                      save_report = True)"
   ]
  },
  {
   "cell_type": "code",
   "execution_count": null,
   "id": "e75c5ddd-5899-4930-84a9-1874b777f327",
   "metadata": {},
   "outputs": [],
   "source": []
  }
 ],
 "metadata": {
  "kernelspec": {
   "display_name": "Python 3 (ipykernel)",
   "language": "python",
   "name": "python3"
  },
  "language_info": {
   "codemirror_mode": {
    "name": "ipython",
    "version": 3
   },
   "file_extension": ".py",
   "mimetype": "text/x-python",
   "name": "python",
   "nbconvert_exporter": "python",
   "pygments_lexer": "ipython3",
   "version": "3.11.9"
  }
 },
 "nbformat": 4,
 "nbformat_minor": 5
}
