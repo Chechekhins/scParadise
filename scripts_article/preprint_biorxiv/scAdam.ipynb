{
 "cells": [
  {
   "cell_type": "code",
   "execution_count": 9,
   "id": "25668421-5bbd-413e-a901-916cab2b909f",
   "metadata": {},
   "outputs": [],
   "source": [
    "import scanpy as sc\n",
    "import anndata\n",
    "import muon as mu\n",
    "import scparadise\n",
    "import os\n",
    "import torch\n",
    "import pandas as pd\n",
    "import warnings \n",
    "warnings.simplefilter('ignore')"
   ]
  },
  {
   "cell_type": "code",
   "execution_count": 10,
   "id": "0b66addd-0e6a-457d-88d3-3bb09e6e337c",
   "metadata": {},
   "outputs": [],
   "source": [
    "# Load normalized integrated data\n",
    "mdata = mu.read_h5mu('/mnt/c/Users/vadim/Desktop/R/PBMC_ref/CITEseq/3p/mdata_unintegrated.h5mu')"
   ]
  },
  {
   "cell_type": "code",
   "execution_count": 11,
   "id": "8ffe7650-4da1-428b-a93b-e8a8e3656284",
   "metadata": {},
   "outputs": [],
   "source": [
    "# Select RNA modality from MuData object (mdata)\n",
    "adata = mdata.mod['rna'].copy()\n",
    "del mdata"
   ]
  },
  {
   "cell_type": "code",
   "execution_count": 12,
   "id": "a3229c49-3c68-4a90-a1a3-eac39463fa94",
   "metadata": {},
   "outputs": [],
   "source": [
    "# Subset anndata object based on a selected marker genes\n",
    "genes = pd.read_csv('/mnt/c/Users/vadim/scRNA/scParadise/scAdam/PBMC/3p/genes_for_AI.csv')\n",
    "adata = adata[:, genes.genes].copy()"
   ]
  },
  {
   "cell_type": "code",
   "execution_count": 13,
   "id": "0bb5a2f3-4917-4824-8055-1fda6183e9ea",
   "metadata": {},
   "outputs": [],
   "source": [
    "# Create list of samples to leave in reference train dataset\n",
    "lst_reference = ['P1_0', 'P2_0', 'P3_0', 'P4_0', 'P5_0', 'P6_0', 'P7_0', 'P8_0']"
   ]
  },
  {
   "cell_type": "code",
   "execution_count": 14,
   "id": "17c55013-7448-432b-8f6a-ea2674b06c59",
   "metadata": {},
   "outputs": [],
   "source": [
    "# Create adata_train - 8 samples of 8 donors from unintegrated adata object (8 donors, 24 samples)\n",
    "adata_train = adata[adata.obs['orig.ident'].isin(lst_reference)].copy()"
   ]
  },
  {
   "cell_type": "code",
   "execution_count": 15,
   "id": "3fdfe587-46d5-434d-900b-3ba8e9015b68",
   "metadata": {},
   "outputs": [
    {
     "name": "stdout",
     "output_type": "stream",
     "text": [
      "Successfully undersampled cell types: CD14 Mono, NK, CD4 T Naive, CD4 TCM, CD8 TEM, CD8 T Naive, CD16 Mono\n",
      "\n",
      "Successfully oversampled cell types: B naive κ, CD4 TEM, gdT, CD8 TCM, cDC2, MAIT, Treg, B naive λ, B memory κ, CD4 CTL, Platelet, B int λ, B memory λ, B int κ, NK_CD56bright, pDC, HSPC, dnT, Plasmablast, NK Prolif, cDC1, ILC, CD4 T Prolif, ASDC, CD8 T Prolif\n"
     ]
    }
   ],
   "source": [
    "# Balance dataset based on l3 annotation level\n",
    "adata_balanced = scparadise.scnoah.balance(adata_train, \n",
    "                                           sample='orig.ident',\n",
    "                                           celltype_l1='celltype_l1',\n",
    "                                           celltype_l2='celltype_l2',\n",
    "                                           celltype_l3='celltype_l3')"
   ]
  },
  {
   "cell_type": "code",
   "execution_count": 8,
   "id": "839c8d8b-2090-42c6-97ef-feaf93a05ff1",
   "metadata": {
    "scrolled": true
   },
   "outputs": [
    {
     "name": "stdout",
     "output_type": "stream",
     "text": [
      "Successfully saved genes names for training model\n",
      "\n",
      "Successfully saved dictionary of dataset annotations\n",
      "\n",
      "Train dataset contains: 47808 cells, it is 90.0 % of input dataset\n",
      "Test dataset contains: 5312 cells, it is 10.0 % of input dataset\n",
      "\n",
      "Accelerator: cuda\n",
      "Start training\n",
      "epoch 0  | loss: 2.32723 | train_accuracy: 0.51008 | valid_accuracy: 0.51123 |  0:00:02s\n",
      "epoch 1  | loss: 1.20643 | train_accuracy: 0.70633 | valid_accuracy: 0.70325 |  0:00:04s\n",
      "epoch 2  | loss: 0.84622 | train_accuracy: 0.79572 | valid_accuracy: 0.79374 |  0:00:06s\n",
      "epoch 3  | loss: 0.68229 | train_accuracy: 0.85555 | valid_accuracy: 0.85241 |  0:00:08s\n",
      "epoch 4  | loss: 0.57651 | train_accuracy: 0.89244 | valid_accuracy: 0.88924 |  0:00:10s\n",
      "epoch 5  | loss: 0.5237  | train_accuracy: 0.90522 | valid_accuracy: 0.9023  |  0:00:12s\n",
      "epoch 6  | loss: 0.47854 | train_accuracy: 0.91555 | valid_accuracy: 0.91039 |  0:00:14s\n",
      "epoch 7  | loss: 0.45391 | train_accuracy: 0.92091 | valid_accuracy: 0.91767 |  0:00:16s\n",
      "epoch 8  | loss: 0.4347  | train_accuracy: 0.92946 | valid_accuracy: 0.9247  |  0:00:18s\n",
      "epoch 9  | loss: 0.4089  | train_accuracy: 0.94549 | valid_accuracy: 0.94076 |  0:00:21s\n",
      "epoch 10 | loss: 0.38943 | train_accuracy: 0.94891 | valid_accuracy: 0.94371 |  0:00:23s\n",
      "epoch 11 | loss: 0.37736 | train_accuracy: 0.95177 | valid_accuracy: 0.94685 |  0:00:25s\n",
      "epoch 12 | loss: 0.36622 | train_accuracy: 0.95015 | valid_accuracy: 0.9466  |  0:00:27s\n",
      "epoch 13 | loss: 0.35364 | train_accuracy: 0.95635 | valid_accuracy: 0.95005 |  0:00:29s\n",
      "epoch 14 | loss: 0.34865 | train_accuracy: 0.95682 | valid_accuracy: 0.9508  |  0:00:31s\n",
      "epoch 15 | loss: 0.34226 | train_accuracy: 0.95858 | valid_accuracy: 0.95269 |  0:00:32s\n",
      "epoch 16 | loss: 0.33245 | train_accuracy: 0.96287 | valid_accuracy: 0.95488 |  0:00:34s\n",
      "epoch 17 | loss: 0.32853 | train_accuracy: 0.96222 | valid_accuracy: 0.95407 |  0:00:36s\n",
      "epoch 18 | loss: 0.32934 | train_accuracy: 0.96509 | valid_accuracy: 0.95595 |  0:00:38s\n",
      "epoch 19 | loss: 0.31987 | train_accuracy: 0.96666 | valid_accuracy: 0.9584  |  0:00:40s\n",
      "epoch 20 | loss: 0.31091 | train_accuracy: 0.96743 | valid_accuracy: 0.95683 |  0:00:42s\n",
      "epoch 21 | loss: 0.30649 | train_accuracy: 0.96705 | valid_accuracy: 0.95727 |  0:00:44s\n",
      "epoch 22 | loss: 0.30177 | train_accuracy: 0.9685  | valid_accuracy: 0.95752 |  0:00:46s\n",
      "epoch 23 | loss: 0.29635 | train_accuracy: 0.96597 | valid_accuracy: 0.95469 |  0:00:48s\n",
      "epoch 24 | loss: 0.29937 | train_accuracy: 0.97212 | valid_accuracy: 0.96367 |  0:00:50s\n",
      "epoch 25 | loss: 0.29047 | train_accuracy: 0.97224 | valid_accuracy: 0.9631  |  0:00:52s\n",
      "epoch 26 | loss: 0.28669 | train_accuracy: 0.97039 | valid_accuracy: 0.95858 |  0:00:54s\n",
      "epoch 27 | loss: 0.28935 | train_accuracy: 0.97148 | valid_accuracy: 0.9621  |  0:00:56s\n",
      "epoch 28 | loss: 0.28745 | train_accuracy: 0.97302 | valid_accuracy: 0.96197 |  0:00:58s\n",
      "epoch 29 | loss: 0.28133 | train_accuracy: 0.97262 | valid_accuracy: 0.96185 |  0:01:00s\n",
      "epoch 30 | loss: 0.28022 | train_accuracy: 0.97604 | valid_accuracy: 0.96448 |  0:01:01s\n",
      "epoch 31 | loss: 0.27683 | train_accuracy: 0.97284 | valid_accuracy: 0.96135 |  0:01:03s\n",
      "epoch 32 | loss: 0.27922 | train_accuracy: 0.97433 | valid_accuracy: 0.96147 |  0:01:05s\n",
      "epoch 33 | loss: 0.28199 | train_accuracy: 0.9741  | valid_accuracy: 0.96367 |  0:01:07s\n",
      "epoch 34 | loss: 0.27337 | train_accuracy: 0.97562 | valid_accuracy: 0.96222 |  0:01:09s\n",
      "epoch 35 | loss: 0.27078 | train_accuracy: 0.97627 | valid_accuracy: 0.9636  |  0:01:11s\n",
      "epoch 36 | loss: 0.2687  | train_accuracy: 0.97288 | valid_accuracy: 0.96216 |  0:01:13s\n",
      "epoch 37 | loss: 0.27271 | train_accuracy: 0.97624 | valid_accuracy: 0.96317 |  0:01:15s\n",
      "epoch 38 | loss: 0.27191 | train_accuracy: 0.97537 | valid_accuracy: 0.96279 |  0:01:16s\n",
      "epoch 39 | loss: 0.26468 | train_accuracy: 0.97654 | valid_accuracy: 0.96222 |  0:01:18s\n",
      "epoch 40 | loss: 0.26985 | train_accuracy: 0.97755 | valid_accuracy: 0.96398 |  0:01:20s\n",
      "\n",
      "Early stopping occurred at epoch 40 with best_epoch = 30 and best_valid_accuracy = 0.96448\n",
      "\n",
      "Successfully saved training history\n",
      "Successfully saved model at /mnt/c/Users/vadim/scRNA/scParadise/scAdam/PBMC/3p/scparadise/model_small_balanced/model.zip\n"
     ]
    }
   ],
   "source": [
    "# Train scadam model using adata_balanced dataset\n",
    "scparadise.scadam.train(adata_balanced,\n",
    "                        path='/mnt/c/Users/vadim/scRNA/scParadise/scAdam/PBMC/3p/scparadise/',\n",
    "                        model_name='model_small_balanced',\n",
    "                        celltype_l1='celltype_l1',\n",
    "                        celltype_l2='celltype_l2',\n",
    "                        celltype_l3='celltype_l3',\n",
    "                        eval_metric=['accuracy'])"
   ]
  },
  {
   "cell_type": "code",
   "execution_count": 22,
   "id": "1715ef18-e06f-4385-9d13-2bb43a1eccea",
   "metadata": {},
   "outputs": [],
   "source": [
    "# Create lists with paired test samples\n",
    "lst_test = ['P1_3_P3_3', 'P1_7_P8_3', 'P2_3_P4_7', 'P2_7_P6_3', 'P3_7_P7_3', 'P4_3_P7_7', 'P5_3_P8_7', 'P5_7_P6_7']"
   ]
  },
  {
   "cell_type": "code",
   "execution_count": 10,
   "id": "98bca42e-27f2-4c5f-afd8-b7ea23374b93",
   "metadata": {
    "scrolled": true
   },
   "outputs": [
    {
     "name": "stdout",
     "output_type": "stream",
     "text": [
      "Successfully loaded list of genes used for training model\n",
      "\n",
      "Successfully loaded dictionary of dataset annotations\n",
      "\n",
      "Successfully loaded model\n",
      "\n",
      "Successfully added predicted celltype_l1 and cell type probabilities\n",
      "Successfully added predicted celltype_l2 and cell type probabilities\n",
      "Successfully added predicted celltype_l3 and cell type probabilities\n",
      "Successfully saved report\n",
      "\n",
      "Successfully saved report\n",
      "\n",
      "Successfully saved report\n",
      "\n",
      "Successfully loaded list of genes used for training model\n",
      "\n",
      "Successfully loaded dictionary of dataset annotations\n",
      "\n",
      "Successfully loaded model\n",
      "\n",
      "Successfully added predicted celltype_l1 and cell type probabilities\n",
      "Successfully added predicted celltype_l2 and cell type probabilities\n",
      "Successfully added predicted celltype_l3 and cell type probabilities\n",
      "Successfully saved report\n",
      "\n",
      "Successfully saved report\n",
      "\n",
      "Successfully saved report\n",
      "\n",
      "Successfully loaded list of genes used for training model\n",
      "\n",
      "Successfully loaded dictionary of dataset annotations\n",
      "\n",
      "Successfully loaded model\n",
      "\n",
      "Successfully added predicted celltype_l1 and cell type probabilities\n",
      "Successfully added predicted celltype_l2 and cell type probabilities\n",
      "Successfully added predicted celltype_l3 and cell type probabilities\n",
      "Successfully saved report\n",
      "\n",
      "Successfully saved report\n",
      "\n",
      "Successfully saved report\n",
      "\n",
      "Successfully loaded list of genes used for training model\n",
      "\n",
      "Successfully loaded dictionary of dataset annotations\n",
      "\n",
      "Successfully loaded model\n",
      "\n",
      "Successfully added predicted celltype_l1 and cell type probabilities\n",
      "Successfully added predicted celltype_l2 and cell type probabilities\n",
      "Successfully added predicted celltype_l3 and cell type probabilities\n",
      "Successfully saved report\n",
      "\n",
      "Successfully saved report\n",
      "\n",
      "Successfully saved report\n",
      "\n",
      "Successfully loaded list of genes used for training model\n",
      "\n",
      "Successfully loaded dictionary of dataset annotations\n",
      "\n",
      "Successfully loaded model\n",
      "\n",
      "Successfully added predicted celltype_l1 and cell type probabilities\n",
      "Successfully added predicted celltype_l2 and cell type probabilities\n",
      "Successfully added predicted celltype_l3 and cell type probabilities\n",
      "Successfully saved report\n",
      "\n",
      "Successfully saved report\n",
      "\n",
      "Successfully saved report\n",
      "\n",
      "Successfully loaded list of genes used for training model\n",
      "\n",
      "Successfully loaded dictionary of dataset annotations\n",
      "\n",
      "Successfully loaded model\n",
      "\n",
      "Successfully added predicted celltype_l1 and cell type probabilities\n",
      "Successfully added predicted celltype_l2 and cell type probabilities\n",
      "Successfully added predicted celltype_l3 and cell type probabilities\n",
      "Successfully saved report\n",
      "\n",
      "Successfully saved report\n",
      "\n",
      "Successfully saved report\n",
      "\n",
      "Successfully loaded list of genes used for training model\n",
      "\n",
      "Successfully loaded dictionary of dataset annotations\n",
      "\n",
      "Successfully loaded model\n",
      "\n",
      "Successfully added predicted celltype_l1 and cell type probabilities\n",
      "Successfully added predicted celltype_l2 and cell type probabilities\n",
      "Successfully added predicted celltype_l3 and cell type probabilities\n",
      "Successfully saved report\n",
      "\n",
      "Successfully saved report\n",
      "\n",
      "Successfully saved report\n",
      "\n",
      "Successfully loaded list of genes used for training model\n",
      "\n",
      "Successfully loaded dictionary of dataset annotations\n",
      "\n",
      "Successfully loaded model\n",
      "\n",
      "Successfully added predicted celltype_l1 and cell type probabilities\n",
      "Successfully added predicted celltype_l2 and cell type probabilities\n",
      "Successfully added predicted celltype_l3 and cell type probabilities\n",
      "Successfully saved report\n",
      "\n",
      "Successfully saved report\n",
      "\n",
      "Successfully saved report\n",
      "\n"
     ]
    }
   ],
   "source": [
    "for folder in lst_test:\n",
    "    adata_test = adata[adata.obs['orig.ident'].isin([folder[0:4], folder[5:9]])].copy()\n",
    "    # Predict annotation levels using pretrained scadam model\n",
    "    adata_test = scparadise.scadam.predict(adata_test, \n",
    "                                           path_model = '/mnt/c/Users/vadim/scRNA/scParadise/scAdam/PBMC/3p/scparadise/model_small_balanced/')\n",
    "    # Create and save classification report of annotation levels\n",
    "    scparadise.scnoah.report_classif_full(adata_test, \n",
    "                                          celltype = 'celltype_l1', \n",
    "                                          pred_celltype='pred_celltype_l1', \n",
    "                                          report_name = 'report_test_model_scadam_635_AdamW_celltype_l1.csv',\n",
    "                                          save_path = os.path.join('/mnt/c/Users/vadim/scRNA/scParadise/scAdam/PBMC/3p/scparadise/reports_small/', folder).replace(\"\\\\\",\"/\"),\n",
    "                                          save_report=True)\n",
    "    scparadise.scnoah.report_classif_full(adata_test, \n",
    "                                          celltype = 'celltype_l2', \n",
    "                                          pred_celltype='pred_celltype_l2', \n",
    "                                          report_name = 'report_test_model_scadam_635_AdamW_celltype_l2.csv',\n",
    "                                          save_path = os.path.join('/mnt/c/Users/vadim/scRNA/scParadise/scAdam/PBMC/3p/scparadise/reports_small/', folder).replace(\"\\\\\",\"/\"),\n",
    "                                          save_report=True)\n",
    "    scparadise.scnoah.report_classif_full(adata_test, \n",
    "                                          celltype = 'celltype_l3', \n",
    "                                          pred_celltype='pred_celltype_l3', \n",
    "                                          report_name = 'report_test_model_scadam_635_AdamW_celltype_l3.csv',\n",
    "                                          save_path = os.path.join('/mnt/c/Users/vadim/scRNA/scParadise/scAdam/PBMC/3p/scparadise/reports_small/', folder).replace(\"\\\\\",\"/\"),\n",
    "                                          save_report=True)"
   ]
  },
  {
   "cell_type": "code",
   "execution_count": 16,
   "id": "5dad9589-52c4-4116-bbda-e2edc2f640b0",
   "metadata": {
    "scrolled": true
   },
   "outputs": [
    {
     "name": "stdout",
     "output_type": "stream",
     "text": [
      "Successfully saved genes names for training model\n",
      "\n",
      "Successfully saved dictionary of dataset annotations\n",
      "\n",
      "Accelerator: cuda\n",
      "\n"
     ]
    },
    {
     "name": "stderr",
     "output_type": "stream",
     "text": [
      "[I 2024-09-16 15:38:38,157] A new study created in RDB with name: model_tuning_final\n"
     ]
    },
    {
     "name": "stdout",
     "output_type": "stream",
     "text": [
      "Fold 1:\n",
      "\n",
      "Early stopping occurred at epoch 84 with best_epoch = 74 and best_valid_accuracy = 0.96376\n",
      "\n",
      "Fold 2:\n",
      "\n",
      "Early stopping occurred at epoch 97 with best_epoch = 87 and best_valid_accuracy = 0.96554\n",
      "\n",
      "Fold 3:\n",
      "\n",
      "Early stopping occurred at epoch 72 with best_epoch = 62 and best_valid_accuracy = 0.96589\n",
      "\n",
      "Fold 4:\n",
      "\n",
      "Early stopping occurred at epoch 84 with best_epoch = 74 and best_valid_accuracy = 0.96802\n"
     ]
    },
    {
     "name": "stderr",
     "output_type": "stream",
     "text": [
      "[I 2024-09-16 15:48:17,807] Trial 0 finished with value: 0.965800702811245 and parameters: {'n_d': 8, 'n_a': 8, 'n_steps': 3, 'n_shared': 2, 'cat_emb_dim': 1, 'n_independent': 1, 'gamma': 1.3, 'momentum': 0.02, 'lr': 0.01, 'mask_type': 'entmax', 'lambda_sparse': 0.001, 'patience': 10, 'max_epochs': 100, 'virtual_batch_size': 128, 'batch_size': 1024}. Best is trial 0 with value: 0.965800702811245.\n"
     ]
    },
    {
     "name": "stdout",
     "output_type": "stream",
     "text": [
      "\n",
      "Fold 1:\n",
      "\n",
      "Early stopping occurred at epoch 21 with best_epoch = 6 and best_valid_accuracy = 0.42174\n",
      "\n",
      "Fold 2:\n",
      "\n",
      "Early stopping occurred at epoch 71 with best_epoch = 56 and best_valid_accuracy = 0.60417\n",
      "\n",
      "Fold 3:\n",
      "\n",
      "Early stopping occurred at epoch 71 with best_epoch = 56 and best_valid_accuracy = 0.5562\n",
      "\n",
      "Fold 4:\n",
      "\n",
      "Early stopping occurred at epoch 51 with best_epoch = 36 and best_valid_accuracy = 0.5429\n"
     ]
    },
    {
     "name": "stderr",
     "output_type": "stream",
     "text": [
      "[I 2024-09-16 15:55:01,046] Trial 1 finished with value: 0.53125 and parameters: {'n_d': 76, 'n_a': 96, 'n_steps': 7, 'n_shared': 6, 'cat_emb_dim': 5, 'n_independent': 7, 'gamma': 1.4375872112626924, 'momentum': 0.35779147030501113, 'lr': 0.48183501397446454, 'mask_type': 'sparsemax', 'lambda_sparse': 0.0026759101313960213, 'patience': 15, 'max_epochs': 95, 'virtual_batch_size': 1024, 'batch_size': 4096}. Best is trial 0 with value: 0.965800702811245.\n"
     ]
    },
    {
     "name": "stdout",
     "output_type": "stream",
     "text": [
      "\n",
      "Fold 1:\n",
      "Stop training because you reached max_epochs = 50 with best_epoch = 49 and best_valid_accuracy = 0.8255\n",
      "\n",
      "Fold 2:\n",
      "Stop training because you reached max_epochs = 50 with best_epoch = 39 and best_valid_accuracy = 0.91569\n",
      "\n",
      "Fold 3:\n",
      "\n",
      "Early stopping occurred at epoch 32 with best_epoch = 12 and best_valid_accuracy = 0.59342\n",
      "\n",
      "Fold 4:\n",
      "Stop training because you reached max_epochs = 50 with best_epoch = 49 and best_valid_accuracy = 0.69255\n"
     ]
    },
    {
     "name": "stderr",
     "output_type": "stream",
     "text": [
      "[I 2024-09-16 16:01:29,458] Trial 2 finished with value: 0.7567896586345382 and parameters: {'n_d': 112, 'n_a': 128, 'n_steps': 8, 'n_shared': 5, 'cat_emb_dim': 8, 'n_independent': 2, 'gamma': 1.639921021327524, 'momentum': 0.06590778208952809, 'lr': 0.472339991633087, 'mask_type': 'entmax', 'lambda_sparse': 0.0005176398009690514, 'patience': 20, 'max_epochs': 50, 'virtual_batch_size': 512, 'batch_size': 2560}. Best is trial 0 with value: 0.965800702811245.\n"
     ]
    },
    {
     "name": "stdout",
     "output_type": "stream",
     "text": [
      "\n",
      "Fold 1:\n",
      "Stop training because you reached max_epochs = 45 with best_epoch = 44 and best_valid_accuracy = 0.96885\n",
      "\n",
      "Fold 2:\n",
      "Stop training because you reached max_epochs = 45 with best_epoch = 42 and best_valid_accuracy = 0.96933\n",
      "\n",
      "Fold 3:\n",
      "Stop training because you reached max_epochs = 45 with best_epoch = 39 and best_valid_accuracy = 0.97028\n",
      "\n",
      "Fold 4:\n",
      "Stop training because you reached max_epochs = 45 with best_epoch = 44 and best_valid_accuracy = 0.97241\n"
     ]
    },
    {
     "name": "stderr",
     "output_type": "stream",
     "text": [
      "[I 2024-09-16 16:09:45,400] Trial 3 finished with value: 0.9702183734939759 and parameters: {'n_d': 124, 'n_a': 92, 'n_steps': 4, 'n_shared': 5, 'cat_emb_dim': 7, 'n_independent': 1, 'gamma': 1.6667667154456676, 'momentum': 0.27154876915108217, 'lr': 0.10527024228081307, 'mask_type': 'sparsemax', 'lambda_sparse': 0.0009586155312153562, 'patience': 15, 'max_epochs': 45, 'virtual_batch_size': 128, 'batch_size': 896}. Best is trial 3 with value: 0.9702183734939759.\n"
     ]
    },
    {
     "name": "stdout",
     "output_type": "stream",
     "text": [
      "\n",
      "Fold 1:\n",
      "\n",
      "Early stopping occurred at epoch 16 with best_epoch = 11 and best_valid_accuracy = 0.95088\n",
      "\n",
      "Fold 2:\n",
      "\n",
      "Early stopping occurred at epoch 18 with best_epoch = 13 and best_valid_accuracy = 0.95243\n",
      "\n",
      "Fold 3:\n",
      "\n",
      "Early stopping occurred at epoch 11 with best_epoch = 6 and best_valid_accuracy = 0.89074\n",
      "\n",
      "Fold 4:\n",
      "\n",
      "Early stopping occurred at epoch 13 with best_epoch = 8 and best_valid_accuracy = 0.95223\n"
     ]
    },
    {
     "name": "stderr",
     "output_type": "stream",
     "text": [
      "[I 2024-09-16 16:13:31,179] Trial 4 finished with value: 0.9365712851405623 and parameters: {'n_d': 36, 'n_a': 64, 'n_steps': 3, 'n_shared': 2, 'cat_emb_dim': 2, 'n_independent': 7, 'gamma': 1.1381829513486137, 'momentum': 0.08666712105522086, 'lr': 0.18442571281341594, 'mask_type': 'entmax', 'lambda_sparse': 0.01826367501240171, 'patience': 5, 'max_epochs': 100, 'virtual_batch_size': 256, 'batch_size': 512}. Best is trial 3 with value: 0.9702183734939759.\n"
     ]
    },
    {
     "name": "stdout",
     "output_type": "stream",
     "text": [
      "\n",
      "Fold 1:\n",
      "\n",
      "Early stopping occurred at epoch 85 with best_epoch = 70 and best_valid_accuracy = 0.96795\n",
      "\n",
      "Fold 2:\n",
      "\n",
      "Early stopping occurred at epoch 61 with best_epoch = 46 and best_valid_accuracy = 0.96295\n",
      "\n",
      "Fold 3:\n",
      "\n",
      "Early stopping occurred at epoch 67 with best_epoch = 52 and best_valid_accuracy = 0.96664\n",
      "\n",
      "Fold 4:\n",
      "\n",
      "Early stopping occurred at epoch 42 with best_epoch = 27 and best_valid_accuracy = 0.9567\n"
     ]
    },
    {
     "name": "stderr",
     "output_type": "stream",
     "text": [
      "[I 2024-09-16 16:19:17,313] Trial 5 finished with value: 0.9635604919678714 and parameters: {'n_d': 40, 'n_a': 20, 'n_steps': 3, 'n_shared': 2, 'cat_emb_dim': 4, 'n_independent': 5, 'gamma': 1.0641474963487845, 'momentum': 0.28006412655430774, 'lr': 0.2833440669578669, 'mask_type': 'sparsemax', 'lambda_sparse': 0.00017928444896455018, 'patience': 15, 'max_epochs': 95, 'virtual_batch_size': 1024, 'batch_size': 2048}. Best is trial 3 with value: 0.9702183734939759.\n"
     ]
    },
    {
     "name": "stdout",
     "output_type": "stream",
     "text": [
      "\n",
      "Fold 1:\n",
      "\n",
      "Early stopping occurred at epoch 15 with best_epoch = 0 and best_valid_accuracy = 0.37304\n"
     ]
    },
    {
     "name": "stderr",
     "output_type": "stream",
     "text": [
      "[I 2024-09-16 16:20:16,025] Trial 6 pruned. \n"
     ]
    },
    {
     "name": "stdout",
     "output_type": "stream",
     "text": [
      "Fold 1:\n",
      "\n",
      "Early stopping occurred at epoch 16 with best_epoch = 11 and best_valid_accuracy = 0.47889\n",
      "\n",
      "Fold 2:\n",
      "\n",
      "Early stopping occurred at epoch 14 with best_epoch = 9 and best_valid_accuracy = 0.59388\n",
      "\n",
      "Fold 3:\n",
      "\n",
      "Early stopping occurred at epoch 6 with best_epoch = 1 and best_valid_accuracy = 0.2759\n"
     ]
    },
    {
     "name": "stderr",
     "output_type": "stream",
     "text": [
      "[I 2024-09-16 16:29:37,135] Trial 7 pruned. \n"
     ]
    },
    {
     "name": "stdout",
     "output_type": "stream",
     "text": [
      "Fold 1:\n",
      "Stop training because you reached max_epochs = 15 with best_epoch = 10 and best_valid_accuracy = 0.56255\n",
      "\n",
      "Fold 2:\n",
      "Stop training because you reached max_epochs = 15 with best_epoch = 13 and best_valid_accuracy = 0.66644\n",
      "\n",
      "Fold 3:\n",
      "Stop training because you reached max_epochs = 15 with best_epoch = 12 and best_valid_accuracy = 0.57111\n"
     ]
    },
    {
     "name": "stderr",
     "output_type": "stream",
     "text": [
      "[I 2024-09-16 16:31:16,405] Trial 8 pruned. \n"
     ]
    },
    {
     "name": "stdout",
     "output_type": "stream",
     "text": [
      "Fold 1:\n",
      "Stop training because you reached max_epochs = 90 with best_epoch = 81 and best_valid_accuracy = 0.95971\n",
      "\n",
      "Fold 2:\n",
      "\n",
      "Early stopping occurred at epoch 48 with best_epoch = 28 and best_valid_accuracy = 0.68883\n",
      "\n",
      "Fold 3:\n",
      "\n",
      "Early stopping occurred at epoch 63 with best_epoch = 43 and best_valid_accuracy = 0.85916\n"
     ]
    },
    {
     "name": "stderr",
     "output_type": "stream",
     "text": [
      "[I 2024-09-16 16:36:28,619] Trial 9 pruned. \n"
     ]
    },
    {
     "name": "stdout",
     "output_type": "stream",
     "text": [
      "Fold 1:\n",
      "Stop training because you reached max_epochs = 70 with best_epoch = 63 and best_valid_accuracy = 0.97156\n",
      "\n",
      "Fold 2:\n",
      "\n",
      "Early stopping occurred at epoch 67 with best_epoch = 57 and best_valid_accuracy = 0.97334\n",
      "\n",
      "Fold 3:\n",
      "Stop training because you reached max_epochs = 70 with best_epoch = 67 and best_valid_accuracy = 0.97445\n",
      "\n",
      "Fold 4:\n",
      "\n",
      "Early stopping occurred at epoch 68 with best_epoch = 58 and best_valid_accuracy = 0.97146\n"
     ]
    },
    {
     "name": "stderr",
     "output_type": "stream",
     "text": [
      "[I 2024-09-16 16:54:01,496] Trial 10 finished with value: 0.9727033132530121 and parameters: {'n_d': 84, 'n_a': 120, 'n_steps': 5, 'n_shared': 4, 'cat_emb_dim': 6, 'n_independent': 10, 'gamma': 1.853288802409713, 'momentum': 0.14998917861928468, 'lr': 0.006623167637716698, 'mask_type': 'sparsemax', 'lambda_sparse': 0.00010628547295720785, 'patience': 10, 'max_epochs': 70, 'virtual_batch_size': 256, 'batch_size': 1024}. Best is trial 10 with value: 0.9727033132530121.\n"
     ]
    },
    {
     "name": "stdout",
     "output_type": "stream",
     "text": [
      "\n",
      "Fold 1:\n",
      "Stop training because you reached max_epochs = 70 with best_epoch = 65 and best_valid_accuracy = 0.26529\n"
     ]
    },
    {
     "name": "stderr",
     "output_type": "stream",
     "text": [
      "[I 2024-09-16 16:58:28,749] Trial 11 pruned. \n"
     ]
    },
    {
     "name": "stdout",
     "output_type": "stream",
     "text": [
      "Fold 1:\n",
      "\n",
      "Early stopping occurred at epoch 33 with best_epoch = 23 and best_valid_accuracy = 0.96591\n",
      "\n",
      "Fold 2:\n",
      "\n",
      "Early stopping occurred at epoch 59 with best_epoch = 49 and best_valid_accuracy = 0.97194\n",
      "\n",
      "Fold 3:\n",
      "\n",
      "Early stopping occurred at epoch 36 with best_epoch = 26 and best_valid_accuracy = 0.97038\n",
      "\n",
      "Fold 4:\n",
      "\n",
      "Early stopping occurred at epoch 53 with best_epoch = 43 and best_valid_accuracy = 0.97016\n"
     ]
    },
    {
     "name": "stderr",
     "output_type": "stream",
     "text": [
      "[I 2024-09-16 17:10:28,959] Trial 12 finished with value: 0.9695971385542168 and parameters: {'n_d': 80, 'n_a': 108, 'n_steps': 5, 'n_shared': 4, 'cat_emb_dim': 4, 'n_independent': 10, 'gamma': 1.880579402658281, 'momentum': 0.20593937276265656, 'lr': 0.08747232513616761, 'mask_type': 'sparsemax', 'lambda_sparse': 0.0004305292705745952, 'patience': 10, 'max_epochs': 60, 'virtual_batch_size': 256, 'batch_size': 1024}. Best is trial 10 with value: 0.9727033132530121.\n"
     ]
    },
    {
     "name": "stdout",
     "output_type": "stream",
     "text": [
      "\n",
      "Fold 1:\n",
      "\n",
      "Early stopping occurred at epoch 50 with best_epoch = 40 and best_valid_accuracy = 0.9685\n",
      "\n",
      "Fold 2:\n",
      "\n",
      "Early stopping occurred at epoch 47 with best_epoch = 37 and best_valid_accuracy = 0.97234\n",
      "\n",
      "Fold 3:\n",
      "\n",
      "Early stopping occurred at epoch 48 with best_epoch = 38 and best_valid_accuracy = 0.97339\n",
      "\n",
      "Fold 4:\n",
      "\n",
      "Early stopping occurred at epoch 56 with best_epoch = 46 and best_valid_accuracy = 0.97179\n"
     ]
    },
    {
     "name": "stderr",
     "output_type": "stream",
     "text": [
      "[I 2024-09-16 17:20:47,539] Trial 13 finished with value: 0.9715047690763052 and parameters: {'n_d': 92, 'n_a': 104, 'n_steps': 5, 'n_shared': 8, 'cat_emb_dim': 6, 'n_independent': 3, 'gamma': 1.7155470294961188, 'momentum': 0.13477792718121923, 'lr': 0.09807163905860963, 'mask_type': 'sparsemax', 'lambda_sparse': 0.0002955516314109987, 'patience': 10, 'max_epochs': 70, 'virtual_batch_size': 256, 'batch_size': 1280}. Best is trial 10 with value: 0.9727033132530121.\n"
     ]
    },
    {
     "name": "stdout",
     "output_type": "stream",
     "text": [
      "\n",
      "Fold 1:\n",
      "\n",
      "Early stopping occurred at epoch 49 with best_epoch = 44 and best_valid_accuracy = 0.96975\n",
      "\n",
      "Fold 2:\n",
      "\n",
      "Early stopping occurred at epoch 33 with best_epoch = 28 and best_valid_accuracy = 0.9433\n",
      "\n",
      "Fold 3:\n",
      "\n",
      "Early stopping occurred at epoch 36 with best_epoch = 31 and best_valid_accuracy = 0.96968\n"
     ]
    },
    {
     "name": "stderr",
     "output_type": "stream",
     "text": [
      "[I 2024-09-16 17:30:39,636] Trial 14 pruned. \n"
     ]
    },
    {
     "name": "stdout",
     "output_type": "stream",
     "text": [
      "Fold 1:\n",
      "Stop training because you reached max_epochs = 75 with best_epoch = 65 and best_valid_accuracy = 0.9695\n",
      "\n",
      "Fold 2:\n",
      "Stop training because you reached max_epochs = 75 with best_epoch = 65 and best_valid_accuracy = 0.96857\n",
      "\n",
      "Fold 3:\n",
      "\n",
      "Early stopping occurred at epoch 55 with best_epoch = 45 and best_valid_accuracy = 0.96885\n"
     ]
    },
    {
     "name": "stderr",
     "output_type": "stream",
     "text": [
      "[I 2024-09-16 17:41:15,039] Trial 15 pruned. \n"
     ]
    },
    {
     "name": "stdout",
     "output_type": "stream",
     "text": [
      "Fold 1:\n",
      "\n",
      "Early stopping occurred at epoch 58 with best_epoch = 48 and best_valid_accuracy = 0.96368\n"
     ]
    },
    {
     "name": "stderr",
     "output_type": "stream",
     "text": [
      "[I 2024-09-16 17:46:49,809] Trial 16 pruned. \n"
     ]
    },
    {
     "name": "stdout",
     "output_type": "stream",
     "text": [
      "Fold 1:\n",
      "\n",
      "Early stopping occurred at epoch 13 with best_epoch = 8 and best_valid_accuracy = 0.72846\n"
     ]
    },
    {
     "name": "stderr",
     "output_type": "stream",
     "text": [
      "[I 2024-09-16 17:47:41,152] Trial 17 pruned. \n"
     ]
    },
    {
     "name": "stdout",
     "output_type": "stream",
     "text": [
      "Fold 1:\n",
      "Stop training because you reached max_epochs = 60 with best_epoch = 56 and best_valid_accuracy = 0.97156\n",
      "\n",
      "Fold 2:\n",
      "\n",
      "Early stopping occurred at epoch 42 with best_epoch = 32 and best_valid_accuracy = 0.97292\n",
      "\n",
      "Fold 3:\n",
      "Stop training because you reached max_epochs = 60 with best_epoch = 58 and best_valid_accuracy = 0.97392\n",
      "\n",
      "Fold 4:\n",
      "\n",
      "Early stopping occurred at epoch 42 with best_epoch = 32 and best_valid_accuracy = 0.97204\n"
     ]
    },
    {
     "name": "stderr",
     "output_type": "stream",
     "text": [
      "[I 2024-09-16 18:01:34,265] Trial 18 finished with value: 0.9726091867469878 and parameters: {'n_d': 92, 'n_a': 40, 'n_steps': 7, 'n_shared': 3, 'cat_emb_dim': 6, 'n_independent': 9, 'gamma': 1.5315331031310473, 'momentum': 0.18608193248702498, 'lr': 0.05788787438393758, 'mask_type': 'entmax', 'lambda_sparse': 0.0003074227316181092, 'patience': 10, 'max_epochs': 60, 'virtual_batch_size': 256, 'batch_size': 1280}. Best is trial 10 with value: 0.9727033132530121.\n"
     ]
    },
    {
     "name": "stdout",
     "output_type": "stream",
     "text": [
      "\n",
      "Fold 1:\n",
      "Stop training because you reached max_epochs = 5 with best_epoch = 4 and best_valid_accuracy = 0.39365\n"
     ]
    },
    {
     "name": "stderr",
     "output_type": "stream",
     "text": [
      "[I 2024-09-16 18:01:46,721] Trial 19 pruned. \n"
     ]
    },
    {
     "name": "stdout",
     "output_type": "stream",
     "text": [
      "Fold 1:\n",
      "Stop training because you reached max_epochs = 40 with best_epoch = 39 and best_valid_accuracy = 0.97176\n",
      "\n",
      "Fold 2:\n",
      "Stop training because you reached max_epochs = 40 with best_epoch = 38 and best_valid_accuracy = 0.97154\n",
      "\n",
      "Fold 3:\n",
      "Stop training because you reached max_epochs = 40 with best_epoch = 37 and best_valid_accuracy = 0.9698\n"
     ]
    },
    {
     "name": "stderr",
     "output_type": "stream",
     "text": [
      "[I 2024-09-16 18:08:49,552] Trial 20 pruned. \n"
     ]
    },
    {
     "name": "stdout",
     "output_type": "stream",
     "text": [
      "Fold 1:\n",
      "Stop training because you reached max_epochs = 60 with best_epoch = 54 and best_valid_accuracy = 0.97151\n",
      "\n",
      "Fold 2:\n",
      "Stop training because you reached max_epochs = 60 with best_epoch = 58 and best_valid_accuracy = 0.97051\n",
      "\n",
      "Fold 3:\n",
      "Stop training because you reached max_epochs = 60 with best_epoch = 55 and best_valid_accuracy = 0.97304\n",
      "\n",
      "Fold 4:\n",
      "\n",
      "Early stopping occurred at epoch 39 with best_epoch = 29 and best_valid_accuracy = 0.97068\n"
     ]
    },
    {
     "name": "stderr",
     "output_type": "stream",
     "text": [
      "[I 2024-09-16 18:20:30,916] Trial 21 finished with value: 0.9714357429718876 and parameters: {'n_d': 92, 'n_a': 36, 'n_steps': 5, 'n_shared': 4, 'cat_emb_dim': 6, 'n_independent': 8, 'gamma': 1.8547895346848406, 'momentum': 0.17155485219878822, 'lr': 0.12094030674310081, 'mask_type': 'entmax', 'lambda_sparse': 0.0003133664955771212, 'patience': 10, 'max_epochs': 60, 'virtual_batch_size': 256, 'batch_size': 1280}. Best is trial 10 with value: 0.9727033132530121.\n"
     ]
    },
    {
     "name": "stdout",
     "output_type": "stream",
     "text": [
      "\n",
      "Fold 1:\n",
      "\n",
      "Early stopping occurred at epoch 44 with best_epoch = 34 and best_valid_accuracy = 0.97108\n",
      "\n",
      "Fold 2:\n",
      "\n",
      "Early stopping occurred at epoch 51 with best_epoch = 41 and best_valid_accuracy = 0.97435\n",
      "\n",
      "Fold 3:\n",
      "Stop training because you reached max_epochs = 70 with best_epoch = 60 and best_valid_accuracy = 0.9761\n",
      "\n",
      "Fold 4:\n",
      "\n",
      "Early stopping occurred at epoch 48 with best_epoch = 38 and best_valid_accuracy = 0.97282\n"
     ]
    },
    {
     "name": "stderr",
     "output_type": "stream",
     "text": [
      "[I 2024-09-16 18:34:26,383] Trial 22 finished with value: 0.9735881024096386 and parameters: {'n_d': 84, 'n_a': 116, 'n_steps': 6, 'n_shared': 3, 'cat_emb_dim': 6, 'n_independent': 10, 'gamma': 1.6327755618290671, 'momentum': 0.11704862594040016, 'lr': 0.05287805567998923, 'mask_type': 'entmax', 'lambda_sparse': 0.0002036445040444427, 'patience': 10, 'max_epochs': 70, 'virtual_batch_size': 256, 'batch_size': 1280}. Best is trial 22 with value: 0.9735881024096386.\n"
     ]
    },
    {
     "name": "stdout",
     "output_type": "stream",
     "text": [
      "\n",
      "Fold 1:\n",
      "\n",
      "Early stopping occurred at epoch 61 with best_epoch = 51 and best_valid_accuracy = 0.97231\n",
      "\n",
      "Fold 2:\n",
      "\n",
      "Early stopping occurred at epoch 63 with best_epoch = 53 and best_valid_accuracy = 0.97492\n",
      "\n",
      "Fold 3:\n",
      "\n",
      "Early stopping occurred at epoch 60 with best_epoch = 50 and best_valid_accuracy = 0.9752\n",
      "\n",
      "Fold 4:\n",
      "\n",
      "Early stopping occurred at epoch 73 with best_epoch = 63 and best_valid_accuracy = 0.97492\n"
     ]
    },
    {
     "name": "stderr",
     "output_type": "stream",
     "text": [
      "[I 2024-09-16 18:51:11,456] Trial 23 finished with value: 0.9743411144578314 and parameters: {'n_d': 84, 'n_a': 116, 'n_steps': 6, 'n_shared': 3, 'cat_emb_dim': 5, 'n_independent': 10, 'gamma': 1.6057723381799163, 'momentum': 0.08716766751622744, 'lr': 0.04882552785120693, 'mask_type': 'entmax', 'lambda_sparse': 0.00019007662223623364, 'patience': 10, 'max_epochs': 80, 'virtual_batch_size': 256, 'batch_size': 1280}. Best is trial 23 with value: 0.9743411144578314.\n"
     ]
    },
    {
     "name": "stdout",
     "output_type": "stream",
     "text": [
      "\n",
      "Fold 1:\n",
      "\n",
      "Early stopping occurred at epoch 64 with best_epoch = 49 and best_valid_accuracy = 0.96734\n",
      "\n",
      "Fold 2:\n",
      "\n",
      "Early stopping occurred at epoch 69 with best_epoch = 54 and best_valid_accuracy = 0.97086\n",
      "\n",
      "Fold 3:\n",
      "\n",
      "Early stopping occurred at epoch 50 with best_epoch = 35 and best_valid_accuracy = 0.9683\n"
     ]
    },
    {
     "name": "stderr",
     "output_type": "stream",
     "text": [
      "[I 2024-09-16 19:06:43,314] Trial 24 pruned. \n"
     ]
    },
    {
     "name": "stdout",
     "output_type": "stream",
     "text": [
      "Fold 1:\n",
      "\n",
      "Early stopping occurred at epoch 51 with best_epoch = 41 and best_valid_accuracy = 0.96908\n",
      "\n",
      "Fold 2:\n",
      "\n",
      "Early stopping occurred at epoch 77 with best_epoch = 67 and best_valid_accuracy = 0.97462\n",
      "\n",
      "Fold 3:\n",
      "\n",
      "Early stopping occurred at epoch 40 with best_epoch = 30 and best_valid_accuracy = 0.96885\n"
     ]
    },
    {
     "name": "stderr",
     "output_type": "stream",
     "text": [
      "[I 2024-09-16 19:12:42,204] Trial 25 pruned. \n"
     ]
    },
    {
     "name": "stdout",
     "output_type": "stream",
     "text": [
      "Fold 1:\n",
      "\n",
      "Early stopping occurred at epoch 46 with best_epoch = 41 and best_valid_accuracy = 0.96878\n",
      "\n",
      "Fold 2:\n",
      "\n",
      "Early stopping occurred at epoch 31 with best_epoch = 26 and best_valid_accuracy = 0.96755\n",
      "\n",
      "Fold 3:\n",
      "\n",
      "Early stopping occurred at epoch 47 with best_epoch = 42 and best_valid_accuracy = 0.97277\n"
     ]
    },
    {
     "name": "stderr",
     "output_type": "stream",
     "text": [
      "[I 2024-09-16 19:22:22,170] Trial 26 pruned. \n"
     ]
    },
    {
     "name": "stdout",
     "output_type": "stream",
     "text": [
      "Fold 1:\n",
      "\n",
      "Early stopping occurred at epoch 37 with best_epoch = 27 and best_valid_accuracy = 0.25201\n"
     ]
    },
    {
     "name": "stderr",
     "output_type": "stream",
     "text": [
      "[I 2024-09-16 19:23:32,827] Trial 27 pruned. \n"
     ]
    },
    {
     "name": "stdout",
     "output_type": "stream",
     "text": [
      "Fold 1:\n",
      "Stop training because you reached max_epochs = 65 with best_epoch = 62 and best_valid_accuracy = 0.97144\n",
      "\n",
      "Fold 2:\n",
      "Stop training because you reached max_epochs = 65 with best_epoch = 51 and best_valid_accuracy = 0.97257\n",
      "\n",
      "Fold 3:\n",
      "\n",
      "Early stopping occurred at epoch 55 with best_epoch = 40 and best_valid_accuracy = 0.97457\n",
      "\n",
      "Fold 4:\n",
      "Stop training because you reached max_epochs = 65 with best_epoch = 61 and best_valid_accuracy = 0.9739\n"
     ]
    },
    {
     "name": "stderr",
     "output_type": "stream",
     "text": [
      "[I 2024-09-16 19:33:34,085] Trial 28 finished with value: 0.9731174698795182 and parameters: {'n_d': 68, 'n_a': 88, 'n_steps': 4, 'n_shared': 5, 'cat_emb_dim': 5, 'n_independent': 10, 'gamma': 1.6802644668327553, 'momentum': 0.16256703917641263, 'lr': 0.06206587701834522, 'mask_type': 'entmax', 'lambda_sparse': 0.00010036759568806716, 'patience': 15, 'max_epochs': 65, 'virtual_batch_size': 512, 'batch_size': 1536}. Best is trial 23 with value: 0.9743411144578314.\n"
     ]
    },
    {
     "name": "stdout",
     "output_type": "stream",
     "text": [
      "\n",
      "Fold 1:\n",
      "Stop training because you reached max_epochs = 50 with best_epoch = 46 and best_valid_accuracy = 0.96707\n"
     ]
    },
    {
     "name": "stderr",
     "output_type": "stream",
     "text": [
      "[I 2024-09-16 19:34:59,698] Trial 29 pruned. \n"
     ]
    },
    {
     "name": "stdout",
     "output_type": "stream",
     "text": [
      "Fold 1:\n",
      "Stop training because you reached max_epochs = 65 with best_epoch = 64 and best_valid_accuracy = 0.97103\n",
      "\n",
      "Fold 2:\n",
      "\n",
      "Early stopping occurred at epoch 45 with best_epoch = 30 and best_valid_accuracy = 0.97043\n",
      "\n",
      "Fold 3:\n",
      "Stop training because you reached max_epochs = 65 with best_epoch = 60 and best_valid_accuracy = 0.97262\n"
     ]
    },
    {
     "name": "stderr",
     "output_type": "stream",
     "text": [
      "[I 2024-09-16 19:40:08,927] Trial 30 pruned. \n"
     ]
    },
    {
     "name": "stdout",
     "output_type": "stream",
     "text": [
      "Fold 1:\n",
      "Stop training because you reached max_epochs = 80 with best_epoch = 70 and best_valid_accuracy = 0.9739\n",
      "\n",
      "Fold 2:\n",
      "\n",
      "Early stopping occurred at epoch 47 with best_epoch = 37 and best_valid_accuracy = 0.97244\n",
      "\n",
      "Fold 3:\n",
      "\n",
      "Early stopping occurred at epoch 72 with best_epoch = 62 and best_valid_accuracy = 0.97555\n",
      "\n",
      "Fold 4:\n",
      "\n",
      "Early stopping occurred at epoch 65 with best_epoch = 55 and best_valid_accuracy = 0.97432\n"
     ]
    },
    {
     "name": "stderr",
     "output_type": "stream",
     "text": [
      "[I 2024-09-16 19:51:52,287] Trial 31 finished with value: 0.9740524598393575 and parameters: {'n_d': 84, 'n_a': 100, 'n_steps': 5, 'n_shared': 4, 'cat_emb_dim': 5, 'n_independent': 10, 'gamma': 1.6831409723888213, 'momentum': 0.1641302766691196, 'lr': 0.0296371728383408, 'mask_type': 'entmax', 'lambda_sparse': 0.00010938791968632871, 'patience': 10, 'max_epochs': 80, 'virtual_batch_size': 512, 'batch_size': 1536}. Best is trial 23 with value: 0.9743411144578314.\n"
     ]
    },
    {
     "name": "stdout",
     "output_type": "stream",
     "text": [
      "\n",
      "Fold 1:\n",
      "Stop training because you reached max_epochs = 85 with best_epoch = 83 and best_valid_accuracy = 0.97347\n",
      "\n",
      "Fold 2:\n",
      "\n",
      "Early stopping occurred at epoch 83 with best_epoch = 68 and best_valid_accuracy = 0.97475\n",
      "\n",
      "Fold 3:\n",
      "\n",
      "Early stopping occurred at epoch 62 with best_epoch = 47 and best_valid_accuracy = 0.97641\n",
      "\n",
      "Fold 4:\n",
      "\n",
      "Early stopping occurred at epoch 78 with best_epoch = 63 and best_valid_accuracy = 0.97374\n"
     ]
    },
    {
     "name": "stderr",
     "output_type": "stream",
     "text": [
      "[I 2024-09-16 20:07:46,383] Trial 32 finished with value: 0.9745921184738956 and parameters: {'n_d': 68, 'n_a': 100, 'n_steps': 6, 'n_shared': 5, 'cat_emb_dim': 5, 'n_independent': 10, 'gamma': 1.6635369043626342, 'momentum': 0.16814909509604692, 'lr': 0.038824952346884184, 'mask_type': 'entmax', 'lambda_sparse': 0.00024202410724461808, 'patience': 15, 'max_epochs': 85, 'virtual_batch_size': 512, 'batch_size': 1536}. Best is trial 32 with value: 0.9745921184738956.\n"
     ]
    },
    {
     "name": "stdout",
     "output_type": "stream",
     "text": [
      "\n",
      "Fold 1:\n",
      "\n",
      "Early stopping occurred at epoch 48 with best_epoch = 33 and best_valid_accuracy = 0.97144\n",
      "\n",
      "Fold 2:\n",
      "Stop training because you reached max_epochs = 95 with best_epoch = 86 and best_valid_accuracy = 0.97608\n",
      "\n",
      "Fold 3:\n",
      "Stop training because you reached max_epochs = 95 with best_epoch = 88 and best_valid_accuracy = 0.9762\n",
      "\n",
      "Fold 4:\n",
      "\n",
      "Early stopping occurred at epoch 68 with best_epoch = 53 and best_valid_accuracy = 0.97528\n"
     ]
    },
    {
     "name": "stderr",
     "output_type": "stream",
     "text": [
      "[I 2024-09-16 20:22:16,465] Trial 33 finished with value: 0.9747489959839357 and parameters: {'n_d': 76, 'n_a': 100, 'n_steps': 7, 'n_shared': 2, 'cat_emb_dim': 4, 'n_independent': 9, 'gamma': 1.4930188651397647, 'momentum': 0.11563318477143347, 'lr': 0.031209630015564788, 'mask_type': 'entmax', 'lambda_sparse': 0.0002215857375305975, 'patience': 15, 'max_epochs': 95, 'virtual_batch_size': 512, 'batch_size': 1536}. Best is trial 33 with value: 0.9747489959839357.\n"
     ]
    },
    {
     "name": "stdout",
     "output_type": "stream",
     "text": [
      "\n",
      "Fold 1:\n",
      "\n",
      "Early stopping occurred at epoch 77 with best_epoch = 62 and best_valid_accuracy = 0.97374\n",
      "\n",
      "Fold 2:\n",
      "\n",
      "Early stopping occurred at epoch 52 with best_epoch = 37 and best_valid_accuracy = 0.97447\n",
      "\n",
      "Fold 3:\n",
      "Stop training because you reached max_epochs = 100 with best_epoch = 85 and best_valid_accuracy = 0.97691\n",
      "\n",
      "Fold 4:\n",
      "Stop training because you reached max_epochs = 100 with best_epoch = 90 and best_valid_accuracy = 0.97605\n"
     ]
    },
    {
     "name": "stderr",
     "output_type": "stream",
     "text": [
      "[I 2024-09-16 20:37:08,072] Trial 34 finished with value: 0.9752949297188755 and parameters: {'n_d': 76, 'n_a': 100, 'n_steps': 7, 'n_shared': 1, 'cat_emb_dim': 3, 'n_independent': 9, 'gamma': 1.5070255950895524, 'momentum': 0.39605309535493727, 'lr': 0.022855871252917274, 'mask_type': 'entmax', 'lambda_sparse': 0.00023419118102475516, 'patience': 15, 'max_epochs': 100, 'virtual_batch_size': 512, 'batch_size': 1536}. Best is trial 34 with value: 0.9752949297188755.\n"
     ]
    },
    {
     "name": "stdout",
     "output_type": "stream",
     "text": [
      "\n",
      "Fold 1:\n",
      "\n",
      "Early stopping occurred at epoch 97 with best_epoch = 77 and best_valid_accuracy = 0.97322\n",
      "\n",
      "Fold 2:\n",
      "\n",
      "Early stopping occurred at epoch 73 with best_epoch = 53 and best_valid_accuracy = 0.97412\n",
      "\n",
      "Fold 3:\n",
      "\n",
      "Early stopping occurred at epoch 88 with best_epoch = 68 and best_valid_accuracy = 0.97603\n",
      "\n",
      "Fold 4:\n",
      "\n",
      "Early stopping occurred at epoch 90 with best_epoch = 70 and best_valid_accuracy = 0.97334\n"
     ]
    },
    {
     "name": "stderr",
     "output_type": "stream",
     "text": [
      "[I 2024-09-16 20:50:08,901] Trial 35 finished with value: 0.9741779618473897 and parameters: {'n_d': 76, 'n_a': 96, 'n_steps': 7, 'n_shared': 1, 'cat_emb_dim': 2, 'n_independent': 9, 'gamma': 1.487725864808167, 'momentum': 0.33741701985096517, 'lr': 0.0823312580006319, 'mask_type': 'entmax', 'lambda_sparse': 0.0005214347998177532, 'patience': 20, 'max_epochs': 100, 'virtual_batch_size': 512, 'batch_size': 2560}. Best is trial 34 with value: 0.9752949297188755.\n"
     ]
    },
    {
     "name": "stdout",
     "output_type": "stream",
     "text": [
      "\n",
      "Fold 1:\n",
      "\n",
      "Early stopping occurred at epoch 50 with best_epoch = 35 and best_valid_accuracy = 0.77329\n"
     ]
    },
    {
     "name": "stderr",
     "output_type": "stream",
     "text": [
      "[I 2024-09-16 20:52:35,044] Trial 36 pruned. \n"
     ]
    },
    {
     "name": "stdout",
     "output_type": "stream",
     "text": [
      "Fold 1:\n",
      "Stop training because you reached max_epochs = 90 with best_epoch = 79 and best_valid_accuracy = 0.97259\n",
      "\n",
      "Fold 2:\n",
      "\n",
      "Early stopping occurred at epoch 65 with best_epoch = 50 and best_valid_accuracy = 0.97334\n",
      "\n",
      "Fold 3:\n",
      "\n",
      "Early stopping occurred at epoch 83 with best_epoch = 68 and best_valid_accuracy = 0.9746\n",
      "\n",
      "Fold 4:\n",
      "\n",
      "Early stopping occurred at epoch 64 with best_epoch = 49 and best_valid_accuracy = 0.97299\n"
     ]
    },
    {
     "name": "stderr",
     "output_type": "stream",
     "text": [
      "[I 2024-09-16 21:04:04,242] Trial 37 finished with value: 0.9733810240963856 and parameters: {'n_d': 120, 'n_a': 108, 'n_steps': 8, 'n_shared': 1, 'cat_emb_dim': 3, 'n_independent': 6, 'gamma': 1.563610832793405, 'momentum': 0.07181437891563625, 'lr': 0.11393001389955539, 'mask_type': 'entmax', 'lambda_sparse': 0.000744012133068562, 'patience': 15, 'max_epochs': 90, 'virtual_batch_size': 512, 'batch_size': 2048}. Best is trial 34 with value: 0.9752949297188755.\n"
     ]
    },
    {
     "name": "stdout",
     "output_type": "stream",
     "text": [
      "\n",
      "Fold 1:\n",
      "Stop training because you reached max_epochs = 100 with best_epoch = 92 and best_valid_accuracy = 0.97272\n",
      "\n",
      "Fold 2:\n",
      "\n",
      "Early stopping occurred at epoch 90 with best_epoch = 75 and best_valid_accuracy = 0.9751\n",
      "\n",
      "Fold 3:\n",
      "\n",
      "Early stopping occurred at epoch 70 with best_epoch = 55 and best_valid_accuracy = 0.97445\n",
      "\n",
      "Fold 4:\n",
      "Stop training because you reached max_epochs = 100 with best_epoch = 86 and best_valid_accuracy = 0.97495\n"
     ]
    },
    {
     "name": "stderr",
     "output_type": "stream",
     "text": [
      "[I 2024-09-16 21:24:29,362] Trial 38 finished with value: 0.9743034638554217 and parameters: {'n_d': 52, 'n_a': 92, 'n_steps': 9, 'n_shared': 2, 'cat_emb_dim': 1, 'n_independent': 9, 'gamma': 1.4711538832514992, 'momentum': 0.3132792821847047, 'lr': 0.02710442953412437, 'mask_type': 'entmax', 'lambda_sparse': 0.0004683867485084321, 'patience': 15, 'max_epochs': 100, 'virtual_batch_size': 512, 'batch_size': 1536}. Best is trial 34 with value: 0.9752949297188755.\n"
     ]
    },
    {
     "name": "stdout",
     "output_type": "stream",
     "text": [
      "\n",
      "Fold 1:\n",
      "Stop training because you reached max_epochs = 90 with best_epoch = 80 and best_valid_accuracy = 0.97131\n",
      "\n",
      "Fold 2:\n",
      "\n",
      "Early stopping occurred at epoch 49 with best_epoch = 29 and best_valid_accuracy = 0.9688\n",
      "\n",
      "Fold 3:\n",
      "\n",
      "Early stopping occurred at epoch 77 with best_epoch = 57 and best_valid_accuracy = 0.97347\n"
     ]
    },
    {
     "name": "stderr",
     "output_type": "stream",
     "text": [
      "[I 2024-09-16 21:33:36,266] Trial 39 pruned. \n"
     ]
    },
    {
     "name": "stdout",
     "output_type": "stream",
     "text": [
      "Fold 1:\n",
      "\n",
      "Early stopping occurred at epoch 81 with best_epoch = 66 and best_valid_accuracy = 0.97495\n",
      "\n",
      "Fold 2:\n",
      "\n",
      "Early stopping occurred at epoch 55 with best_epoch = 40 and best_valid_accuracy = 0.97427\n",
      "\n",
      "Fold 3:\n",
      "Stop training because you reached max_epochs = 95 with best_epoch = 94 and best_valid_accuracy = 0.9756\n",
      "\n",
      "Fold 4:\n",
      "Stop training because you reached max_epochs = 95 with best_epoch = 80 and best_valid_accuracy = 0.97505\n"
     ]
    },
    {
     "name": "stderr",
     "output_type": "stream",
     "text": [
      "[I 2024-09-16 21:45:07,774] Trial 40 finished with value: 0.9749686244979919 and parameters: {'n_d': 76, 'n_a': 68, 'n_steps': 7, 'n_shared': 1, 'cat_emb_dim': 4, 'n_independent': 8, 'gamma': 1.3046055461427803, 'momentum': 0.11851762577461937, 'lr': 0.02839835771382397, 'mask_type': 'entmax', 'lambda_sparse': 0.00038227127267571545, 'patience': 15, 'max_epochs': 95, 'virtual_batch_size': 512, 'batch_size': 2560}. Best is trial 34 with value: 0.9752949297188755.\n"
     ]
    },
    {
     "name": "stdout",
     "output_type": "stream",
     "text": [
      "\n",
      "Fold 1:\n",
      "Stop training because you reached max_epochs = 95 with best_epoch = 82 and best_valid_accuracy = 0.97553\n",
      "\n",
      "Fold 2:\n",
      "Stop training because you reached max_epochs = 95 with best_epoch = 81 and best_valid_accuracy = 0.97475\n",
      "\n",
      "Fold 3:\n",
      "Stop training because you reached max_epochs = 95 with best_epoch = 91 and best_valid_accuracy = 0.97708\n",
      "\n",
      "Fold 4:\n",
      "Stop training because you reached max_epochs = 95 with best_epoch = 81 and best_valid_accuracy = 0.97465\n"
     ]
    },
    {
     "name": "stderr",
     "output_type": "stream",
     "text": [
      "[I 2024-09-16 21:58:23,426] Trial 41 finished with value: 0.9755020080321285 and parameters: {'n_d': 76, 'n_a': 68, 'n_steps': 7, 'n_shared': 1, 'cat_emb_dim': 4, 'n_independent': 8, 'gamma': 1.2378640594404067, 'momentum': 0.12355299746820647, 'lr': 0.020611634339885748, 'mask_type': 'entmax', 'lambda_sparse': 0.0003746157396127232, 'patience': 15, 'max_epochs': 95, 'virtual_batch_size': 512, 'batch_size': 2560}. Best is trial 41 with value: 0.9755020080321285.\n"
     ]
    },
    {
     "name": "stdout",
     "output_type": "stream",
     "text": [
      "\n",
      "Fold 1:\n",
      "Stop training because you reached max_epochs = 95 with best_epoch = 88 and best_valid_accuracy = 0.97272\n",
      "\n",
      "Fold 2:\n",
      "\n",
      "Early stopping occurred at epoch 80 with best_epoch = 65 and best_valid_accuracy = 0.97362\n",
      "\n",
      "Fold 3:\n",
      "Stop training because you reached max_epochs = 95 with best_epoch = 90 and best_valid_accuracy = 0.97397\n"
     ]
    },
    {
     "name": "stderr",
     "output_type": "stream",
     "text": [
      "[I 2024-09-16 22:07:25,612] Trial 42 pruned. \n"
     ]
    },
    {
     "name": "stdout",
     "output_type": "stream",
     "text": [
      "Fold 1:\n",
      "\n",
      "Early stopping occurred at epoch 88 with best_epoch = 73 and best_valid_accuracy = 0.97108\n",
      "\n",
      "Fold 2:\n",
      "Stop training because you reached max_epochs = 100 with best_epoch = 97 and best_valid_accuracy = 0.97578\n",
      "\n",
      "Fold 3:\n",
      "\n",
      "Early stopping occurred at epoch 66 with best_epoch = 51 and best_valid_accuracy = 0.97457\n"
     ]
    },
    {
     "name": "stderr",
     "output_type": "stream",
     "text": [
      "[I 2024-09-16 22:16:05,778] Trial 43 pruned. \n"
     ]
    },
    {
     "name": "stdout",
     "output_type": "stream",
     "text": [
      "Fold 1:\n",
      "Stop training because you reached max_epochs = 90 with best_epoch = 82 and best_valid_accuracy = 0.97096\n"
     ]
    },
    {
     "name": "stderr",
     "output_type": "stream",
     "text": [
      "[I 2024-09-16 22:19:21,358] Trial 44 pruned. \n"
     ]
    },
    {
     "name": "stdout",
     "output_type": "stream",
     "text": [
      "Fold 1:\n",
      "\n",
      "Early stopping occurred at epoch 80 with best_epoch = 65 and best_valid_accuracy = 0.97118\n",
      "\n",
      "Fold 2:\n",
      "\n",
      "Early stopping occurred at epoch 85 with best_epoch = 70 and best_valid_accuracy = 0.9747\n",
      "\n",
      "Fold 3:\n",
      "\n",
      "Early stopping occurred at epoch 77 with best_epoch = 62 and best_valid_accuracy = 0.97485\n",
      "\n",
      "Fold 4:\n",
      "Stop training because you reached max_epochs = 100 with best_epoch = 90 and best_valid_accuracy = 0.9742\n"
     ]
    },
    {
     "name": "stderr",
     "output_type": "stream",
     "text": [
      "[I 2024-09-16 22:31:07,822] Trial 45 finished with value: 0.9737324297188754 and parameters: {'n_d': 76, 'n_a': 76, 'n_steps': 8, 'n_shared': 1, 'cat_emb_dim': 4, 'n_independent': 7, 'gamma': 1.2947045703618723, 'momentum': 0.08610112072171913, 'lr': 0.10476445986797445, 'mask_type': 'entmax', 'lambda_sparse': 0.0033029830506412262, 'patience': 15, 'max_epochs': 100, 'virtual_batch_size': 512, 'batch_size': 3072}. Best is trial 41 with value: 0.9755020080321285.\n"
     ]
    },
    {
     "name": "stdout",
     "output_type": "stream",
     "text": [
      "\n",
      "Fold 1:\n",
      "Stop training because you reached max_epochs = 85 with best_epoch = 81 and best_valid_accuracy = 0.96968\n"
     ]
    },
    {
     "name": "stderr",
     "output_type": "stream",
     "text": [
      "[I 2024-09-16 22:35:54,953] Trial 46 pruned. \n"
     ]
    },
    {
     "name": "stdout",
     "output_type": "stream",
     "text": [
      "Fold 1:\n",
      "Stop training because you reached max_epochs = 95 with best_epoch = 94 and best_valid_accuracy = 0.96529\n"
     ]
    },
    {
     "name": "stderr",
     "output_type": "stream",
     "text": [
      "[I 2024-09-16 22:39:16,706] Trial 47 pruned. \n"
     ]
    },
    {
     "name": "stdout",
     "output_type": "stream",
     "text": [
      "Fold 1:\n",
      "\n",
      "Early stopping occurred at epoch 39 with best_epoch = 24 and best_valid_accuracy = 0.97179\n",
      "\n",
      "Fold 2:\n",
      "\n",
      "Early stopping occurred at epoch 57 with best_epoch = 42 and best_valid_accuracy = 0.97422\n",
      "\n",
      "Fold 3:\n",
      "\n",
      "Early stopping occurred at epoch 46 with best_epoch = 31 and best_valid_accuracy = 0.97427\n"
     ]
    },
    {
     "name": "stderr",
     "output_type": "stream",
     "text": [
      "[I 2024-09-16 23:05:06,382] Trial 48 pruned. \n"
     ]
    },
    {
     "name": "stdout",
     "output_type": "stream",
     "text": [
      "Fold 1:\n",
      "\n",
      "Early stopping occurred at epoch 69 with best_epoch = 54 and best_valid_accuracy = 0.96498\n",
      "\n",
      "Fold 2:\n",
      "Stop training because you reached max_epochs = 90 with best_epoch = 84 and best_valid_accuracy = 0.97031\n",
      "\n",
      "Fold 3:\n",
      "\n",
      "Early stopping occurred at epoch 81 with best_epoch = 66 and best_valid_accuracy = 0.96448\n"
     ]
    },
    {
     "name": "stderr",
     "output_type": "stream",
     "text": [
      "[I 2024-09-17 20:22:23,514] Trial 49 pruned. \n"
     ]
    },
    {
     "name": "stdout",
     "output_type": "stream",
     "text": [
      "Fold 1:\n",
      "Stop training because you reached max_epochs = 30 with best_epoch = 29 and best_valid_accuracy = 0.63848\n",
      "\n",
      "Fold 2:\n",
      "Stop training because you reached max_epochs = 30 with best_epoch = 25 and best_valid_accuracy = 0.60354\n",
      "\n",
      "Fold 3:\n",
      "Stop training because you reached max_epochs = 30 with best_epoch = 20 and best_valid_accuracy = 0.58692\n"
     ]
    },
    {
     "name": "stderr",
     "output_type": "stream",
     "text": [
      "[I 2024-09-17 20:25:21,783] Trial 50 pruned. \n"
     ]
    },
    {
     "name": "stdout",
     "output_type": "stream",
     "text": [
      "Fold 1:\n",
      "\n",
      "Early stopping occurred at epoch 64 with best_epoch = 49 and best_valid_accuracy = 0.96995\n"
     ]
    },
    {
     "name": "stderr",
     "output_type": "stream",
     "text": [
      "[I 2024-09-17 20:28:21,081] Trial 51 pruned. \n"
     ]
    },
    {
     "name": "stdout",
     "output_type": "stream",
     "text": [
      "Fold 1:\n",
      "Stop training because you reached max_epochs = 100 with best_epoch = 90 and best_valid_accuracy = 0.97289\n",
      "\n",
      "Fold 2:\n",
      "\n",
      "Early stopping occurred at epoch 68 with best_epoch = 53 and best_valid_accuracy = 0.975\n",
      "\n",
      "Fold 3:\n",
      "\n",
      "Early stopping occurred at epoch 89 with best_epoch = 74 and best_valid_accuracy = 0.97658\n",
      "\n",
      "Fold 4:\n",
      "\n",
      "Early stopping occurred at epoch 78 with best_epoch = 63 and best_valid_accuracy = 0.97553\n"
     ]
    },
    {
     "name": "stderr",
     "output_type": "stream",
     "text": [
      "[I 2024-09-17 20:42:12,509] Trial 52 finished with value: 0.9750000000000001 and parameters: {'n_d': 80, 'n_a': 60, 'n_steps': 6, 'n_shared': 3, 'cat_emb_dim': 5, 'n_independent': 9, 'gamma': 1.4171547000337932, 'momentum': 0.0701950041695774, 'lr': 0.02071673442151916, 'mask_type': 'entmax', 'lambda_sparse': 0.0003661774569170727, 'patience': 15, 'max_epochs': 100, 'virtual_batch_size': 512, 'batch_size': 2048}. Best is trial 41 with value: 0.9755020080321285.\n"
     ]
    },
    {
     "name": "stdout",
     "output_type": "stream",
     "text": [
      "\n",
      "Fold 1:\n",
      "Stop training because you reached max_epochs = 95 with best_epoch = 93 and best_valid_accuracy = 0.97357\n",
      "\n",
      "Fold 2:\n",
      "Stop training because you reached max_epochs = 95 with best_epoch = 94 and best_valid_accuracy = 0.9752\n",
      "\n",
      "Fold 3:\n",
      "Stop training because you reached max_epochs = 95 with best_epoch = 90 and best_valid_accuracy = 0.97508\n"
     ]
    },
    {
     "name": "stderr",
     "output_type": "stream",
     "text": [
      "[I 2024-09-17 20:54:03,871] Trial 53 pruned. \n"
     ]
    },
    {
     "name": "stdout",
     "output_type": "stream",
     "text": [
      "Fold 1:\n",
      "\n",
      "Early stopping occurred at epoch 67 with best_epoch = 52 and best_valid_accuracy = 0.97111\n",
      "\n",
      "Fold 2:\n",
      "Stop training because you reached max_epochs = 100 with best_epoch = 90 and best_valid_accuracy = 0.97382\n",
      "\n",
      "Fold 3:\n",
      "\n",
      "Early stopping occurred at epoch 75 with best_epoch = 60 and best_valid_accuracy = 0.97442\n"
     ]
    },
    {
     "name": "stderr",
     "output_type": "stream",
     "text": [
      "[I 2024-09-17 21:03:50,825] Trial 54 pruned. \n"
     ]
    },
    {
     "name": "stdout",
     "output_type": "stream",
     "text": [
      "Fold 1:\n",
      "Stop training because you reached max_epochs = 90 with best_epoch = 80 and best_valid_accuracy = 0.22181\n"
     ]
    },
    {
     "name": "stderr",
     "output_type": "stream",
     "text": [
      "[I 2024-09-17 21:07:06,562] Trial 55 pruned. \n"
     ]
    },
    {
     "name": "stdout",
     "output_type": "stream",
     "text": [
      "Fold 1:\n",
      "\n",
      "Early stopping occurred at epoch 58 with best_epoch = 43 and best_valid_accuracy = 0.96559\n"
     ]
    },
    {
     "name": "stderr",
     "output_type": "stream",
     "text": [
      "[I 2024-09-17 21:09:42,429] Trial 56 pruned. \n"
     ]
    },
    {
     "name": "stdout",
     "output_type": "stream",
     "text": [
      "Fold 1:\n",
      "\n",
      "Early stopping occurred at epoch 86 with best_epoch = 71 and best_valid_accuracy = 0.96717\n"
     ]
    },
    {
     "name": "stderr",
     "output_type": "stream",
     "text": [
      "[I 2024-09-17 21:18:17,852] Trial 57 pruned. \n"
     ]
    },
    {
     "name": "stdout",
     "output_type": "stream",
     "text": [
      "Fold 1:\n",
      "Stop training because you reached max_epochs = 85 with best_epoch = 71 and best_valid_accuracy = 0.97191\n",
      "\n",
      "Fold 2:\n",
      "Stop training because you reached max_epochs = 85 with best_epoch = 84 and best_valid_accuracy = 0.9752\n",
      "\n",
      "Fold 3:\n",
      "Stop training because you reached max_epochs = 85 with best_epoch = 79 and best_valid_accuracy = 0.97495\n"
     ]
    },
    {
     "name": "stderr",
     "output_type": "stream",
     "text": [
      "[I 2024-09-17 21:30:22,581] Trial 58 pruned. \n"
     ]
    },
    {
     "name": "stdout",
     "output_type": "stream",
     "text": [
      "Fold 1:\n",
      "Stop training because you reached max_epochs = 75 with best_epoch = 65 and best_valid_accuracy = 0.97307\n",
      "\n",
      "Fold 2:\n",
      "Stop training because you reached max_epochs = 75 with best_epoch = 64 and best_valid_accuracy = 0.97533\n",
      "\n",
      "Fold 3:\n",
      "Stop training because you reached max_epochs = 75 with best_epoch = 60 and best_valid_accuracy = 0.9757\n",
      "\n",
      "Fold 4:\n",
      "Stop training because you reached max_epochs = 75 with best_epoch = 66 and best_valid_accuracy = 0.97497\n"
     ]
    },
    {
     "name": "stderr",
     "output_type": "stream",
     "text": [
      "[I 2024-09-17 21:41:25,624] Trial 59 finished with value: 0.9747678212851406 and parameters: {'n_d': 72, 'n_a': 64, 'n_steps': 5, 'n_shared': 2, 'cat_emb_dim': 7, 'n_independent': 7, 'gamma': 1.2851416596731153, 'momentum': 0.1333773996197859, 'lr': 0.020202479211418937, 'mask_type': 'entmax', 'lambda_sparse': 0.0008943589926570596, 'patience': 20, 'max_epochs': 75, 'virtual_batch_size': 512, 'batch_size': 1536}. Best is trial 41 with value: 0.9755020080321285.\n"
     ]
    },
    {
     "name": "stdout",
     "output_type": "stream",
     "text": [
      "\n",
      "Fold 1:\n",
      "Stop training because you reached max_epochs = 90 with best_epoch = 74 and best_valid_accuracy = 0.97169\n",
      "\n",
      "Fold 2:\n",
      "Stop training because you reached max_epochs = 90 with best_epoch = 82 and best_valid_accuracy = 0.97545\n",
      "\n",
      "Fold 3:\n",
      "\n",
      "Early stopping occurred at epoch 85 with best_epoch = 65 and best_valid_accuracy = 0.97495\n"
     ]
    },
    {
     "name": "stderr",
     "output_type": "stream",
     "text": [
      "[I 2024-09-17 21:47:56,887] Trial 60 pruned. \n"
     ]
    },
    {
     "name": "stdout",
     "output_type": "stream",
     "text": [
      "Fold 1:\n",
      "Stop training because you reached max_epochs = 75 with best_epoch = 72 and best_valid_accuracy = 0.97229\n",
      "\n",
      "Fold 2:\n",
      "Stop training because you reached max_epochs = 75 with best_epoch = 74 and best_valid_accuracy = 0.97465\n",
      "\n",
      "Fold 3:\n",
      "\n",
      "Early stopping occurred at epoch 71 with best_epoch = 51 and best_valid_accuracy = 0.97711\n",
      "\n",
      "Fold 4:\n",
      "\n",
      "Early stopping occurred at epoch 67 with best_epoch = 47 and best_valid_accuracy = 0.97359\n"
     ]
    },
    {
     "name": "stderr",
     "output_type": "stream",
     "text": [
      "[I 2024-09-17 21:58:38,777] Trial 61 finished with value: 0.974410140562249 and parameters: {'n_d': 72, 'n_a': 64, 'n_steps': 6, 'n_shared': 2, 'cat_emb_dim': 7, 'n_independent': 6, 'gamma': 1.3179275735248972, 'momentum': 0.1355432422506757, 'lr': 0.017986049675143976, 'mask_type': 'entmax', 'lambda_sparse': 0.0002599853894754679, 'patience': 20, 'max_epochs': 75, 'virtual_batch_size': 512, 'batch_size': 1536}. Best is trial 41 with value: 0.9755020080321285.\n"
     ]
    },
    {
     "name": "stdout",
     "output_type": "stream",
     "text": [
      "\n",
      "Fold 1:\n",
      "Stop training because you reached max_epochs = 95 with best_epoch = 93 and best_valid_accuracy = 0.97244\n",
      "\n",
      "Fold 2:\n",
      "Stop training because you reached max_epochs = 95 with best_epoch = 93 and best_valid_accuracy = 0.97362\n",
      "\n",
      "Fold 3:\n",
      "Stop training because you reached max_epochs = 95 with best_epoch = 76 and best_valid_accuracy = 0.9759\n",
      "\n",
      "Fold 4:\n",
      "\n",
      "Early stopping occurred at epoch 76 with best_epoch = 56 and best_valid_accuracy = 0.97224\n"
     ]
    },
    {
     "name": "stderr",
     "output_type": "stream",
     "text": [
      "[I 2024-09-17 22:14:15,987] Trial 62 finished with value: 0.9735504518072289 and parameters: {'n_d': 64, 'n_a': 56, 'n_steps': 5, 'n_shared': 7, 'cat_emb_dim': 8, 'n_independent': 7, 'gamma': 1.195077018705573, 'momentum': 0.15263944395736548, 'lr': 0.04026721986919926, 'mask_type': 'entmax', 'lambda_sparse': 0.00042988777228892476, 'patience': 20, 'max_epochs': 95, 'virtual_batch_size': 512, 'batch_size': 1536}. Best is trial 41 with value: 0.9755020080321285.\n"
     ]
    },
    {
     "name": "stdout",
     "output_type": "stream",
     "text": [
      "\n",
      "Fold 1:\n",
      "\n",
      "Early stopping occurred at epoch 72 with best_epoch = 57 and best_valid_accuracy = 0.97309\n",
      "\n",
      "Fold 2:\n",
      "\n",
      "Early stopping occurred at epoch 70 with best_epoch = 55 and best_valid_accuracy = 0.97392\n",
      "\n",
      "Fold 3:\n",
      "Stop training because you reached max_epochs = 85 with best_epoch = 72 and best_valid_accuracy = 0.97648\n",
      "\n",
      "Fold 4:\n",
      "\n",
      "Early stopping occurred at epoch 75 with best_epoch = 60 and best_valid_accuracy = 0.97319\n"
     ]
    },
    {
     "name": "stderr",
     "output_type": "stream",
     "text": [
      "[I 2024-09-17 22:30:04,091] Trial 63 finished with value: 0.974171686746988 and parameters: {'n_d': 80, 'n_a': 72, 'n_steps': 7, 'n_shared': 5, 'cat_emb_dim': 6, 'n_independent': 8, 'gamma': 1.4065111486030626, 'momentum': 0.11762036864214312, 'lr': 0.018907605112024432, 'mask_type': 'entmax', 'lambda_sparse': 0.0005759969544648745, 'patience': 15, 'max_epochs': 85, 'virtual_batch_size': 512, 'batch_size': 1536}. Best is trial 41 with value: 0.9755020080321285.\n"
     ]
    },
    {
     "name": "stdout",
     "output_type": "stream",
     "text": [
      "\n",
      "Fold 1:\n",
      "\n",
      "Early stopping occurred at epoch 79 with best_epoch = 59 and best_valid_accuracy = 0.97327\n",
      "\n",
      "Fold 2:\n",
      "\n",
      "Early stopping occurred at epoch 67 with best_epoch = 47 and best_valid_accuracy = 0.9738\n",
      "\n",
      "Fold 3:\n",
      "\n",
      "Early stopping occurred at epoch 61 with best_epoch = 41 and best_valid_accuracy = 0.97452\n"
     ]
    },
    {
     "name": "stderr",
     "output_type": "stream",
     "text": [
      "[I 2024-09-17 22:38:13,380] Trial 64 pruned. \n"
     ]
    },
    {
     "name": "stdout",
     "output_type": "stream",
     "text": [
      "Fold 1:\n",
      "\n",
      "Early stopping occurred at epoch 55 with best_epoch = 40 and best_valid_accuracy = 0.97118\n"
     ]
    },
    {
     "name": "stderr",
     "output_type": "stream",
     "text": [
      "[I 2024-09-17 22:39:56,513] Trial 65 pruned. \n"
     ]
    },
    {
     "name": "stdout",
     "output_type": "stream",
     "text": [
      "Fold 1:\n",
      "\n",
      "Early stopping occurred at epoch 58 with best_epoch = 43 and best_valid_accuracy = 0.9694\n",
      "\n",
      "Fold 2:\n",
      "\n",
      "Early stopping occurred at epoch 72 with best_epoch = 57 and best_valid_accuracy = 0.97151\n",
      "\n",
      "Fold 3:\n",
      "Stop training because you reached max_epochs = 90 with best_epoch = 82 and best_valid_accuracy = 0.97407\n"
     ]
    },
    {
     "name": "stderr",
     "output_type": "stream",
     "text": [
      "[I 2024-09-17 22:48:52,297] Trial 66 pruned. \n"
     ]
    },
    {
     "name": "stdout",
     "output_type": "stream",
     "text": [
      "Fold 1:\n",
      "Stop training because you reached max_epochs = 80 with best_epoch = 79 and best_valid_accuracy = 0.96476\n"
     ]
    },
    {
     "name": "stderr",
     "output_type": "stream",
     "text": [
      "[I 2024-09-17 22:52:16,489] Trial 67 pruned. \n"
     ]
    },
    {
     "name": "stdout",
     "output_type": "stream",
     "text": [
      "Fold 1:\n",
      "Stop training because you reached max_epochs = 100 with best_epoch = 80 and best_valid_accuracy = 0.97407\n",
      "\n",
      "Fold 2:\n",
      "Stop training because you reached max_epochs = 100 with best_epoch = 81 and best_valid_accuracy = 0.97638\n",
      "\n",
      "Fold 3:\n",
      "Stop training because you reached max_epochs = 100 with best_epoch = 83 and best_valid_accuracy = 0.97623\n",
      "\n",
      "Fold 4:\n",
      "Stop training because you reached max_epochs = 100 with best_epoch = 88 and best_valid_accuracy = 0.97678\n"
     ]
    },
    {
     "name": "stderr",
     "output_type": "stream",
     "text": [
      "[I 2024-09-17 23:07:24,867] Trial 68 finished with value: 0.9758659638554217 and parameters: {'n_d': 96, 'n_a': 56, 'n_steps': 5, 'n_shared': 6, 'cat_emb_dim': 6, 'n_independent': 5, 'gamma': 1.5752599469151702, 'momentum': 0.19797242376497604, 'lr': 0.05423890090439394, 'mask_type': 'entmax', 'lambda_sparse': 0.00046531419124969537, 'patience': 20, 'max_epochs': 100, 'virtual_batch_size': 512, 'batch_size': 1536}. Best is trial 68 with value: 0.9758659638554217.\n"
     ]
    },
    {
     "name": "stdout",
     "output_type": "stream",
     "text": [
      "\n",
      "Fold 1:\n",
      "Stop training because you reached max_epochs = 100 with best_epoch = 91 and best_valid_accuracy = 0.97362\n",
      "\n",
      "Fold 2:\n",
      "Stop training because you reached max_epochs = 100 with best_epoch = 98 and best_valid_accuracy = 0.97613\n",
      "\n",
      "Fold 3:\n",
      "Stop training because you reached max_epochs = 100 with best_epoch = 83 and best_valid_accuracy = 0.97535\n"
     ]
    },
    {
     "name": "stderr",
     "output_type": "stream",
     "text": [
      "[I 2024-09-17 23:15:04,256] Trial 69 pruned. \n"
     ]
    },
    {
     "name": "stdout",
     "output_type": "stream",
     "text": [
      "Fold 1:\n",
      "Stop training because you reached max_epochs = 55 with best_epoch = 41 and best_valid_accuracy = 0.96958\n"
     ]
    },
    {
     "name": "stderr",
     "output_type": "stream",
     "text": [
      "[I 2024-09-17 23:16:29,704] Trial 70 pruned. \n"
     ]
    },
    {
     "name": "stdout",
     "output_type": "stream",
     "text": [
      "Fold 1:\n",
      "Stop training because you reached max_epochs = 100 with best_epoch = 98 and best_valid_accuracy = 0.9677\n",
      "\n",
      "Fold 2:\n",
      "Stop training because you reached max_epochs = 100 with best_epoch = 99 and best_valid_accuracy = 0.96777\n",
      "\n",
      "Fold 3:\n",
      "Stop training because you reached max_epochs = 100 with best_epoch = 99 and best_valid_accuracy = 0.96923\n"
     ]
    },
    {
     "name": "stderr",
     "output_type": "stream",
     "text": [
      "[I 2024-09-17 23:26:06,508] Trial 71 pruned. \n"
     ]
    },
    {
     "name": "stdout",
     "output_type": "stream",
     "text": [
      "Fold 1:\n",
      "\n",
      "Early stopping occurred at epoch 75 with best_epoch = 55 and best_valid_accuracy = 0.97239\n",
      "\n",
      "Fold 2:\n",
      "\n",
      "Early stopping occurred at epoch 87 with best_epoch = 67 and best_valid_accuracy = 0.97508\n",
      "\n",
      "Fold 3:\n",
      "\n",
      "Early stopping occurred at epoch 74 with best_epoch = 54 and best_valid_accuracy = 0.97492\n",
      "\n",
      "Fold 4:\n",
      "\n",
      "Early stopping occurred at epoch 66 with best_epoch = 46 and best_valid_accuracy = 0.97257\n"
     ]
    },
    {
     "name": "stderr",
     "output_type": "stream",
     "text": [
      "[I 2024-09-17 23:39:11,209] Trial 72 finished with value: 0.9737387048192772 and parameters: {'n_d': 104, 'n_a': 24, 'n_steps': 6, 'n_shared': 7, 'cat_emb_dim': 5, 'n_independent': 4, 'gamma': 1.5961428149873158, 'momentum': 0.196864029608027, 'lr': 0.04826873868154287, 'mask_type': 'entmax', 'lambda_sparse': 0.00021215482555684642, 'patience': 20, 'max_epochs': 95, 'virtual_batch_size': 512, 'batch_size': 1536}. Best is trial 68 with value: 0.9758659638554217.\n"
     ]
    },
    {
     "name": "stdout",
     "output_type": "stream",
     "text": [
      "\n",
      "Fold 1:\n",
      "\n",
      "Early stopping occurred at epoch 82 with best_epoch = 67 and best_valid_accuracy = 0.97274\n",
      "\n",
      "Fold 2:\n",
      "\n",
      "Early stopping occurred at epoch 83 with best_epoch = 68 and best_valid_accuracy = 0.97545\n",
      "\n",
      "Fold 3:\n",
      "\n",
      "Early stopping occurred at epoch 75 with best_epoch = 60 and best_valid_accuracy = 0.9751\n"
     ]
    },
    {
     "name": "stderr",
     "output_type": "stream",
     "text": [
      "[I 2024-09-17 23:47:18,205] Trial 73 pruned. \n"
     ]
    },
    {
     "name": "stdout",
     "output_type": "stream",
     "text": [
      "Fold 1:\n",
      "Stop training because you reached max_epochs = 90 with best_epoch = 88 and best_valid_accuracy = 0.97226\n",
      "\n",
      "Fold 2:\n",
      "\n",
      "Early stopping occurred at epoch 64 with best_epoch = 49 and best_valid_accuracy = 0.97334\n",
      "\n",
      "Fold 3:\n",
      "Stop training because you reached max_epochs = 90 with best_epoch = 87 and best_valid_accuracy = 0.97608\n",
      "\n",
      "Fold 4:\n",
      "\n",
      "Early stopping occurred at epoch 66 with best_epoch = 51 and best_valid_accuracy = 0.97349\n"
     ]
    },
    {
     "name": "stderr",
     "output_type": "stream",
     "text": [
      "[I 2024-09-17 23:59:48,382] Trial 74 finished with value: 0.9737951807228916 and parameters: {'n_d': 76, 'n_a': 76, 'n_steps': 7, 'n_shared': 1, 'cat_emb_dim': 5, 'n_independent': 7, 'gamma': 1.717904066065982, 'momentum': 0.2552406938744076, 'lr': 0.06461225172454751, 'mask_type': 'entmax', 'lambda_sparse': 0.0004324448675295973, 'patience': 15, 'max_epochs': 90, 'virtual_batch_size': 512, 'batch_size': 1536}. Best is trial 68 with value: 0.9758659638554217.\n"
     ]
    },
    {
     "name": "stdout",
     "output_type": "stream",
     "text": [
      "\n",
      "Fold 1:\n",
      "\n",
      "Early stopping occurred at epoch 75 with best_epoch = 60 and best_valid_accuracy = 0.97053\n",
      "\n",
      "Fold 2:\n",
      "\n",
      "Early stopping occurred at epoch 80 with best_epoch = 65 and best_valid_accuracy = 0.97369\n",
      "\n",
      "Fold 3:\n",
      "\n",
      "Early stopping occurred at epoch 65 with best_epoch = 50 and best_valid_accuracy = 0.97304\n"
     ]
    },
    {
     "name": "stderr",
     "output_type": "stream",
     "text": [
      "[I 2024-09-18 21:10:04,775] Trial 75 pruned. \n"
     ]
    },
    {
     "name": "stdout",
     "output_type": "stream",
     "text": [
      "Fold 1:\n",
      "Stop training because you reached max_epochs = 85 with best_epoch = 77 and best_valid_accuracy = 0.96581\n",
      "\n",
      "Fold 2:\n",
      "Stop training because you reached max_epochs = 85 with best_epoch = 80 and best_valid_accuracy = 0.96413\n",
      "\n",
      "Fold 3:\n",
      "Stop training because you reached max_epochs = 85 with best_epoch = 66 and best_valid_accuracy = 0.97078\n"
     ]
    },
    {
     "name": "stderr",
     "output_type": "stream",
     "text": [
      "[I 2024-09-18 21:20:45,554] Trial 76 pruned. \n"
     ]
    },
    {
     "name": "stdout",
     "output_type": "stream",
     "text": [
      "Fold 1:\n",
      "\n",
      "Early stopping occurred at epoch 66 with best_epoch = 51 and best_valid_accuracy = 0.97262\n",
      "\n",
      "Fold 2:\n",
      "\n",
      "Early stopping occurred at epoch 58 with best_epoch = 43 and best_valid_accuracy = 0.97259\n",
      "\n",
      "Fold 3:\n",
      "\n",
      "Early stopping occurred at epoch 66 with best_epoch = 51 and best_valid_accuracy = 0.97417\n"
     ]
    },
    {
     "name": "stderr",
     "output_type": "stream",
     "text": [
      "[I 2024-09-18 21:30:05,397] Trial 77 pruned. \n"
     ]
    },
    {
     "name": "stdout",
     "output_type": "stream",
     "text": [
      "Fold 1:\n",
      "Stop training because you reached max_epochs = 10 with best_epoch = 9 and best_valid_accuracy = 0.86486\n"
     ]
    },
    {
     "name": "stderr",
     "output_type": "stream",
     "text": [
      "[I 2024-09-18 21:30:35,396] Trial 78 pruned. \n"
     ]
    },
    {
     "name": "stdout",
     "output_type": "stream",
     "text": [
      "Fold 1:\n",
      "\n",
      "Early stopping occurred at epoch 83 with best_epoch = 63 and best_valid_accuracy = 0.9746\n",
      "\n",
      "Fold 2:\n",
      "\n",
      "Early stopping occurred at epoch 73 with best_epoch = 53 and best_valid_accuracy = 0.97497\n",
      "\n",
      "Fold 3:\n",
      "\n",
      "Early stopping occurred at epoch 62 with best_epoch = 42 and best_valid_accuracy = 0.97545\n",
      "\n",
      "Fold 4:\n",
      "\n",
      "Early stopping occurred at epoch 86 with best_epoch = 66 and best_valid_accuracy = 0.97462\n"
     ]
    },
    {
     "name": "stderr",
     "output_type": "stream",
     "text": [
      "[I 2024-09-18 21:46:40,120] Trial 79 finished with value: 0.9749121485943776 and parameters: {'n_d': 92, 'n_a': 124, 'n_steps': 8, 'n_shared': 1, 'cat_emb_dim': 4, 'n_independent': 10, 'gamma': 1.4179777782103238, 'momentum': 0.12682804956614424, 'lr': 0.051794210785831005, 'mask_type': 'entmax', 'lambda_sparse': 0.0006911142078687097, 'patience': 20, 'max_epochs': 100, 'virtual_batch_size': 512, 'batch_size': 1536}. Best is trial 68 with value: 0.9758659638554217.\n"
     ]
    },
    {
     "name": "stdout",
     "output_type": "stream",
     "text": [
      "\n",
      "Fold 1:\n",
      "Stop training because you reached max_epochs = 100 with best_epoch = 99 and best_valid_accuracy = 0.97257\n",
      "\n",
      "Fold 2:\n",
      "Stop training because you reached max_epochs = 100 with best_epoch = 90 and best_valid_accuracy = 0.97588\n",
      "\n",
      "Fold 3:\n",
      "Stop training because you reached max_epochs = 100 with best_epoch = 91 and best_valid_accuracy = 0.97593\n",
      "\n",
      "Fold 4:\n",
      "Stop training because you reached max_epochs = 100 with best_epoch = 81 and best_valid_accuracy = 0.97382\n"
     ]
    },
    {
     "name": "stderr",
     "output_type": "stream",
     "text": [
      "[I 2024-09-18 22:01:58,941] Trial 80 finished with value: 0.9745481927710843 and parameters: {'n_d': 96, 'n_a': 124, 'n_steps': 8, 'n_shared': 1, 'cat_emb_dim': 4, 'n_independent': 8, 'gamma': 1.4157103933318684, 'momentum': 0.12902510947345155, 'lr': 0.05827063541418022, 'mask_type': 'entmax', 'lambda_sparse': 0.0006674635108367239, 'patience': 20, 'max_epochs': 100, 'virtual_batch_size': 512, 'batch_size': 2560}. Best is trial 68 with value: 0.9758659638554217.\n"
     ]
    },
    {
     "name": "stdout",
     "output_type": "stream",
     "text": [
      "\n",
      "Fold 1:\n",
      "\n",
      "Early stopping occurred at epoch 71 with best_epoch = 51 and best_valid_accuracy = 0.97229\n",
      "\n",
      "Fold 2:\n",
      "\n",
      "Early stopping occurred at epoch 89 with best_epoch = 69 and best_valid_accuracy = 0.97548\n",
      "\n",
      "Fold 3:\n",
      "\n",
      "Early stopping occurred at epoch 72 with best_epoch = 52 and best_valid_accuracy = 0.97615\n",
      "\n",
      "Fold 4:\n",
      "\n",
      "Early stopping occurred at epoch 87 with best_epoch = 67 and best_valid_accuracy = 0.97613\n"
     ]
    },
    {
     "name": "stderr",
     "output_type": "stream",
     "text": [
      "[I 2024-09-18 22:19:06,032] Trial 81 finished with value: 0.9750125502008032 and parameters: {'n_d': 92, 'n_a': 112, 'n_steps': 8, 'n_shared': 1, 'cat_emb_dim': 4, 'n_independent': 10, 'gamma': 1.5387455248700594, 'momentum': 0.1673317669448751, 'lr': 0.0457521944436375, 'mask_type': 'entmax', 'lambda_sparse': 0.0009913926090140731, 'patience': 20, 'max_epochs': 95, 'virtual_batch_size': 512, 'batch_size': 1536}. Best is trial 68 with value: 0.9758659638554217.\n"
     ]
    },
    {
     "name": "stdout",
     "output_type": "stream",
     "text": [
      "\n",
      "Fold 1:\n",
      "Stop training because you reached max_epochs = 100 with best_epoch = 85 and best_valid_accuracy = 0.9745\n",
      "\n",
      "Fold 2:\n",
      "\n",
      "Early stopping occurred at epoch 84 with best_epoch = 64 and best_valid_accuracy = 0.97663\n",
      "\n",
      "Fold 3:\n",
      "Stop training because you reached max_epochs = 100 with best_epoch = 93 and best_valid_accuracy = 0.97593\n",
      "\n",
      "Fold 4:\n",
      "Stop training because you reached max_epochs = 100 with best_epoch = 95 and best_valid_accuracy = 0.97467\n"
     ]
    },
    {
     "name": "stderr",
     "output_type": "stream",
     "text": [
      "[I 2024-09-18 22:41:15,580] Trial 82 finished with value: 0.9754329819277109 and parameters: {'n_d': 92, 'n_a': 124, 'n_steps': 9, 'n_shared': 1, 'cat_emb_dim': 4, 'n_independent': 10, 'gamma': 1.5327040985046068, 'momentum': 0.10693059456457084, 'lr': 0.049766037994339, 'mask_type': 'entmax', 'lambda_sparse': 0.0018042712469379858, 'patience': 20, 'max_epochs': 100, 'virtual_batch_size': 512, 'batch_size': 1536}. Best is trial 68 with value: 0.9758659638554217.\n"
     ]
    },
    {
     "name": "stdout",
     "output_type": "stream",
     "text": [
      "\n",
      "Fold 1:\n",
      "Stop training because you reached max_epochs = 100 with best_epoch = 80 and best_valid_accuracy = 0.97166\n"
     ]
    },
    {
     "name": "stderr",
     "output_type": "stream",
     "text": [
      "[I 2024-09-19 09:23:42,518] Trial 83 pruned. \n"
     ]
    },
    {
     "name": "stdout",
     "output_type": "stream",
     "text": [
      "Fold 1:\n",
      "Stop training because you reached max_epochs = 100 with best_epoch = 86 and best_valid_accuracy = 0.97063\n"
     ]
    },
    {
     "name": "stderr",
     "output_type": "stream",
     "text": [
      "[I 2024-09-19 09:29:56,057] Trial 84 pruned. \n"
     ]
    },
    {
     "name": "stdout",
     "output_type": "stream",
     "text": [
      "Fold 1:\n",
      "Stop training because you reached max_epochs = 45 with best_epoch = 42 and best_valid_accuracy = 0.96338\n"
     ]
    },
    {
     "name": "stderr",
     "output_type": "stream",
     "text": [
      "[I 2024-09-19 09:32:19,752] Trial 85 pruned. \n"
     ]
    },
    {
     "name": "stdout",
     "output_type": "stream",
     "text": [
      "Fold 1:\n",
      "\n",
      "Early stopping occurred at epoch 68 with best_epoch = 48 and best_valid_accuracy = 0.94917\n"
     ]
    },
    {
     "name": "stderr",
     "output_type": "stream",
     "text": [
      "[I 2024-09-19 09:36:15,262] Trial 86 pruned. \n"
     ]
    },
    {
     "name": "stdout",
     "output_type": "stream",
     "text": [
      "Fold 1:\n",
      "Stop training because you reached max_epochs = 20 with best_epoch = 19 and best_valid_accuracy = 0.94483\n"
     ]
    },
    {
     "name": "stderr",
     "output_type": "stream",
     "text": [
      "[I 2024-09-19 09:37:27,227] Trial 87 pruned. \n"
     ]
    },
    {
     "name": "stdout",
     "output_type": "stream",
     "text": [
      "Fold 1:\n",
      "\n",
      "Early stopping occurred at epoch 91 with best_epoch = 71 and best_valid_accuracy = 0.97244\n",
      "\n",
      "Fold 2:\n",
      "Stop training because you reached max_epochs = 95 with best_epoch = 90 and best_valid_accuracy = 0.97475\n",
      "\n",
      "Fold 3:\n",
      "\n",
      "Early stopping occurred at epoch 72 with best_epoch = 52 and best_valid_accuracy = 0.97329\n"
     ]
    },
    {
     "name": "stderr",
     "output_type": "stream",
     "text": [
      "[I 2024-09-19 09:48:20,631] Trial 88 pruned. \n"
     ]
    },
    {
     "name": "stdout",
     "output_type": "stream",
     "text": [
      "Fold 1:\n",
      "\n",
      "Early stopping occurred at epoch 71 with best_epoch = 51 and best_valid_accuracy = 0.97131\n"
     ]
    },
    {
     "name": "stderr",
     "output_type": "stream",
     "text": [
      "[I 2024-09-19 09:54:38,860] Trial 89 pruned. \n"
     ]
    },
    {
     "name": "stdout",
     "output_type": "stream",
     "text": [
      "Fold 1:\n",
      "Stop training because you reached max_epochs = 90 with best_epoch = 81 and best_valid_accuracy = 0.97246\n",
      "\n",
      "Fold 2:\n",
      "Stop training because you reached max_epochs = 90 with best_epoch = 89 and best_valid_accuracy = 0.97289\n",
      "\n",
      "Fold 3:\n",
      "Stop training because you reached max_epochs = 90 with best_epoch = 77 and best_valid_accuracy = 0.97598\n",
      "\n",
      "Fold 4:\n",
      "Stop training because you reached max_epochs = 90 with best_epoch = 88 and best_valid_accuracy = 0.97407\n"
     ]
    },
    {
     "name": "stderr",
     "output_type": "stream",
     "text": [
      "[I 2024-09-19 10:14:20,587] Trial 90 finished with value: 0.973851656626506 and parameters: {'n_d': 92, 'n_a': 52, 'n_steps': 9, 'n_shared': 2, 'cat_emb_dim': 5, 'n_independent': 9, 'gamma': 1.3830816616831338, 'momentum': 0.35848618524486114, 'lr': 0.013345917330033066, 'mask_type': 'sparsemax', 'lambda_sparse': 0.003393672708800499, 'patience': 20, 'max_epochs': 90, 'virtual_batch_size': 512, 'batch_size': 1536}. Best is trial 68 with value: 0.9758659638554217.\n"
     ]
    },
    {
     "name": "stdout",
     "output_type": "stream",
     "text": [
      "\n",
      "Fold 1:\n",
      "\n",
      "Early stopping occurred at epoch 60 with best_epoch = 40 and best_valid_accuracy = 0.97086\n",
      "\n",
      "Fold 2:\n",
      "Stop training because you reached max_epochs = 95 with best_epoch = 78 and best_valid_accuracy = 0.97651\n",
      "\n",
      "Fold 3:\n",
      "\n",
      "Early stopping occurred at epoch 88 with best_epoch = 68 and best_valid_accuracy = 0.97668\n",
      "\n",
      "Fold 4:\n",
      "Stop training because you reached max_epochs = 95 with best_epoch = 79 and best_valid_accuracy = 0.97487\n"
     ]
    },
    {
     "name": "stderr",
     "output_type": "stream",
     "text": [
      "[I 2024-09-19 10:32:12,093] Trial 91 finished with value: 0.9747301706827309 and parameters: {'n_d': 88, 'n_a': 68, 'n_steps': 8, 'n_shared': 2, 'cat_emb_dim': 4, 'n_independent': 9, 'gamma': 1.4971118436555786, 'momentum': 0.11167386552903573, 'lr': 0.029715816898808683, 'mask_type': 'entmax', 'lambda_sparse': 0.0007883812907906572, 'patience': 20, 'max_epochs': 95, 'virtual_batch_size': 512, 'batch_size': 1536}. Best is trial 68 with value: 0.9758659638554217.\n"
     ]
    },
    {
     "name": "stdout",
     "output_type": "stream",
     "text": [
      "\n",
      "Fold 1:\n",
      "Stop training because you reached max_epochs = 100 with best_epoch = 89 and best_valid_accuracy = 0.97385\n",
      "\n",
      "Fold 2:\n",
      "\n",
      "Early stopping occurred at epoch 82 with best_epoch = 62 and best_valid_accuracy = 0.9759\n",
      "\n",
      "Fold 3:\n",
      "\n",
      "Early stopping occurred at epoch 78 with best_epoch = 58 and best_valid_accuracy = 0.97523\n",
      "\n",
      "Fold 4:\n",
      "\n",
      "Early stopping occurred at epoch 52 with best_epoch = 32 and best_valid_accuracy = 0.97184\n"
     ]
    },
    {
     "name": "stderr",
     "output_type": "stream",
     "text": [
      "[I 2024-09-19 10:47:09,809] Trial 92 finished with value: 0.974203062248996 and parameters: {'n_d': 84, 'n_a': 120, 'n_steps': 7, 'n_shared': 1, 'cat_emb_dim': 10, 'n_independent': 10, 'gamma': 1.5459713590933528, 'momentum': 0.12164173618638464, 'lr': 0.04654835957522542, 'mask_type': 'entmax', 'lambda_sparse': 0.0006209526462277595, 'patience': 20, 'max_epochs': 100, 'virtual_batch_size': 512, 'batch_size': 1536}. Best is trial 68 with value: 0.9758659638554217.\n"
     ]
    },
    {
     "name": "stdout",
     "output_type": "stream",
     "text": [
      "\n",
      "Fold 1:\n",
      "\n",
      "Early stopping occurred at epoch 90 with best_epoch = 70 and best_valid_accuracy = 0.97161\n",
      "\n",
      "Fold 2:\n",
      "Stop training because you reached max_epochs = 95 with best_epoch = 88 and best_valid_accuracy = 0.97533\n",
      "\n",
      "Fold 3:\n",
      "\n",
      "Early stopping occurred at epoch 84 with best_epoch = 64 and best_valid_accuracy = 0.97487\n",
      "\n",
      "Fold 4:\n",
      "Stop training because you reached max_epochs = 95 with best_epoch = 86 and best_valid_accuracy = 0.97518\n"
     ]
    },
    {
     "name": "stderr",
     "output_type": "stream",
     "text": [
      "[I 2024-09-19 11:04:20,933] Trial 93 finished with value: 0.9742469879518072 and parameters: {'n_d': 80, 'n_a': 112, 'n_steps': 7, 'n_shared': 2, 'cat_emb_dim': 4, 'n_independent': 9, 'gamma': 1.4310832362353325, 'momentum': 0.09296863379114838, 'lr': 0.007338591984414746, 'mask_type': 'entmax', 'lambda_sparse': 0.0005165436062382397, 'patience': 20, 'max_epochs': 95, 'virtual_batch_size': 512, 'batch_size': 1536}. Best is trial 68 with value: 0.9758659638554217.\n"
     ]
    },
    {
     "name": "stdout",
     "output_type": "stream",
     "text": [
      "\n",
      "Fold 1:\n",
      "\n",
      "Early stopping occurred at epoch 91 with best_epoch = 71 and best_valid_accuracy = 0.9744\n",
      "\n",
      "Fold 2:\n",
      "\n",
      "Early stopping occurred at epoch 89 with best_epoch = 69 and best_valid_accuracy = 0.97553\n",
      "\n",
      "Fold 3:\n",
      "Stop training because you reached max_epochs = 100 with best_epoch = 98 and best_valid_accuracy = 0.97605\n",
      "\n",
      "Fold 4:\n",
      "Stop training because you reached max_epochs = 100 with best_epoch = 97 and best_valid_accuracy = 0.97457\n"
     ]
    },
    {
     "name": "stderr",
     "output_type": "stream",
     "text": [
      "[I 2024-09-19 11:24:52,654] Trial 94 finished with value: 0.9751380522088353 and parameters: {'n_d': 96, 'n_a': 64, 'n_steps': 10, 'n_shared': 1, 'cat_emb_dim': 4, 'n_independent': 8, 'gamma': 1.338136754688575, 'momentum': 0.06367569111201471, 'lr': 0.0222210373007252, 'mask_type': 'entmax', 'lambda_sparse': 0.0009355577325554092, 'patience': 20, 'max_epochs': 100, 'virtual_batch_size': 512, 'batch_size': 1536}. Best is trial 68 with value: 0.9758659638554217.\n"
     ]
    },
    {
     "name": "stdout",
     "output_type": "stream",
     "text": [
      "\n",
      "Fold 1:\n",
      "Stop training because you reached max_epochs = 100 with best_epoch = 95 and best_valid_accuracy = 0.97339\n",
      "\n",
      "Fold 2:\n",
      "Stop training because you reached max_epochs = 100 with best_epoch = 85 and best_valid_accuracy = 0.97603\n",
      "\n",
      "Fold 3:\n",
      "\n",
      "Early stopping occurred at epoch 84 with best_epoch = 64 and best_valid_accuracy = 0.97563\n"
     ]
    },
    {
     "name": "stderr",
     "output_type": "stream",
     "text": [
      "[I 2024-09-19 11:40:10,534] Trial 95 pruned. \n"
     ]
    },
    {
     "name": "stdout",
     "output_type": "stream",
     "text": [
      "Fold 1:\n",
      "Stop training because you reached max_epochs = 90 with best_epoch = 83 and best_valid_accuracy = 0.97274\n",
      "\n",
      "Fold 2:\n",
      "Stop training because you reached max_epochs = 90 with best_epoch = 76 and best_valid_accuracy = 0.97234\n",
      "\n",
      "Fold 3:\n",
      "Stop training because you reached max_epochs = 90 with best_epoch = 73 and best_valid_accuracy = 0.97631\n",
      "\n",
      "Fold 4:\n",
      "\n",
      "Early stopping occurred at epoch 73 with best_epoch = 53 and best_valid_accuracy = 0.97349\n"
     ]
    },
    {
     "name": "stderr",
     "output_type": "stream",
     "text": [
      "[I 2024-09-19 11:57:29,471] Trial 96 finished with value: 0.9737198795180723 and parameters: {'n_d': 96, 'n_a': 60, 'n_steps': 10, 'n_shared': 1, 'cat_emb_dim': 4, 'n_independent': 7, 'gamma': 1.2834349319025364, 'momentum': 0.03185255415571438, 'lr': 0.05724344039729187, 'mask_type': 'entmax', 'lambda_sparse': 0.0009598110811793888, 'patience': 20, 'max_epochs': 90, 'virtual_batch_size': 512, 'batch_size': 1536}. Best is trial 68 with value: 0.9758659638554217.\n"
     ]
    },
    {
     "name": "stdout",
     "output_type": "stream",
     "text": [
      "\n",
      "Fold 1:\n",
      "Stop training because you reached max_epochs = 100 with best_epoch = 90 and best_valid_accuracy = 0.97543\n",
      "\n",
      "Fold 2:\n",
      "Stop training because you reached max_epochs = 100 with best_epoch = 93 and best_valid_accuracy = 0.97523\n",
      "\n",
      "Fold 3:\n",
      "Stop training because you reached max_epochs = 100 with best_epoch = 88 and best_valid_accuracy = 0.97706\n",
      "\n",
      "Fold 4:\n",
      "Stop training because you reached max_epochs = 100 with best_epoch = 82 and best_valid_accuracy = 0.97548\n"
     ]
    },
    {
     "name": "stderr",
     "output_type": "stream",
     "text": [
      "[I 2024-09-19 12:13:58,442] Trial 97 finished with value: 0.975796937751004 and parameters: {'n_d': 100, 'n_a': 128, 'n_steps': 9, 'n_shared': 1, 'cat_emb_dim': 5, 'n_independent': 8, 'gamma': 1.251626593035038, 'momentum': 0.33885436099787813, 'lr': 0.039852788086071705, 'mask_type': 'entmax', 'lambda_sparse': 0.0011473350469571185, 'patience': 20, 'max_epochs': 100, 'virtual_batch_size': 512, 'batch_size': 2560}. Best is trial 68 with value: 0.9758659638554217.\n"
     ]
    },
    {
     "name": "stdout",
     "output_type": "stream",
     "text": [
      "\n",
      "Fold 1:\n",
      "Stop training because you reached max_epochs = 100 with best_epoch = 98 and best_valid_accuracy = 0.97277\n",
      "\n",
      "Fold 2:\n",
      "Stop training because you reached max_epochs = 100 with best_epoch = 93 and best_valid_accuracy = 0.97297\n",
      "\n",
      "Fold 3:\n",
      "\n",
      "Early stopping occurred at epoch 79 with best_epoch = 59 and best_valid_accuracy = 0.9751\n"
     ]
    },
    {
     "name": "stderr",
     "output_type": "stream",
     "text": [
      "[I 2024-09-19 12:25:27,530] Trial 98 pruned. \n"
     ]
    },
    {
     "name": "stdout",
     "output_type": "stream",
     "text": [
      "Fold 1:\n",
      "Stop training because you reached max_epochs = 95 with best_epoch = 89 and best_valid_accuracy = 0.97289\n",
      "\n",
      "Fold 2:\n",
      "Stop training because you reached max_epochs = 95 with best_epoch = 81 and best_valid_accuracy = 0.97638\n",
      "\n",
      "Fold 3:\n",
      "Stop training because you reached max_epochs = 95 with best_epoch = 79 and best_valid_accuracy = 0.97701\n",
      "\n",
      "Fold 4:\n",
      "Stop training because you reached max_epochs = 95 with best_epoch = 83 and best_valid_accuracy = 0.975\n"
     ]
    },
    {
     "name": "stderr",
     "output_type": "stream",
     "text": [
      "[I 2024-09-19 12:41:58,999] Trial 99 finished with value: 0.975320030120482 and parameters: {'n_d': 108, 'n_a': 116, 'n_steps': 10, 'n_shared': 1, 'cat_emb_dim': 5, 'n_independent': 8, 'gamma': 1.255725850280637, 'momentum': 0.3309144445780589, 'lr': 0.03542773573542414, 'mask_type': 'entmax', 'lambda_sparse': 0.046967699654958665, 'patience': 20, 'max_epochs': 95, 'virtual_batch_size': 512, 'batch_size': 2560}. Best is trial 68 with value: 0.9758659638554217.\n"
     ]
    },
    {
     "name": "stdout",
     "output_type": "stream",
     "text": [
      "\n",
      "\n",
      "Best hyperparameters: {'n_d': 96, 'n_a': 56, 'n_steps': 5, 'n_shared': 6, 'cat_emb_dim': 6, 'n_independent': 5, 'gamma': 1.5752599469151702, 'momentum': 0.19797242376497604, 'lr': 0.05423890090439394, 'mask_type': 'entmax', 'lambda_sparse': 0.00046531419124969537, 'patience': 20, 'max_epochs': 100, 'virtual_batch_size': 512, 'batch_size': 1536}\n"
     ]
    },
    {
     "data": {
      "text/plain": [
       "{'n_d': 96,\n",
       " 'n_a': 56,\n",
       " 'n_steps': 5,\n",
       " 'n_shared': 6,\n",
       " 'cat_emb_dim': 6,\n",
       " 'n_independent': 5,\n",
       " 'gamma': 1.5752599469151702,\n",
       " 'momentum': 0.19797242376497604,\n",
       " 'lr': 0.05423890090439394,\n",
       " 'mask_type': 'entmax',\n",
       " 'lambda_sparse': 0.00046531419124969537,\n",
       " 'patience': 20,\n",
       " 'max_epochs': 100,\n",
       " 'virtual_batch_size': 512,\n",
       " 'batch_size': 1536}"
      ]
     },
     "execution_count": 16,
     "metadata": {},
     "output_type": "execute_result"
    }
   ],
   "source": [
    "scparadise.scadam.tune(adata_balanced, \n",
    "                       path = '/mnt/c/Users/vadim/scRNA/scParadise/scAdam/PBMC/3p/scparadise/models/',\n",
    "                       celltype_l1 = 'celltype_l1',\n",
    "                       celltype_l2 = 'celltype_l2',\n",
    "                       celltype_l3 = 'celltype_l3',\n",
    "                       model_name = 'model_tuning_final',\n",
    "                       eval_metric=['accuracy'])"
   ]
  },
  {
   "cell_type": "code",
   "execution_count": 20,
   "id": "386409cc-525d-41e1-a142-e1e55483777d",
   "metadata": {
    "scrolled": true
   },
   "outputs": [
    {
     "name": "stdout",
     "output_type": "stream",
     "text": [
      "Successfully saved genes names for training model\n",
      "\n",
      "Successfully saved dictionary of dataset annotations\n",
      "\n",
      "Train dataset contains: 47808 cells, it is 90.0 % of input dataset\n",
      "Test dataset contains: 5312 cells, it is 10.0 % of input dataset\n",
      "\n",
      "Accelerator: cuda\n",
      "Start training with following hyperparameters: {'n_d': 96, 'n_a': 56, 'n_steps': 5, 'n_shared': 6, 'cat_emb_dim': 6, 'n_independent': 5, 'gamma': 1.5752599469151702, 'momentum': 0.19797242376497604, 'optimizer_params': {'lr': 0.05423890090439394}, 'mask_type': 'entmax', 'lambda_sparse': 0.00046531419124969537, 'patience': 20, 'max_epochs': 100, 'virtual_batch_size': 512, 'batch_size': 1536, 'device_name': 'cuda'}\n",
      "\n",
      "epoch 0  | loss: 2.38221 | train_balanced_accuracy: 0.42554 | train_logloss: 1.77445 | train_accuracy: 0.47896 | valid_balanced_accuracy: 0.43097 | valid_logloss: 1.7534  | valid_accuracy: 0.48168 |  0:00:03s\n",
      "epoch 1  | loss: 0.94374 | train_balanced_accuracy: 0.67815 | train_logloss: 0.83062 | train_accuracy: 0.72456 | valid_balanced_accuracy: 0.6881  | valid_logloss: 0.80394 | valid_accuracy: 0.73086 |  0:00:07s\n",
      "epoch 2  | loss: 0.74653 | train_balanced_accuracy: 0.74526 | train_logloss: 0.66039 | train_accuracy: 0.77611 | valid_balanced_accuracy: 0.75094 | valid_logloss: 0.63104 | valid_accuracy: 0.77855 |  0:00:11s\n",
      "epoch 3  | loss: 0.60298 | train_balanced_accuracy: 0.83612 | train_logloss: 0.42808 | train_accuracy: 0.84835 | valid_balanced_accuracy: 0.84448 | valid_logloss: 0.41242 | valid_accuracy: 0.85511 |  0:00:14s\n",
      "epoch 4  | loss: 0.51879 | train_balanced_accuracy: 0.8666  | train_logloss: 0.34484 | train_accuracy: 0.87351 | valid_balanced_accuracy: 0.87121 | valid_logloss: 0.33698 | valid_accuracy: 0.87713 |  0:00:18s\n",
      "epoch 5  | loss: 0.44611 | train_balanced_accuracy: 0.90907 | train_logloss: 0.24328 | train_accuracy: 0.9101  | valid_balanced_accuracy: 0.9099  | valid_logloss: 0.24029 | valid_accuracy: 0.91114 |  0:00:22s\n",
      "epoch 6  | loss: 0.38206 | train_balanced_accuracy: 0.93307 | train_logloss: 0.19245 | train_accuracy: 0.9326  | valid_balanced_accuracy: 0.93061 | valid_logloss: 0.1991  | valid_accuracy: 0.92903 |  0:00:25s\n",
      "epoch 7  | loss: 0.33933 | train_balanced_accuracy: 0.95375 | train_logloss: 0.14113 | train_accuracy: 0.95446 | valid_balanced_accuracy: 0.94937 | valid_logloss: 0.15114 | valid_accuracy: 0.94898 |  0:00:28s\n",
      "epoch 8  | loss: 0.30707 | train_balanced_accuracy: 0.9582  | train_logloss: 0.12594 | train_accuracy: 0.95887 | valid_balanced_accuracy: 0.95522 | valid_logloss: 0.13495 | valid_accuracy: 0.95507 |  0:00:31s\n",
      "epoch 9  | loss: 0.2808  | train_balanced_accuracy: 0.96422 | train_logloss: 0.1082  | train_accuracy: 0.96475 | valid_balanced_accuracy: 0.95779 | valid_logloss: 0.12216 | valid_accuracy: 0.95777 |  0:00:33s\n",
      "epoch 10 | loss: 0.26301 | train_balanced_accuracy: 0.96493 | train_logloss: 0.10227 | train_accuracy: 0.96556 | valid_balanced_accuracy: 0.95851 | valid_logloss: 0.11869 | valid_accuracy: 0.95902 |  0:00:36s\n",
      "epoch 11 | loss: 0.25305 | train_balanced_accuracy: 0.97127 | train_logloss: 0.08591 | train_accuracy: 0.97189 | valid_balanced_accuracy: 0.96402 | valid_logloss: 0.10614 | valid_accuracy: 0.96335 |  0:00:39s\n",
      "epoch 12 | loss: 0.24929 | train_balanced_accuracy: 0.97401 | train_logloss: 0.07927 | train_accuracy: 0.97412 | valid_balanced_accuracy: 0.96594 | valid_logloss: 0.10236 | valid_accuracy: 0.96542 |  0:00:41s\n",
      "epoch 13 | loss: 0.23718 | train_balanced_accuracy: 0.97512 | train_logloss: 0.07427 | train_accuracy: 0.97576 | valid_balanced_accuracy: 0.9674  | valid_logloss: 0.10069 | valid_accuracy: 0.96662 |  0:00:44s\n",
      "epoch 14 | loss: 0.22582 | train_balanced_accuracy: 0.98014 | train_logloss: 0.06309 | train_accuracy: 0.98025 | valid_balanced_accuracy: 0.96942 | valid_logloss: 0.09224 | valid_accuracy: 0.9685  |  0:00:47s\n",
      "epoch 15 | loss: 0.227   | train_balanced_accuracy: 0.97888 | train_logloss: 0.06547 | train_accuracy: 0.97925 | valid_balanced_accuracy: 0.96774 | valid_logloss: 0.09738 | valid_accuracy: 0.96693 |  0:00:50s\n",
      "epoch 16 | loss: 0.22228 | train_balanced_accuracy: 0.98009 | train_logloss: 0.06303 | train_accuracy: 0.9803  | valid_balanced_accuracy: 0.96938 | valid_logloss: 0.09534 | valid_accuracy: 0.96894 |  0:00:52s\n",
      "epoch 17 | loss: 0.21326 | train_balanced_accuracy: 0.98162 | train_logloss: 0.05748 | train_accuracy: 0.98178 | valid_balanced_accuracy: 0.96936 | valid_logloss: 0.09335 | valid_accuracy: 0.96881 |  0:00:55s\n",
      "epoch 18 | loss: 0.20842 | train_balanced_accuracy: 0.98264 | train_logloss: 0.05323 | train_accuracy: 0.98322 | valid_balanced_accuracy: 0.97286 | valid_logloss: 0.08474 | valid_accuracy: 0.97226 |  0:00:57s\n",
      "epoch 19 | loss: 0.20869 | train_balanced_accuracy: 0.98283 | train_logloss: 0.05374 | train_accuracy: 0.98318 | valid_balanced_accuracy: 0.97163 | valid_logloss: 0.09509 | valid_accuracy: 0.97076 |  0:01:00s\n",
      "epoch 20 | loss: 0.19525 | train_balanced_accuracy: 0.98593 | train_logloss: 0.04413 | train_accuracy: 0.9864  | valid_balanced_accuracy: 0.97328 | valid_logloss: 0.07813 | valid_accuracy: 0.97314 |  0:01:03s\n",
      "epoch 21 | loss: 0.18819 | train_balanced_accuracy: 0.98451 | train_logloss: 0.04946 | train_accuracy: 0.98411 | valid_balanced_accuracy: 0.97005 | valid_logloss: 0.09422 | valid_accuracy: 0.9685  |  0:01:06s\n",
      "epoch 22 | loss: 0.19262 | train_balanced_accuracy: 0.9862  | train_logloss: 0.0425  | train_accuracy: 0.98665 | valid_balanced_accuracy: 0.97127 | valid_logloss: 0.0876  | valid_accuracy: 0.97101 |  0:01:08s\n",
      "epoch 23 | loss: 0.18826 | train_balanced_accuracy: 0.98663 | train_logloss: 0.04065 | train_accuracy: 0.98746 | valid_balanced_accuracy: 0.97267 | valid_logloss: 0.08555 | valid_accuracy: 0.97233 |  0:01:11s\n",
      "epoch 24 | loss: 0.18547 | train_balanced_accuracy: 0.98792 | train_logloss: 0.03508 | train_accuracy: 0.98896 | valid_balanced_accuracy: 0.97254 | valid_logloss: 0.08119 | valid_accuracy: 0.97308 |  0:01:14s\n",
      "epoch 25 | loss: 0.17942 | train_balanced_accuracy: 0.98856 | train_logloss: 0.0354  | train_accuracy: 0.98903 | valid_balanced_accuracy: 0.97235 | valid_logloss: 0.08336 | valid_accuracy: 0.97208 |  0:01:16s\n",
      "epoch 26 | loss: 0.18254 | train_balanced_accuracy: 0.98898 | train_logloss: 0.03675 | train_accuracy: 0.98852 | valid_balanced_accuracy: 0.97491 | valid_logloss: 0.08671 | valid_accuracy: 0.97321 |  0:01:19s\n",
      "epoch 27 | loss: 0.17879 | train_balanced_accuracy: 0.98836 | train_logloss: 0.03499 | train_accuracy: 0.989   | valid_balanced_accuracy: 0.9746  | valid_logloss: 0.08421 | valid_accuracy: 0.9744  |  0:01:22s\n",
      "epoch 28 | loss: 0.17438 | train_balanced_accuracy: 0.98994 | train_logloss: 0.03192 | train_accuracy: 0.99002 | valid_balanced_accuracy: 0.97443 | valid_logloss: 0.085   | valid_accuracy: 0.97364 |  0:01:24s\n",
      "epoch 29 | loss: 0.17547 | train_balanced_accuracy: 0.98983 | train_logloss: 0.03014 | train_accuracy: 0.99065 | valid_balanced_accuracy: 0.97396 | valid_logloss: 0.08226 | valid_accuracy: 0.97383 |  0:01:27s\n",
      "epoch 30 | loss: 0.17079 | train_balanced_accuracy: 0.99107 | train_logloss: 0.02877 | train_accuracy: 0.99112 | valid_balanced_accuracy: 0.97438 | valid_logloss: 0.08133 | valid_accuracy: 0.97352 |  0:01:30s\n",
      "epoch 31 | loss: 0.16532 | train_balanced_accuracy: 0.99188 | train_logloss: 0.02436 | train_accuracy: 0.99219 | valid_balanced_accuracy: 0.97521 | valid_logloss: 0.07576 | valid_accuracy: 0.97503 |  0:01:32s\n",
      "epoch 32 | loss: 0.16973 | train_balanced_accuracy: 0.99188 | train_logloss: 0.02875 | train_accuracy: 0.99156 | valid_balanced_accuracy: 0.97424 | valid_logloss: 0.08675 | valid_accuracy: 0.97252 |  0:01:35s\n",
      "epoch 33 | loss: 0.1648  | train_balanced_accuracy: 0.99213 | train_logloss: 0.02462 | train_accuracy: 0.99258 | valid_balanced_accuracy: 0.97551 | valid_logloss: 0.08461 | valid_accuracy: 0.97465 |  0:01:38s\n",
      "epoch 34 | loss: 0.16626 | train_balanced_accuracy: 0.99291 | train_logloss: 0.02264 | train_accuracy: 0.99296 | valid_balanced_accuracy: 0.97554 | valid_logloss: 0.08101 | valid_accuracy: 0.97465 |  0:01:40s\n",
      "epoch 35 | loss: 0.15956 | train_balanced_accuracy: 0.99224 | train_logloss: 0.02524 | train_accuracy: 0.99221 | valid_balanced_accuracy: 0.9748  | valid_logloss: 0.08085 | valid_accuracy: 0.97396 |  0:01:43s\n",
      "epoch 36 | loss: 0.16862 | train_balanced_accuracy: 0.99256 | train_logloss: 0.02687 | train_accuracy: 0.9922  | valid_balanced_accuracy: 0.97288 | valid_logloss: 0.09164 | valid_accuracy: 0.97082 |  0:01:45s\n",
      "epoch 37 | loss: 0.16316 | train_balanced_accuracy: 0.99366 | train_logloss: 0.02014 | train_accuracy: 0.99368 | valid_balanced_accuracy: 0.97648 | valid_logloss: 0.08664 | valid_accuracy: 0.97603 |  0:01:48s\n",
      "epoch 38 | loss: 0.16586 | train_balanced_accuracy: 0.99462 | train_logloss: 0.02016 | train_accuracy: 0.99428 | valid_balanced_accuracy: 0.9751  | valid_logloss: 0.08598 | valid_accuracy: 0.97415 |  0:01:51s\n",
      "epoch 39 | loss: 0.16191 | train_balanced_accuracy: 0.99314 | train_logloss: 0.02515 | train_accuracy: 0.99275 | valid_balanced_accuracy: 0.97474 | valid_logloss: 0.0851  | valid_accuracy: 0.97371 |  0:01:54s\n",
      "epoch 40 | loss: 0.15169 | train_balanced_accuracy: 0.99478 | train_logloss: 0.01996 | train_accuracy: 0.99468 | valid_balanced_accuracy: 0.97457 | valid_logloss: 0.08084 | valid_accuracy: 0.97408 |  0:01:56s\n",
      "epoch 41 | loss: 0.15892 | train_balanced_accuracy: 0.99129 | train_logloss: 0.02793 | train_accuracy: 0.99045 | valid_balanced_accuracy: 0.97135 | valid_logloss: 0.09761 | valid_accuracy: 0.97057 |  0:01:59s\n",
      "epoch 42 | loss: 0.15108 | train_balanced_accuracy: 0.99525 | train_logloss: 0.01779 | train_accuracy: 0.99543 | valid_balanced_accuracy: 0.9764  | valid_logloss: 0.07829 | valid_accuracy: 0.9759  |  0:02:02s\n",
      "epoch 43 | loss: 0.15229 | train_balanced_accuracy: 0.99416 | train_logloss: 0.01947 | train_accuracy: 0.99403 | valid_balanced_accuracy: 0.9755  | valid_logloss: 0.08368 | valid_accuracy: 0.97452 |  0:02:04s\n",
      "epoch 44 | loss: 0.15171 | train_balanced_accuracy: 0.99445 | train_logloss: 0.01921 | train_accuracy: 0.99444 | valid_balanced_accuracy: 0.97587 | valid_logloss: 0.08398 | valid_accuracy: 0.97446 |  0:02:07s\n",
      "epoch 45 | loss: 0.15617 | train_balanced_accuracy: 0.9946  | train_logloss: 0.01711 | train_accuracy: 0.9953  | valid_balanced_accuracy: 0.97502 | valid_logloss: 0.08052 | valid_accuracy: 0.97603 |  0:02:09s\n",
      "epoch 46 | loss: 0.14712 | train_balanced_accuracy: 0.99561 | train_logloss: 0.01501 | train_accuracy: 0.99564 | valid_balanced_accuracy: 0.97708 | valid_logloss: 0.08105 | valid_accuracy: 0.97628 |  0:02:12s\n",
      "epoch 47 | loss: 0.14721 | train_balanced_accuracy: 0.99572 | train_logloss: 0.01554 | train_accuracy: 0.9958  | valid_balanced_accuracy: 0.97693 | valid_logloss: 0.07893 | valid_accuracy: 0.97634 |  0:02:15s\n",
      "epoch 48 | loss: 0.14838 | train_balanced_accuracy: 0.99588 | train_logloss: 0.01434 | train_accuracy: 0.99596 | valid_balanced_accuracy: 0.97587 | valid_logloss: 0.08068 | valid_accuracy: 0.97578 |  0:02:18s\n",
      "epoch 49 | loss: 0.14711 | train_balanced_accuracy: 0.99462 | train_logloss: 0.01642 | train_accuracy: 0.99543 | valid_balanced_accuracy: 0.97534 | valid_logloss: 0.08109 | valid_accuracy: 0.97609 |  0:02:20s\n",
      "epoch 50 | loss: 0.14313 | train_balanced_accuracy: 0.99564 | train_logloss: 0.01536 | train_accuracy: 0.99564 | valid_balanced_accuracy: 0.97672 | valid_logloss: 0.08184 | valid_accuracy: 0.97653 |  0:02:23s\n",
      "epoch 51 | loss: 0.14713 | train_balanced_accuracy: 0.99515 | train_logloss: 0.01719 | train_accuracy: 0.99554 | valid_balanced_accuracy: 0.97567 | valid_logloss: 0.08921 | valid_accuracy: 0.97597 |  0:02:26s\n",
      "epoch 52 | loss: 0.14626 | train_balanced_accuracy: 0.99502 | train_logloss: 0.01674 | train_accuracy: 0.99484 | valid_balanced_accuracy: 0.97758 | valid_logloss: 0.08552 | valid_accuracy: 0.97672 |  0:02:29s\n",
      "epoch 53 | loss: 0.14635 | train_balanced_accuracy: 0.99615 | train_logloss: 0.01371 | train_accuracy: 0.99627 | valid_balanced_accuracy: 0.97535 | valid_logloss: 0.08562 | valid_accuracy: 0.97459 |  0:02:31s\n",
      "epoch 54 | loss: 0.14507 | train_balanced_accuracy: 0.99556 | train_logloss: 0.01622 | train_accuracy: 0.99596 | valid_balanced_accuracy: 0.97607 | valid_logloss: 0.08583 | valid_accuracy: 0.97553 |  0:02:34s\n",
      "epoch 55 | loss: 0.14082 | train_balanced_accuracy: 0.99622 | train_logloss: 0.01405 | train_accuracy: 0.99607 | valid_balanced_accuracy: 0.97668 | valid_logloss: 0.08676 | valid_accuracy: 0.97572 |  0:02:36s\n",
      "epoch 56 | loss: 0.13775 | train_balanced_accuracy: 0.99513 | train_logloss: 0.01756 | train_accuracy: 0.99465 | valid_balanced_accuracy: 0.97584 | valid_logloss: 0.08812 | valid_accuracy: 0.9744  |  0:02:39s\n",
      "epoch 57 | loss: 0.13897 | train_balanced_accuracy: 0.99546 | train_logloss: 0.01491 | train_accuracy: 0.99563 | valid_balanced_accuracy: 0.97697 | valid_logloss: 0.08283 | valid_accuracy: 0.97603 |  0:02:42s\n",
      "epoch 58 | loss: 0.13516 | train_balanced_accuracy: 0.9969  | train_logloss: 0.01152 | train_accuracy: 0.99687 | valid_balanced_accuracy: 0.97693 | valid_logloss: 0.0848  | valid_accuracy: 0.97572 |  0:02:45s\n",
      "epoch 59 | loss: 0.13905 | train_balanced_accuracy: 0.99738 | train_logloss: 0.01034 | train_accuracy: 0.99748 | valid_balanced_accuracy: 0.97779 | valid_logloss: 0.07759 | valid_accuracy: 0.97754 |  0:02:47s\n",
      "epoch 60 | loss: 0.1369  | train_balanced_accuracy: 0.99709 | train_logloss: 0.01118 | train_accuracy: 0.99701 | valid_balanced_accuracy: 0.97674 | valid_logloss: 0.08609 | valid_accuracy: 0.97603 |  0:02:50s\n",
      "epoch 61 | loss: 0.13766 | train_balanced_accuracy: 0.99742 | train_logloss: 0.01018 | train_accuracy: 0.9975  | valid_balanced_accuracy: 0.97687 | valid_logloss: 0.07737 | valid_accuracy: 0.97609 |  0:02:53s\n",
      "epoch 62 | loss: 0.13482 | train_balanced_accuracy: 0.99518 | train_logloss: 0.01487 | train_accuracy: 0.99538 | valid_balanced_accuracy: 0.97635 | valid_logloss: 0.08353 | valid_accuracy: 0.97641 |  0:02:55s\n",
      "epoch 63 | loss: 0.1288  | train_balanced_accuracy: 0.99793 | train_logloss: 0.00892 | train_accuracy: 0.99787 | valid_balanced_accuracy: 0.97763 | valid_logloss: 0.08151 | valid_accuracy: 0.97703 |  0:02:58s\n",
      "epoch 64 | loss: 0.13312 | train_balanced_accuracy: 0.99764 | train_logloss: 0.01003 | train_accuracy: 0.99755 | valid_balanced_accuracy: 0.97799 | valid_logloss: 0.07832 | valid_accuracy: 0.97735 |  0:03:01s\n",
      "epoch 65 | loss: 0.13149 | train_balanced_accuracy: 0.99823 | train_logloss: 0.00805 | train_accuracy: 0.99817 | valid_balanced_accuracy: 0.97798 | valid_logloss: 0.07355 | valid_accuracy: 0.97684 |  0:03:03s\n",
      "epoch 66 | loss: 0.13091 | train_balanced_accuracy: 0.99783 | train_logloss: 0.0096  | train_accuracy: 0.99789 | valid_balanced_accuracy: 0.97939 | valid_logloss: 0.07376 | valid_accuracy: 0.97835 |  0:03:06s\n",
      "epoch 67 | loss: 0.13157 | train_balanced_accuracy: 0.99727 | train_logloss: 0.00999 | train_accuracy: 0.99751 | valid_balanced_accuracy: 0.97804 | valid_logloss: 0.07574 | valid_accuracy: 0.97766 |  0:03:09s\n",
      "epoch 68 | loss: 0.13192 | train_balanced_accuracy: 0.99665 | train_logloss: 0.01136 | train_accuracy: 0.99656 | valid_balanced_accuracy: 0.97649 | valid_logloss: 0.08901 | valid_accuracy: 0.97565 |  0:03:12s\n",
      "epoch 69 | loss: 0.13374 | train_balanced_accuracy: 0.99837 | train_logloss: 0.00776 | train_accuracy: 0.99836 | valid_balanced_accuracy: 0.97855 | valid_logloss: 0.07815 | valid_accuracy: 0.97747 |  0:03:14s\n",
      "epoch 70 | loss: 0.12928 | train_balanced_accuracy: 0.9986  | train_logloss: 0.00695 | train_accuracy: 0.99863 | valid_balanced_accuracy: 0.97834 | valid_logloss: 0.07458 | valid_accuracy: 0.97804 |  0:03:17s\n",
      "epoch 71 | loss: 0.12513 | train_balanced_accuracy: 0.9981  | train_logloss: 0.00766 | train_accuracy: 0.99815 | valid_balanced_accuracy: 0.97657 | valid_logloss: 0.07849 | valid_accuracy: 0.97628 |  0:03:20s\n",
      "epoch 72 | loss: 0.12742 | train_balanced_accuracy: 0.99752 | train_logloss: 0.01018 | train_accuracy: 0.9972  | valid_balanced_accuracy: 0.97724 | valid_logloss: 0.0851  | valid_accuracy: 0.97565 |  0:03:22s\n",
      "epoch 73 | loss: 0.12432 | train_balanced_accuracy: 0.99809 | train_logloss: 0.00757 | train_accuracy: 0.99815 | valid_balanced_accuracy: 0.97839 | valid_logloss: 0.08131 | valid_accuracy: 0.97785 |  0:03:25s\n",
      "epoch 74 | loss: 0.12873 | train_balanced_accuracy: 0.9979  | train_logloss: 0.00817 | train_accuracy: 0.99807 | valid_balanced_accuracy: 0.97691 | valid_logloss: 0.07877 | valid_accuracy: 0.97647 |  0:03:28s\n",
      "epoch 75 | loss: 0.13063 | train_balanced_accuracy: 0.99731 | train_logloss: 0.00965 | train_accuracy: 0.99741 | valid_balanced_accuracy: 0.98024 | valid_logloss: 0.07343 | valid_accuracy: 0.97929 |  0:03:30s\n",
      "epoch 76 | loss: 0.12669 | train_balanced_accuracy: 0.99832 | train_logloss: 0.00786 | train_accuracy: 0.99833 | valid_balanced_accuracy: 0.97748 | valid_logloss: 0.08012 | valid_accuracy: 0.97641 |  0:03:33s\n",
      "epoch 77 | loss: 0.12492 | train_balanced_accuracy: 0.99782 | train_logloss: 0.00971 | train_accuracy: 0.99757 | valid_balanced_accuracy: 0.97713 | valid_logloss: 0.08728 | valid_accuracy: 0.9754  |  0:03:36s\n",
      "epoch 78 | loss: 0.12788 | train_balanced_accuracy: 0.99797 | train_logloss: 0.00859 | train_accuracy: 0.99792 | valid_balanced_accuracy: 0.97674 | valid_logloss: 0.08222 | valid_accuracy: 0.97641 |  0:03:38s\n",
      "epoch 79 | loss: 0.13012 | train_balanced_accuracy: 0.99713 | train_logloss: 0.0109  | train_accuracy: 0.99679 | valid_balanced_accuracy: 0.97685 | valid_logloss: 0.08748 | valid_accuracy: 0.97572 |  0:03:41s\n",
      "epoch 80 | loss: 0.1242  | train_balanced_accuracy: 0.99859 | train_logloss: 0.0074  | train_accuracy: 0.9985  | valid_balanced_accuracy: 0.97889 | valid_logloss: 0.07814 | valid_accuracy: 0.97854 |  0:03:44s\n",
      "epoch 81 | loss: 0.12449 | train_balanced_accuracy: 0.99791 | train_logloss: 0.00882 | train_accuracy: 0.99785 | valid_balanced_accuracy: 0.97886 | valid_logloss: 0.07654 | valid_accuracy: 0.97797 |  0:03:46s\n",
      "epoch 82 | loss: 0.12525 | train_balanced_accuracy: 0.999   | train_logloss: 0.00641 | train_accuracy: 0.99893 | valid_balanced_accuracy: 0.97909 | valid_logloss: 0.07998 | valid_accuracy: 0.97779 |  0:03:49s\n",
      "epoch 83 | loss: 0.12505 | train_balanced_accuracy: 0.99872 | train_logloss: 0.00584 | train_accuracy: 0.99869 | valid_balanced_accuracy: 0.97882 | valid_logloss: 0.07894 | valid_accuracy: 0.97848 |  0:03:52s\n",
      "epoch 84 | loss: 0.12621 | train_balanced_accuracy: 0.9983  | train_logloss: 0.00676 | train_accuracy: 0.99838 | valid_balanced_accuracy: 0.97968 | valid_logloss: 0.08029 | valid_accuracy: 0.97904 |  0:03:55s\n",
      "epoch 85 | loss: 0.1248  | train_balanced_accuracy: 0.99815 | train_logloss: 0.00833 | train_accuracy: 0.99806 | valid_balanced_accuracy: 0.97585 | valid_logloss: 0.08357 | valid_accuracy: 0.97565 |  0:03:57s\n",
      "epoch 86 | loss: 0.12013 | train_balanced_accuracy: 0.99831 | train_logloss: 0.00642 | train_accuracy: 0.99849 | valid_balanced_accuracy: 0.97831 | valid_logloss: 0.0805  | valid_accuracy: 0.97754 |  0:04:00s\n",
      "epoch 87 | loss: 0.12698 | train_balanced_accuracy: 0.99835 | train_logloss: 0.00878 | train_accuracy: 0.9983  | valid_balanced_accuracy: 0.97573 | valid_logloss: 0.08356 | valid_accuracy: 0.97528 |  0:04:03s\n",
      "epoch 88 | loss: 0.12507 | train_balanced_accuracy: 0.99835 | train_logloss: 0.00746 | train_accuracy: 0.99828 | valid_balanced_accuracy: 0.97652 | valid_logloss: 0.08404 | valid_accuracy: 0.97609 |  0:04:06s\n",
      "epoch 89 | loss: 0.1263  | train_balanced_accuracy: 0.99714 | train_logloss: 0.00999 | train_accuracy: 0.99725 | valid_balanced_accuracy: 0.97746 | valid_logloss: 0.08692 | valid_accuracy: 0.97684 |  0:04:08s\n",
      "epoch 90 | loss: 0.12342 | train_balanced_accuracy: 0.99914 | train_logloss: 0.00487 | train_accuracy: 0.99921 | valid_balanced_accuracy: 0.98005 | valid_logloss: 0.07961 | valid_accuracy: 0.97942 |  0:04:11s\n",
      "epoch 91 | loss: 0.12245 | train_balanced_accuracy: 0.99786 | train_logloss: 0.00884 | train_accuracy: 0.99803 | valid_balanced_accuracy: 0.97576 | valid_logloss: 0.0896  | valid_accuracy: 0.97565 |  0:04:14s\n",
      "epoch 92 | loss: 0.1235  | train_balanced_accuracy: 0.99803 | train_logloss: 0.00812 | train_accuracy: 0.99798 | valid_balanced_accuracy: 0.97581 | valid_logloss: 0.09333 | valid_accuracy: 0.97503 |  0:04:17s\n",
      "epoch 93 | loss: 0.12296 | train_balanced_accuracy: 0.99886 | train_logloss: 0.00575 | train_accuracy: 0.99888 | valid_balanced_accuracy: 0.97722 | valid_logloss: 0.07868 | valid_accuracy: 0.97716 |  0:04:19s\n",
      "epoch 94 | loss: 0.12023 | train_balanced_accuracy: 0.99832 | train_logloss: 0.00694 | train_accuracy: 0.99838 | valid_balanced_accuracy: 0.97694 | valid_logloss: 0.08286 | valid_accuracy: 0.97641 |  0:04:22s\n",
      "epoch 95 | loss: 0.11976 | train_balanced_accuracy: 0.9987  | train_logloss: 0.00629 | train_accuracy: 0.99871 | valid_balanced_accuracy: 0.97729 | valid_logloss: 0.0817  | valid_accuracy: 0.97641 |  0:04:24s\n",
      "epoch 96 | loss: 0.11953 | train_balanced_accuracy: 0.99871 | train_logloss: 0.00638 | train_accuracy: 0.99876 | valid_balanced_accuracy: 0.97787 | valid_logloss: 0.08166 | valid_accuracy: 0.97697 |  0:04:27s\n",
      "epoch 97 | loss: 0.12577 | train_balanced_accuracy: 0.99645 | train_logloss: 0.01131 | train_accuracy: 0.99653 | valid_balanced_accuracy: 0.97601 | valid_logloss: 0.08752 | valid_accuracy: 0.97559 |  0:04:30s\n",
      "epoch 98 | loss: 0.12538 | train_balanced_accuracy: 0.99904 | train_logloss: 0.00666 | train_accuracy: 0.99898 | valid_balanced_accuracy: 0.97872 | valid_logloss: 0.07347 | valid_accuracy: 0.97797 |  0:04:33s\n",
      "epoch 99 | loss: 0.11897 | train_balanced_accuracy: 0.99849 | train_logloss: 0.0061  | train_accuracy: 0.99872 | valid_balanced_accuracy: 0.97841 | valid_logloss: 0.07809 | valid_accuracy: 0.9776  |  0:04:35s\n",
      "Stop training because you reached max_epochs = 100 with best_epoch = 90 and best_valid_accuracy = 0.97942\n",
      "\n",
      "Successfully saved training history\n",
      "Successfully saved model at /mnt/c/Users/vadim/scRNA/scParadise/scAdam/PBMC/3p/scparadise/models/model_tuned_final/model.zip\n"
     ]
    }
   ],
   "source": [
    "scparadise.scadam.train_tuned(adata_balanced,\n",
    "                              path_tuned='/mnt/c/Users/vadim/scRNA/scParadise/scAdam/PBMC/3p/scparadise/models/model_tuning_final/',\n",
    "                              path='/mnt/c/Users/vadim/scRNA/scParadise/scAdam/PBMC/3p/scparadise/models/',\n",
    "                              model_name='model_tuned_final',\n",
    "                              celltype_l1='celltype_l1',\n",
    "                              celltype_l2='celltype_l2',\n",
    "                              celltype_l3='celltype_l3',\n",
    "                              eval_metric=['balanced_accuracy', 'logloss', 'accuracy'])"
   ]
  },
  {
   "cell_type": "code",
   "execution_count": 24,
   "id": "7bdf010a-7e9e-4467-87b1-31e75b588f5e",
   "metadata": {
    "scrolled": true
   },
   "outputs": [
    {
     "name": "stdout",
     "output_type": "stream",
     "text": [
      "Successfully loaded list of genes used for training model\n",
      "\n",
      "Successfully loaded dictionary of dataset annotations\n",
      "\n",
      "Successfully loaded model\n",
      "\n",
      "Successfully added predicted celltype_l1 and cell type probabilities\n",
      "Successfully added predicted celltype_l2 and cell type probabilities\n",
      "Successfully added predicted celltype_l3 and cell type probabilities\n",
      "Successfully saved report\n",
      "\n",
      "Successfully saved report\n",
      "\n",
      "Successfully saved report\n",
      "\n",
      "Successfully loaded list of genes used for training model\n",
      "\n",
      "Successfully loaded dictionary of dataset annotations\n",
      "\n",
      "Successfully loaded model\n",
      "\n",
      "Successfully added predicted celltype_l1 and cell type probabilities\n",
      "Successfully added predicted celltype_l2 and cell type probabilities\n",
      "Successfully added predicted celltype_l3 and cell type probabilities\n",
      "Successfully saved report\n",
      "\n",
      "Successfully saved report\n",
      "\n",
      "Successfully saved report\n",
      "\n",
      "Successfully loaded list of genes used for training model\n",
      "\n",
      "Successfully loaded dictionary of dataset annotations\n",
      "\n",
      "Successfully loaded model\n",
      "\n",
      "Successfully added predicted celltype_l1 and cell type probabilities\n",
      "Successfully added predicted celltype_l2 and cell type probabilities\n",
      "Successfully added predicted celltype_l3 and cell type probabilities\n",
      "Successfully saved report\n",
      "\n",
      "Successfully saved report\n",
      "\n",
      "Successfully saved report\n",
      "\n",
      "Successfully loaded list of genes used for training model\n",
      "\n",
      "Successfully loaded dictionary of dataset annotations\n",
      "\n",
      "Successfully loaded model\n",
      "\n",
      "Successfully added predicted celltype_l1 and cell type probabilities\n",
      "Successfully added predicted celltype_l2 and cell type probabilities\n",
      "Successfully added predicted celltype_l3 and cell type probabilities\n",
      "Successfully saved report\n",
      "\n",
      "Successfully saved report\n",
      "\n",
      "Successfully saved report\n",
      "\n",
      "Successfully loaded list of genes used for training model\n",
      "\n",
      "Successfully loaded dictionary of dataset annotations\n",
      "\n",
      "Successfully loaded model\n",
      "\n",
      "Successfully added predicted celltype_l1 and cell type probabilities\n",
      "Successfully added predicted celltype_l2 and cell type probabilities\n",
      "Successfully added predicted celltype_l3 and cell type probabilities\n",
      "Successfully saved report\n",
      "\n",
      "Successfully saved report\n",
      "\n",
      "Successfully saved report\n",
      "\n",
      "Successfully loaded list of genes used for training model\n",
      "\n",
      "Successfully loaded dictionary of dataset annotations\n",
      "\n",
      "Successfully loaded model\n",
      "\n",
      "Successfully added predicted celltype_l1 and cell type probabilities\n",
      "Successfully added predicted celltype_l2 and cell type probabilities\n",
      "Successfully added predicted celltype_l3 and cell type probabilities\n",
      "Successfully saved report\n",
      "\n",
      "Successfully saved report\n",
      "\n",
      "Successfully saved report\n",
      "\n",
      "Successfully loaded list of genes used for training model\n",
      "\n",
      "Successfully loaded dictionary of dataset annotations\n",
      "\n",
      "Successfully loaded model\n",
      "\n",
      "Successfully added predicted celltype_l1 and cell type probabilities\n",
      "Successfully added predicted celltype_l2 and cell type probabilities\n",
      "Successfully added predicted celltype_l3 and cell type probabilities\n",
      "Successfully saved report\n",
      "\n",
      "Successfully saved report\n",
      "\n",
      "Successfully saved report\n",
      "\n",
      "Successfully loaded list of genes used for training model\n",
      "\n",
      "Successfully loaded dictionary of dataset annotations\n",
      "\n",
      "Successfully loaded model\n",
      "\n",
      "Successfully added predicted celltype_l1 and cell type probabilities\n",
      "Successfully added predicted celltype_l2 and cell type probabilities\n",
      "Successfully added predicted celltype_l3 and cell type probabilities\n",
      "Successfully saved report\n",
      "\n",
      "Successfully saved report\n",
      "\n",
      "Successfully saved report\n",
      "\n"
     ]
    }
   ],
   "source": [
    "for folder in lst_test:\n",
    "    adata_test = adata[adata.obs['orig.ident'].isin([folder[0:4], folder[5:9]])].copy()\n",
    "    # Predict annotation levels using pretrained scadam model\n",
    "    adata_test = scparadise.scadam.predict(adata_test, \n",
    "                                           path_model = '/mnt/c/Users/vadim/scRNA/scParadise/scAdam/PBMC/3p/scparadise/models/model_tuned_final/')\n",
    "    # Create and save classification report of annotation levels\n",
    "    scparadise.scnoah.report_classif_full(adata_test, \n",
    "                                          celltype = 'celltype_l1', \n",
    "                                          pred_celltype='pred_celltype_l1', \n",
    "                                          report_name = 'report_test_model_scadam_tuned_celltype_l1.csv',\n",
    "                                          save_path = os.path.join('/mnt/c/Users/vadim/scRNA/scParadise/scAdam/PBMC/3p/scparadise/reports_small/', folder).replace(\"\\\\\",\"/\"),\n",
    "                                          save_report=True)\n",
    "    scparadise.scnoah.report_classif_full(adata_test, \n",
    "                                          celltype = 'celltype_l2', \n",
    "                                          pred_celltype='pred_celltype_l2', \n",
    "                                          report_name = 'report_test_model_scadam_tuned_celltype_l2.csv',\n",
    "                                          save_path = os.path.join('/mnt/c/Users/vadim/scRNA/scParadise/scAdam/PBMC/3p/scparadise/reports_small/', folder).replace(\"\\\\\",\"/\"),\n",
    "                                          save_report=True)\n",
    "    scparadise.scnoah.report_classif_full(adata_test, \n",
    "                                          celltype = 'celltype_l3', \n",
    "                                          pred_celltype='pred_celltype_l3', \n",
    "                                          report_name = 'report_test_model_scadam_tuned_celltype_l3.csv',\n",
    "                                          save_path = os.path.join('/mnt/c/Users/vadim/scRNA/scParadise/scAdam/PBMC/3p/scparadise/reports_small/', folder).replace(\"\\\\\",\"/\"),\n",
    "                                          save_report=True)"
   ]
  },
  {
   "cell_type": "code",
   "execution_count": null,
   "id": "2c8f755e-47eb-4853-b9fe-0a35d47ab19c",
   "metadata": {},
   "outputs": [],
   "source": []
  },
  {
   "cell_type": "code",
   "execution_count": 25,
   "id": "4217a767-d129-4ff3-aecc-cddcfd4c0f05",
   "metadata": {},
   "outputs": [
    {
     "name": "stdout",
     "output_type": "stream",
     "text": [
      "Package                       Version\n",
      "----------------------------- --------------\n",
      "absl-py                       2.1.0\n",
      "adjustText                    1.2.0\n",
      "aiohappyeyeballs              2.3.6\n",
      "aiohttp                       3.10.3\n",
      "aiosignal                     1.3.1\n",
      "alabaster                     1.0.0\n",
      "alembic                       1.13.2\n",
      "anndata                       0.10.8\n",
      "annoy                         1.17.3\n",
      "anyio                         4.4.0\n",
      "appdirs                       1.4.4\n",
      "argon2-cffi                   23.1.0\n",
      "argon2-cffi-bindings          21.2.0\n",
      "array_api_compat              1.8\n",
      "arrow                         1.3.0\n",
      "asttokens                     2.4.1\n",
      "async-lru                     2.0.4\n",
      "attrs                         24.2.0\n",
      "Babel                         2.14.0\n",
      "beautifulsoup4                4.12.3\n",
      "bleach                        6.1.0\n",
      "bokeh                         3.4.2\n",
      "branca                        0.7.2\n",
      "Brotli                        1.1.0\n",
      "cached-property               1.5.2\n",
      "cachetools                    5.4.0\n",
      "certifi                       2024.7.4\n",
      "cffi                          1.17.0\n",
      "charset-normalizer            3.3.2\n",
      "chex                          0.1.86\n",
      "click                         8.1.7\n",
      "cloudpickle                   3.0.0\n",
      "colorama                      0.4.6\n",
      "colorcet                      3.1.0\n",
      "colorlog                      6.8.2\n",
      "comm                          0.2.2\n",
      "confluent-kafka               1.9.2\n",
      "contextlib2                   21.6.0\n",
      "contourpy                     1.2.1\n",
      "cubinlinker                   0.3.0\n",
      "cucim                         24.6.0\n",
      "cuda-python                   11.8.3\n",
      "cudf                          24.6.1\n",
      "cudf_kafka                    24.6.1\n",
      "cugraph                       24.6.1\n",
      "cuml                          24.6.1\n",
      "cuproj                        24.6.0\n",
      "cupy                          13.2.0\n",
      "cuspatial                     24.6.0\n",
      "custreamz                     24.6.1\n",
      "cuvs                          24.6.0\n",
      "cuxfilter                     24.6.0\n",
      "cycler                        0.12.1\n",
      "cytoolz                       0.12.3\n",
      "dask                          2024.5.1\n",
      "dask-cuda                     24.6.0\n",
      "dask-cudf                     24.6.1\n",
      "dask-expr                     1.1.1\n",
      "datashader                    0.16.3\n",
      "debugpy                       1.8.5\n",
      "decorator                     5.1.1\n",
      "decoupler                     1.8.0\n",
      "defusedxml                    0.7.1\n",
      "Deprecated                    1.2.14\n",
      "distributed                   2024.5.1\n",
      "distributed-ucxx              0.38.0\n",
      "docrep                        0.3.2\n",
      "docutils                      0.21.2\n",
      "entrypoints                   0.4\n",
      "etils                         1.9.2\n",
      "exceptiongroup                1.2.2\n",
      "executing                     2.0.1\n",
      "fa2                           0.3.5\n",
      "fastjsonschema                2.20.0\n",
      "fastrlock                     0.8.2\n",
      "fbpca                         1.0\n",
      "filelock                      3.15.4\n",
      "flax                          0.8.5\n",
      "folium                        0.17.0\n",
      "fonttools                     4.53.1\n",
      "fqdn                          1.5.1\n",
      "frozenlist                    1.4.1\n",
      "fsspec                        2024.6.1\n",
      "GDAL                          3.8.1\n",
      "gdown                         5.2.0\n",
      "geopandas                     1.0.1\n",
      "geosketch                     1.2\n",
      "greenlet                      3.0.3\n",
      "h11                           0.14.0\n",
      "h2                            4.1.0\n",
      "h5py                          3.11.0\n",
      "harmony-pytorch               0.1.8\n",
      "harmonypy                     0.0.10\n",
      "holoviews                     1.19.1\n",
      "hpack                         4.0.0\n",
      "httpcore                      1.0.5\n",
      "httpx                         0.27.0\n",
      "hyperframe                    6.0.1\n",
      "idna                          3.7\n",
      "igraph                        0.11.6\n",
      "imagecodecs-lite              2019.12.3\n",
      "imageio                       2.34.2\n",
      "imagesize                     1.4.1\n",
      "imbalanced-learn              0.12.3\n",
      "importlib_metadata            8.2.0\n",
      "importlib_resources           6.4.2\n",
      "inflect                       7.3.1\n",
      "intervaltree                  3.1.0\n",
      "ipykernel                     6.29.5\n",
      "ipython                       8.26.0\n",
      "isoduration                   20.11.0\n",
      "jax                           0.4.31\n",
      "jax-cuda12-pjrt               0.4.31\n",
      "jax-cuda12-plugin             0.4.31\n",
      "jaxlib                        0.4.31\n",
      "jedi                          0.19.1\n",
      "Jinja2                        3.1.4\n",
      "joblib                        1.4.2\n",
      "json5                         0.9.25\n",
      "jsonpointer                   3.0.0\n",
      "jsonschema                    4.23.0\n",
      "jsonschema-specifications     2023.12.1\n",
      "jupyter_client                8.6.2\n",
      "jupyter_core                  5.7.2\n",
      "jupyter-events                0.10.0\n",
      "jupyter-lsp                   2.2.5\n",
      "jupyter_server                2.14.2\n",
      "jupyter_server_proxy          4.3.0\n",
      "jupyter_server_terminals      0.5.3\n",
      "jupyterlab                    4.2.4\n",
      "jupyterlab_pygments           0.3.0\n",
      "jupyterlab_server             2.27.3\n",
      "kiwisolver                    1.4.5\n",
      "lazy_loader                   0.4\n",
      "legacy-api-wrap               1.4\n",
      "legendkit                     0.3.4\n",
      "leidenalg                     0.10.2\n",
      "lightning                     2.1.4\n",
      "lightning-utilities           0.11.6\n",
      "linkify-it-py                 2.0.3\n",
      "llvmlite                      0.43.0\n",
      "locket                        1.0.0\n",
      "loompy                        3.0.7\n",
      "louvain                       0.8.2\n",
      "lz4                           4.3.3\n",
      "Mako                          1.3.5\n",
      "mapclassify                   2.8.0\n",
      "Markdown                      3.6\n",
      "markdown-it-py                3.0.0\n",
      "MarkupSafe                    2.1.5\n",
      "marsilea                      0.4.5\n",
      "matplotlib                    3.9.2\n",
      "matplotlib-inline             0.1.7\n",
      "mdit-py-plugins               0.4.1\n",
      "mdurl                         0.1.2\n",
      "mistune                       3.0.2\n",
      "ml_collections                0.1.1\n",
      "ml-dtypes                     0.4.0\n",
      "more-itertools                10.4.0\n",
      "mpmath                        1.3.0\n",
      "msgpack                       1.0.8\n",
      "mudata                        0.3.0\n",
      "multidict                     6.0.5\n",
      "multipledispatch              0.6.0\n",
      "munkres                       1.1.4\n",
      "muon                          0.1.6\n",
      "natsort                       8.4.0\n",
      "nbclient                      0.10.0\n",
      "nbconvert                     7.16.4\n",
      "nbformat                      5.10.4\n",
      "nest_asyncio                  1.6.0\n",
      "networkx                      3.3\n",
      "notebook_shim                 0.2.4\n",
      "numba                         0.60.0\n",
      "numpy                         1.24.4\n",
      "numpy-groupies                0.11.2\n",
      "numpyro                       0.15.2\n",
      "nvidia-cublas-cu12            12.1.3.1\n",
      "nvidia-cuda-cupti-cu12        12.1.105\n",
      "nvidia-cuda-nvcc-cu12         12.6.20\n",
      "nvidia-cuda-nvrtc-cu12        12.1.105\n",
      "nvidia-cuda-runtime-cu12      12.1.105\n",
      "nvidia-cudnn-cu12             9.1.0.70\n",
      "nvidia-cufft-cu12             11.0.2.54\n",
      "nvidia-curand-cu12            10.3.2.106\n",
      "nvidia-cusolver-cu12          11.4.5.107\n",
      "nvidia-cusparse-cu12          12.1.0.106\n",
      "nvidia-nccl-cu12              2.20.5\n",
      "nvidia-nvjitlink-cu12         12.6.20\n",
      "nvidia-nvtx-cu12              12.1.105\n",
      "nvtx                          0.2.10\n",
      "nx-cugraph                    24.6.1\n",
      "omnipath                      1.0.8\n",
      "opt-einsum                    3.3.0\n",
      "optax                         0.2.3\n",
      "optuna                        3.6.1\n",
      "orbax-checkpoint              0.5.23\n",
      "overrides                     7.7.0\n",
      "packaging                     24.1\n",
      "pandas                        2.2.2\n",
      "pandocfilters                 1.5.0\n",
      "panel                         1.4.5\n",
      "param                         2.1.1\n",
      "parso                         0.8.4\n",
      "partd                         1.4.2\n",
      "patsy                         0.5.6\n",
      "pexpect                       4.9.0\n",
      "pickleshare                   0.7.5\n",
      "pillow                        10.3.0\n",
      "pip                           24.2\n",
      "pkgutil_resolve_name          1.3.10\n",
      "platformdirs                  4.2.2\n",
      "prometheus_client             0.20.0\n",
      "prompt_toolkit                3.0.47\n",
      "protobuf                      5.27.3\n",
      "psutil                        6.0.0\n",
      "ptxcompiler                   0.8.1\n",
      "ptyprocess                    0.7.0\n",
      "pure_eval                     0.2.3\n",
      "pyarrow                       16.1.0\n",
      "pyarrow-hotfix                0.6\n",
      "pycparser                     2.22\n",
      "pyct                          0.5.0\n",
      "pydeseq2                      0.4.10\n",
      "pydot                         3.0.1\n",
      "pyee                          8.1.0\n",
      "Pygments                      2.18.0\n",
      "pylibcugraph                  24.6.1\n",
      "pylibraft                     24.6.0\n",
      "pymde                         0.1.16\n",
      "pynndescent                   0.5.13\n",
      "pynvml                        11.4.1\n",
      "pyogrio                       0.7.2\n",
      "pyparsing                     3.1.2\n",
      "pyppeteer                     1.0.2\n",
      "pyproj                        3.6.1\n",
      "PyQt5                         5.15.11\n",
      "PyQt5-Qt5                     5.15.14\n",
      "PyQt5_sip                     12.15.0\n",
      "pyro-api                      0.1.2\n",
      "pyro-ppl                      1.9.1\n",
      "PySide2                       5.13.2\n",
      "PySocks                       1.7.1\n",
      "python-dateutil               2.9.0\n",
      "python-igraph                 0.11.6\n",
      "python-json-logger            2.0.7\n",
      "pytorch-lightning             2.4.0\n",
      "pytorch-tabnet                4.1.0\n",
      "pytz                          2024.1\n",
      "pyviz_comms                   3.0.3\n",
      "PyWavelets                    1.7.0\n",
      "PyYAML                        6.0.2\n",
      "pyzmq                         26.1.0\n",
      "raft-dask                     24.6.0\n",
      "rapids-dask-dependency        24.6.0a0\n",
      "rapids_singlecell             0.10.8\n",
      "referencing                   0.35.1\n",
      "requests                      2.32.3\n",
      "rfc3339-validator             0.1.4\n",
      "rfc3986-validator             0.1.1\n",
      "rich                          13.7.1\n",
      "rmm                           24.6.0\n",
      "rpds-py                       0.20.0\n",
      "scanorama                     1.7.4\n",
      "scanpy                        1.10.2\n",
      "scib                          1.1.5\n",
      "scikit-image                  0.20.0\n",
      "scikit-learn                  1.5.1\n",
      "scikit-misc                   0.5.1\n",
      "scipy                         1.13.1\n",
      "scparadise                    0.1.0b0\n",
      "scselpy                       1.1.7\n",
      "scvelo                        0.3.2\n",
      "scvi-tools                    1.1.5\n",
      "seaborn                       0.13.2\n",
      "Send2Trash                    1.8.3\n",
      "session-info                  1.0.0\n",
      "setuptools                    72.1.0\n",
      "shapely                       2.0.4\n",
      "shiboken2                     5.13.2\n",
      "simpervisor                   1.0.0\n",
      "six                           1.16.0\n",
      "sniffio                       1.3.1\n",
      "snowballstemmer               2.2.0\n",
      "sortedcontainers              2.4.0\n",
      "soupsieve                     2.5\n",
      "Sphinx                        8.0.2\n",
      "sphinx-autodoc-typehints      2.3.0\n",
      "sphinxcontrib-applehelp       2.0.0\n",
      "sphinxcontrib-devhelp         2.0.0\n",
      "sphinxcontrib-htmlhelp        2.1.0\n",
      "sphinxcontrib-jsmath          1.0.1\n",
      "sphinxcontrib-qthelp          2.0.0\n",
      "sphinxcontrib-serializinghtml 2.0.0\n",
      "SQLAlchemy                    2.0.32\n",
      "stack-data                    0.6.2\n",
      "statsmodels                   0.14.2\n",
      "stdlib-list                   0.10.0\n",
      "streamz                       0.6.4\n",
      "sympy                         1.13.2\n",
      "tblib                         3.0.0\n",
      "tensorstore                   0.1.64\n",
      "terminado                     0.18.1\n",
      "texttable                     1.7.0\n",
      "threadpoolctl                 3.5.0\n",
      "tifffile                      2020.6.3\n",
      "tinycss2                      1.3.0\n",
      "tomli                         2.0.1\n",
      "toolz                         0.12.1\n",
      "torch                         2.4.0\n",
      "torchmetrics                  1.4.1\n",
      "torchvision                   0.19.0\n",
      "tornado                       6.4.1\n",
      "tqdm                          4.66.5\n",
      "traitlets                     5.14.3\n",
      "treelite                      4.1.2\n",
      "triton                        3.0.0\n",
      "typeguard                     4.3.0\n",
      "types-python-dateutil         2.9.0.20240316\n",
      "typing_extensions             4.12.2\n",
      "typing-utils                  0.1.0\n",
      "tzdata                        2024.1\n",
      "uc-micro-py                   1.0.3\n",
      "ucx-py                        0.38.0\n",
      "ucxx                          0.38.0\n",
      "umap-learn                    0.5.6\n",
      "uri-template                  1.3.0\n",
      "urllib3                       1.26.19\n",
      "velovi                        0.3.1\n",
      "wcwidth                       0.2.13\n",
      "webcolors                     24.8.0\n",
      "webencodings                  0.5.1\n",
      "websocket-client              1.8.0\n",
      "websockets                    10.4\n",
      "wget                          3.2\n",
      "wheel                         0.44.0\n",
      "wrapt                         1.16.0\n",
      "xarray                        2024.7.0\n",
      "xgboost                       2.0.3\n",
      "xyzservices                   2024.6.0\n",
      "yarl                          1.9.4\n",
      "zict                          3.0.0\n",
      "zipp                          3.20.0\n",
      "Note: you may need to restart the kernel to use updated packages.\n"
     ]
    }
   ],
   "source": [
    "pip list"
   ]
  }
 ],
 "metadata": {
  "kernelspec": {
   "display_name": "Python 3 (ipykernel)",
   "language": "python",
   "name": "python3"
  },
  "language_info": {
   "codemirror_mode": {
    "name": "ipython",
    "version": 3
   },
   "file_extension": ".py",
   "mimetype": "text/x-python",
   "name": "python",
   "nbconvert_exporter": "python",
   "pygments_lexer": "ipython3",
   "version": "3.11.9"
  }
 },
 "nbformat": 4,
 "nbformat_minor": 5
}
